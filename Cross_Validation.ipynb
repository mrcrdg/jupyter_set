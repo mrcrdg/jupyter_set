{
  "nbformat": 4,
  "nbformat_minor": 0,
  "metadata": {
    "colab": {
      "name": "Cross Validation.ipynb",
      "provenance": [],
      "include_colab_link": true
    },
    "kernelspec": {
      "name": "python3",
      "display_name": "Python 3"
    }
  },
  "cells": [
    {
      "cell_type": "markdown",
      "metadata": {
        "id": "view-in-github",
        "colab_type": "text"
      },
      "source": [
        "<a href=\"https://colab.research.google.com/github/mrcrdg/jupyter_set/blob/master/Cross_Validation.ipynb\" target=\"_parent\"><img src=\"https://colab.research.google.com/assets/colab-badge.svg\" alt=\"Open In Colab\"/></a>"
      ]
    },
    {
      "cell_type": "markdown",
      "metadata": {
        "id": "tlvn8SpRhChJ"
      },
      "source": [
        "# Cross Validation"
      ]
    },
    {
      "cell_type": "markdown",
      "metadata": {
        "id": "JsaFV7iP9uIn"
      },
      "source": [
        "## k-fold Cross Validation"
      ]
    },
    {
      "cell_type": "markdown",
      "metadata": {
        "id": "62DHnXtkkv4N"
      },
      "source": [
        "### Toy example:"
      ]
    },
    {
      "cell_type": "code",
      "metadata": {
        "id": "_Exc83gohKFM"
      },
      "source": [
        "from numpy import array\n",
        "from sklearn.model_selection import KFold"
      ],
      "execution_count": null,
      "outputs": []
    },
    {
      "cell_type": "markdown",
      "metadata": {
        "id": "geJj5kbJkL_b"
      },
      "source": [
        "Create the sample data\n"
      ]
    },
    {
      "cell_type": "code",
      "metadata": {
        "id": "nunYftyWkRYF"
      },
      "source": [
        "data = array([0.1, 0.2, 0.3, 0.4, 0.5, 0.6])"
      ],
      "execution_count": null,
      "outputs": []
    },
    {
      "cell_type": "markdown",
      "metadata": {
        "id": "FnALC6jhkVK1"
      },
      "source": [
        "Create the `KFold`"
      ]
    },
    {
      "cell_type": "code",
      "metadata": {
        "id": "94-nrZtHkYoM"
      },
      "source": [
        "kfold = KFold(n_splits=3)"
      ],
      "execution_count": null,
      "outputs": []
    },
    {
      "cell_type": "markdown",
      "metadata": {
        "id": "2HB-rY_ZjfNE"
      },
      "source": [
        "List the content of each Fold:"
      ]
    },
    {
      "cell_type": "code",
      "metadata": {
        "colab": {
          "base_uri": "https://localhost:8080/"
        },
        "id": "ZgVkcTxQkenr",
        "outputId": "e99e460d-74a8-459b-bf6f-e0351c8bcec1"
      },
      "source": [
        "for train, test in kfold.split(data):\n",
        "  print(\"train: {}, test: {}\".format(data[train], data[test]))"
      ],
      "execution_count": null,
      "outputs": [
        {
          "output_type": "stream",
          "text": [
            "train: [0.3 0.4 0.5 0.6], test: [0.1 0.2]\n",
            "train: [0.1 0.2 0.5 0.6], test: [0.3 0.4]\n",
            "train: [0.1 0.2 0.3 0.4], test: [0.5 0.6]\n"
          ],
          "name": "stdout"
        }
      ]
    },
    {
      "cell_type": "markdown",
      "metadata": {
        "id": "TDEz3gwDki_G"
      },
      "source": [
        "### A more detailed example:"
      ]
    },
    {
      "cell_type": "markdown",
      "metadata": {
        "id": "Z1nKMQ5yxna4"
      },
      "source": [
        "First we will download the [Sonar dataset](https://archive.ics.uci.edu/ml/datasets/Connectionist+Bench+(Sonar,+Mines+vs.+Rocks)) which classifies sonar data into rocks and mines."
      ]
    },
    {
      "cell_type": "code",
      "metadata": {
        "colab": {
          "base_uri": "https://localhost:8080/"
        },
        "id": "BhUN89EXsKKL",
        "outputId": "d6ead14f-c820-4cb3-846f-e1bc0a500f5c"
      },
      "source": [
        "! wget -c https://archive.ics.uci.edu/ml/machine-learning-databases/undocumented/connectionist-bench/sonar/sonar.all-data"
      ],
      "execution_count": null,
      "outputs": [
        {
          "output_type": "stream",
          "text": [
            "--2020-11-20 13:37:35--  https://archive.ics.uci.edu/ml/machine-learning-databases/undocumented/connectionist-bench/sonar/sonar.all-data\n",
            "Resolving archive.ics.uci.edu (archive.ics.uci.edu)... 128.195.10.252\n",
            "Connecting to archive.ics.uci.edu (archive.ics.uci.edu)|128.195.10.252|:443... connected.\n",
            "HTTP request sent, awaiting response... 200 OK\n",
            "Length: 87776 (86K) [application/x-httpd-php]\n",
            "Saving to: ‘sonar.all-data’\n",
            "\n",
            "sonar.all-data      100%[===================>]  85.72K  --.-KB/s    in 0.06s   \n",
            "\n",
            "2020-11-20 13:37:36 (1.43 MB/s) - ‘sonar.all-data’ saved [87776/87776]\n",
            "\n"
          ],
          "name": "stdout"
        }
      ]
    },
    {
      "cell_type": "code",
      "metadata": {
        "colab": {
          "base_uri": "https://localhost:8080/"
        },
        "id": "myW8Y0H1sMqz",
        "outputId": "af615c7a-aa73-4229-823a-f4d9a9ff071f"
      },
      "source": [
        "!head -10 sonar.all-data"
      ],
      "execution_count": null,
      "outputs": [
        {
          "output_type": "stream",
          "text": [
            "0.0200,0.0371,0.0428,0.0207,0.0954,0.0986,0.1539,0.1601,0.3109,0.2111,0.1609,0.1582,0.2238,0.0645,0.0660,0.2273,0.3100,0.2999,0.5078,0.4797,0.5783,0.5071,0.4328,0.5550,0.6711,0.6415,0.7104,0.8080,0.6791,0.3857,0.1307,0.2604,0.5121,0.7547,0.8537,0.8507,0.6692,0.6097,0.4943,0.2744,0.0510,0.2834,0.2825,0.4256,0.2641,0.1386,0.1051,0.1343,0.0383,0.0324,0.0232,0.0027,0.0065,0.0159,0.0072,0.0167,0.0180,0.0084,0.0090,0.0032,R\n",
            "0.0453,0.0523,0.0843,0.0689,0.1183,0.2583,0.2156,0.3481,0.3337,0.2872,0.4918,0.6552,0.6919,0.7797,0.7464,0.9444,1.0000,0.8874,0.8024,0.7818,0.5212,0.4052,0.3957,0.3914,0.3250,0.3200,0.3271,0.2767,0.4423,0.2028,0.3788,0.2947,0.1984,0.2341,0.1306,0.4182,0.3835,0.1057,0.1840,0.1970,0.1674,0.0583,0.1401,0.1628,0.0621,0.0203,0.0530,0.0742,0.0409,0.0061,0.0125,0.0084,0.0089,0.0048,0.0094,0.0191,0.0140,0.0049,0.0052,0.0044,R\n",
            "0.0262,0.0582,0.1099,0.1083,0.0974,0.2280,0.2431,0.3771,0.5598,0.6194,0.6333,0.7060,0.5544,0.5320,0.6479,0.6931,0.6759,0.7551,0.8929,0.8619,0.7974,0.6737,0.4293,0.3648,0.5331,0.2413,0.5070,0.8533,0.6036,0.8514,0.8512,0.5045,0.1862,0.2709,0.4232,0.3043,0.6116,0.6756,0.5375,0.4719,0.4647,0.2587,0.2129,0.2222,0.2111,0.0176,0.1348,0.0744,0.0130,0.0106,0.0033,0.0232,0.0166,0.0095,0.0180,0.0244,0.0316,0.0164,0.0095,0.0078,R\n",
            "0.0100,0.0171,0.0623,0.0205,0.0205,0.0368,0.1098,0.1276,0.0598,0.1264,0.0881,0.1992,0.0184,0.2261,0.1729,0.2131,0.0693,0.2281,0.4060,0.3973,0.2741,0.3690,0.5556,0.4846,0.3140,0.5334,0.5256,0.2520,0.2090,0.3559,0.6260,0.7340,0.6120,0.3497,0.3953,0.3012,0.5408,0.8814,0.9857,0.9167,0.6121,0.5006,0.3210,0.3202,0.4295,0.3654,0.2655,0.1576,0.0681,0.0294,0.0241,0.0121,0.0036,0.0150,0.0085,0.0073,0.0050,0.0044,0.0040,0.0117,R\n",
            "0.0762,0.0666,0.0481,0.0394,0.0590,0.0649,0.1209,0.2467,0.3564,0.4459,0.4152,0.3952,0.4256,0.4135,0.4528,0.5326,0.7306,0.6193,0.2032,0.4636,0.4148,0.4292,0.5730,0.5399,0.3161,0.2285,0.6995,1.0000,0.7262,0.4724,0.5103,0.5459,0.2881,0.0981,0.1951,0.4181,0.4604,0.3217,0.2828,0.2430,0.1979,0.2444,0.1847,0.0841,0.0692,0.0528,0.0357,0.0085,0.0230,0.0046,0.0156,0.0031,0.0054,0.0105,0.0110,0.0015,0.0072,0.0048,0.0107,0.0094,R\n",
            "0.0286,0.0453,0.0277,0.0174,0.0384,0.0990,0.1201,0.1833,0.2105,0.3039,0.2988,0.4250,0.6343,0.8198,1.0000,0.9988,0.9508,0.9025,0.7234,0.5122,0.2074,0.3985,0.5890,0.2872,0.2043,0.5782,0.5389,0.3750,0.3411,0.5067,0.5580,0.4778,0.3299,0.2198,0.1407,0.2856,0.3807,0.4158,0.4054,0.3296,0.2707,0.2650,0.0723,0.1238,0.1192,0.1089,0.0623,0.0494,0.0264,0.0081,0.0104,0.0045,0.0014,0.0038,0.0013,0.0089,0.0057,0.0027,0.0051,0.0062,R\n",
            "0.0317,0.0956,0.1321,0.1408,0.1674,0.1710,0.0731,0.1401,0.2083,0.3513,0.1786,0.0658,0.0513,0.3752,0.5419,0.5440,0.5150,0.4262,0.2024,0.4233,0.7723,0.9735,0.9390,0.5559,0.5268,0.6826,0.5713,0.5429,0.2177,0.2149,0.5811,0.6323,0.2965,0.1873,0.2969,0.5163,0.6153,0.4283,0.5479,0.6133,0.5017,0.2377,0.1957,0.1749,0.1304,0.0597,0.1124,0.1047,0.0507,0.0159,0.0195,0.0201,0.0248,0.0131,0.0070,0.0138,0.0092,0.0143,0.0036,0.0103,R\n",
            "0.0519,0.0548,0.0842,0.0319,0.1158,0.0922,0.1027,0.0613,0.1465,0.2838,0.2802,0.3086,0.2657,0.3801,0.5626,0.4376,0.2617,0.1199,0.6676,0.9402,0.7832,0.5352,0.6809,0.9174,0.7613,0.8220,0.8872,0.6091,0.2967,0.1103,0.1318,0.0624,0.0990,0.4006,0.3666,0.1050,0.1915,0.3930,0.4288,0.2546,0.1151,0.2196,0.1879,0.1437,0.2146,0.2360,0.1125,0.0254,0.0285,0.0178,0.0052,0.0081,0.0120,0.0045,0.0121,0.0097,0.0085,0.0047,0.0048,0.0053,R\n",
            "0.0223,0.0375,0.0484,0.0475,0.0647,0.0591,0.0753,0.0098,0.0684,0.1487,0.1156,0.1654,0.3833,0.3598,0.1713,0.1136,0.0349,0.3796,0.7401,0.9925,0.9802,0.8890,0.6712,0.4286,0.3374,0.7366,0.9611,0.7353,0.4856,0.1594,0.3007,0.4096,0.3170,0.3305,0.3408,0.2186,0.2463,0.2726,0.1680,0.2792,0.2558,0.1740,0.2121,0.1099,0.0985,0.1271,0.1459,0.1164,0.0777,0.0439,0.0061,0.0145,0.0128,0.0145,0.0058,0.0049,0.0065,0.0093,0.0059,0.0022,R\n",
            "0.0164,0.0173,0.0347,0.0070,0.0187,0.0671,0.1056,0.0697,0.0962,0.0251,0.0801,0.1056,0.1266,0.0890,0.0198,0.1133,0.2826,0.3234,0.3238,0.4333,0.6068,0.7652,0.9203,0.9719,0.9207,0.7545,0.8289,0.8907,0.7309,0.6896,0.5829,0.4935,0.3101,0.0306,0.0244,0.1108,0.1594,0.1371,0.0696,0.0452,0.0620,0.1421,0.1597,0.1384,0.0372,0.0688,0.0867,0.0513,0.0092,0.0198,0.0118,0.0090,0.0223,0.0179,0.0084,0.0068,0.0032,0.0035,0.0056,0.0040,R\n"
          ],
          "name": "stdout"
        }
      ]
    },
    {
      "cell_type": "markdown",
      "metadata": {
        "id": "PSEXgQhRx7fJ"
      },
      "source": [
        "Perform the required imports"
      ]
    },
    {
      "cell_type": "code",
      "metadata": {
        "id": "RlJ6T_rxsSvi"
      },
      "source": [
        "import pandas as pd\n",
        "from sklearn.model_selection import train_test_split\n",
        "from sklearn.linear_model import LogisticRegression\n",
        "from sklearn.model_selection import KFold"
      ],
      "execution_count": null,
      "outputs": []
    },
    {
      "cell_type": "markdown",
      "metadata": {
        "id": "ssYEXBf7x_Px"
      },
      "source": [
        "Read and rearrange data"
      ]
    },
    {
      "cell_type": "code",
      "metadata": {
        "id": "a7bDTO-TsUqR"
      },
      "source": [
        "sonar_dataset = pd.read_csv(\"sonar.all-data\")\n",
        "sonar_X = sonar_dataset.iloc[:,:-1].values\n",
        "sonar_y = sonar_dataset.iloc[:,-1:].values"
      ],
      "execution_count": null,
      "outputs": []
    },
    {
      "cell_type": "code",
      "metadata": {
        "colab": {
          "base_uri": "https://localhost:8080/"
        },
        "id": "MHtN_IHu4NLJ",
        "outputId": "9ca74bf0-74be-4fd3-d9c6-a084e355020d"
      },
      "source": [
        "sonar_X.shape"
      ],
      "execution_count": null,
      "outputs": [
        {
          "output_type": "execute_result",
          "data": {
            "text/plain": [
              "(207, 60)"
            ]
          },
          "metadata": {
            "tags": []
          },
          "execution_count": 9
        }
      ]
    },
    {
      "cell_type": "markdown",
      "metadata": {
        "id": "fXyzFsspyJBA"
      },
      "source": [
        "Split data into train and test sets"
      ]
    },
    {
      "cell_type": "code",
      "metadata": {
        "id": "tL-ujLGSskEM"
      },
      "source": [
        "X_train, X_test, y_train, y_test = train_test_split(sonar_X, sonar_y, \n",
        "                                                    random_state=2, \n",
        "                                                    test_size=.3)"
      ],
      "execution_count": null,
      "outputs": []
    },
    {
      "cell_type": "markdown",
      "metadata": {
        "id": "a2Lm6JHGyOgs"
      },
      "source": [
        "Create the 3-fold validation"
      ]
    },
    {
      "cell_type": "code",
      "metadata": {
        "id": "OnSZQmVrk17X"
      },
      "source": [
        "k_fold = KFold(3)\n",
        "\n",
        "lr_model = LogisticRegression()\n",
        "\n",
        "models = []"
      ],
      "execution_count": null,
      "outputs": []
    },
    {
      "cell_type": "markdown",
      "metadata": {
        "id": "V8NoHQq6yVrg"
      },
      "source": [
        "Now train the classifier on each partition"
      ]
    },
    {
      "cell_type": "code",
      "metadata": {
        "colab": {
          "base_uri": "https://localhost:8080/"
        },
        "id": "giZu7ux3yaag",
        "outputId": "39f9306a-fe93-4148-89e5-a0acbe71f5ca"
      },
      "source": [
        "for k, (train, validation) in enumerate(k_fold.split(X_train, y_train)):\n",
        "    lr_model = LogisticRegression()\n",
        "    lr_model.fit(X_train[train], y_train[train].ravel())\n",
        "    models.append(lr_model)\n",
        "    print(\"[fold {}], score on validation: {:.5f}, score on test: {:.5f}, \". \n",
        "          format(k, lr_model.score(X_train[validation], y_train[validation]),\n",
        "                 lr_model.score(X_test, y_test)))"
      ],
      "execution_count": null,
      "outputs": [
        {
          "output_type": "stream",
          "text": [
            "[fold 0], score on validation: 0.81250, score on test: 0.82540, \n",
            "[fold 1], score on validation: 0.66667, score on test: 0.76190, \n",
            "[fold 2], score on validation: 0.75000, score on test: 0.68254, \n"
          ],
          "name": "stdout"
        }
      ]
    },
    {
      "cell_type": "markdown",
      "metadata": {
        "id": "4z_VHzsi96lK"
      },
      "source": [
        "## Leave One Out Cross Validation - LOOCV"
      ]
    },
    {
      "cell_type": "markdown",
      "metadata": {
        "id": "qjXlEP_7-O2f"
      },
      "source": [
        "### Toy example:"
      ]
    },
    {
      "cell_type": "code",
      "metadata": {
        "id": "Ypd31zLx-O2g"
      },
      "source": [
        "from numpy import array\n",
        "from sklearn.model_selection import LeaveOneOut"
      ],
      "execution_count": null,
      "outputs": []
    },
    {
      "cell_type": "markdown",
      "metadata": {
        "id": "sIRzX42m-O2g"
      },
      "source": [
        "Create the sample data\n"
      ]
    },
    {
      "cell_type": "code",
      "metadata": {
        "id": "3vYGVnRg-O2h"
      },
      "source": [
        "data = array([0.1, 0.2, 0.3, 0.4, 0.5, 0.6])"
      ],
      "execution_count": null,
      "outputs": []
    },
    {
      "cell_type": "markdown",
      "metadata": {
        "id": "a0ZHZAt2-O2h"
      },
      "source": [
        "Create the `LOOCV`"
      ]
    },
    {
      "cell_type": "code",
      "metadata": {
        "id": "wCcmx5q5-O2h"
      },
      "source": [
        "loocv = LeaveOneOut()"
      ],
      "execution_count": null,
      "outputs": []
    },
    {
      "cell_type": "markdown",
      "metadata": {
        "id": "48Imsd2q-O2i"
      },
      "source": [
        "List the content of each Fold:"
      ]
    },
    {
      "cell_type": "code",
      "metadata": {
        "colab": {
          "base_uri": "https://localhost:8080/"
        },
        "id": "OJHTlFfY-O2i",
        "outputId": "e698413d-b2a1-4ef2-9c5d-478d8b862770"
      },
      "source": [
        "for train, test in loocv.split(data):\n",
        "  print(\"train: {}, test: {}\".format(data[train], data[test]))"
      ],
      "execution_count": null,
      "outputs": [
        {
          "output_type": "stream",
          "text": [
            "train: [0.2 0.3 0.4 0.5 0.6], test: [0.1]\n",
            "train: [0.1 0.3 0.4 0.5 0.6], test: [0.2]\n",
            "train: [0.1 0.2 0.4 0.5 0.6], test: [0.3]\n",
            "train: [0.1 0.2 0.3 0.5 0.6], test: [0.4]\n",
            "train: [0.1 0.2 0.3 0.4 0.6], test: [0.5]\n",
            "train: [0.1 0.2 0.3 0.4 0.5], test: [0.6]\n"
          ],
          "name": "stdout"
        }
      ]
    },
    {
      "cell_type": "markdown",
      "metadata": {
        "id": "cH1l8ZpQ-oOH"
      },
      "source": [
        "### A more detailed example:"
      ]
    },
    {
      "cell_type": "markdown",
      "metadata": {
        "id": "L9s4J15T-xgW"
      },
      "source": [
        "Continue using the [Sonar dataset](https://archive.ics.uci.edu/ml/datasets/Connectionist+Bench+(Sonar,+Mines+vs.+Rocks))"
      ]
    },
    {
      "cell_type": "markdown",
      "metadata": {
        "id": "Go_v50H-_Bnk"
      },
      "source": [
        "Perform the required imports"
      ]
    },
    {
      "cell_type": "code",
      "metadata": {
        "id": "H-2fzFHi_Bnl"
      },
      "source": [
        "import pandas as pd\n",
        "from sklearn.model_selection import train_test_split\n",
        "from sklearn.linear_model import LogisticRegression\n",
        "from sklearn.model_selection import LeaveOneOut"
      ],
      "execution_count": null,
      "outputs": []
    },
    {
      "cell_type": "markdown",
      "metadata": {
        "id": "zuU9NVI0_Bnl"
      },
      "source": [
        "Read and rearrange data"
      ]
    },
    {
      "cell_type": "code",
      "metadata": {
        "id": "QIV9KR1a_Bnl"
      },
      "source": [
        "sonar_dataset = pd.read_csv(\"sonar.all-data\")\n",
        "sonar_X = sonar_dataset.iloc[:,:-1].values\n",
        "sonar_y = sonar_dataset.iloc[:,-1:].values"
      ],
      "execution_count": null,
      "outputs": []
    },
    {
      "cell_type": "markdown",
      "metadata": {
        "id": "QArkKAwt_Bnm"
      },
      "source": [
        "Split data into train and test sets"
      ]
    },
    {
      "cell_type": "code",
      "metadata": {
        "id": "wDHYhyY0_Bnm"
      },
      "source": [
        "X_train, X_test, y_train, y_test = train_test_split(sonar_X, sonar_y, \n",
        "                                                    random_state=2, \n",
        "                                                    test_size=.3)"
      ],
      "execution_count": null,
      "outputs": []
    },
    {
      "cell_type": "markdown",
      "metadata": {
        "id": "lm8zBRNw_Bnm"
      },
      "source": [
        "Create the N-fold validation"
      ]
    },
    {
      "cell_type": "code",
      "metadata": {
        "id": "Yp8oGPBK_Bnm"
      },
      "source": [
        "loocv = LeaveOneOut()\n",
        "\n",
        "lr_model = LogisticRegression()"
      ],
      "execution_count": null,
      "outputs": []
    },
    {
      "cell_type": "markdown",
      "metadata": {
        "id": "VyidJd_L_Bnm"
      },
      "source": [
        "Now train the classifier on each partition"
      ]
    },
    {
      "cell_type": "code",
      "metadata": {
        "colab": {
          "base_uri": "https://localhost:8080/"
        },
        "id": "UAnMo-Ek_Bnm",
        "outputId": "23a99898-759b-4124-9942-d4cf1d030c88"
      },
      "source": [
        "for k, (train, validation) in enumerate(loocv.split(X_train, y_train)):\n",
        "    lr_model.fit(X_train[train], y_train[train].ravel())\n",
        "    print(\"[fold {}], score on validation: {:.5f}, score on test: {:.5f}, \". \n",
        "          format(k, lr_model.score(X_train[validation], y_train[validation]),\n",
        "                 lr_model.score(X_test, y_test)))"
      ],
      "execution_count": null,
      "outputs": [
        {
          "output_type": "stream",
          "text": [
            "[fold 0], score on validation: 1.00000, score on test: 0.79365, \n",
            "[fold 1], score on validation: 1.00000, score on test: 0.77778, \n",
            "[fold 2], score on validation: 1.00000, score on test: 0.77778, \n",
            "[fold 3], score on validation: 1.00000, score on test: 0.77778, \n",
            "[fold 4], score on validation: 1.00000, score on test: 0.77778, \n",
            "[fold 5], score on validation: 1.00000, score on test: 0.79365, \n",
            "[fold 6], score on validation: 1.00000, score on test: 0.77778, \n",
            "[fold 7], score on validation: 1.00000, score on test: 0.77778, \n",
            "[fold 8], score on validation: 1.00000, score on test: 0.77778, \n",
            "[fold 9], score on validation: 1.00000, score on test: 0.77778, \n",
            "[fold 10], score on validation: 1.00000, score on test: 0.79365, \n",
            "[fold 11], score on validation: 1.00000, score on test: 0.77778, \n",
            "[fold 12], score on validation: 1.00000, score on test: 0.79365, \n",
            "[fold 13], score on validation: 0.00000, score on test: 0.77778, \n",
            "[fold 14], score on validation: 1.00000, score on test: 0.77778, \n",
            "[fold 15], score on validation: 1.00000, score on test: 0.77778, \n",
            "[fold 16], score on validation: 1.00000, score on test: 0.77778, \n",
            "[fold 17], score on validation: 0.00000, score on test: 0.77778, \n",
            "[fold 18], score on validation: 1.00000, score on test: 0.76190, \n",
            "[fold 19], score on validation: 1.00000, score on test: 0.77778, \n",
            "[fold 20], score on validation: 1.00000, score on test: 0.79365, \n",
            "[fold 21], score on validation: 1.00000, score on test: 0.77778, \n",
            "[fold 22], score on validation: 1.00000, score on test: 0.79365, \n",
            "[fold 23], score on validation: 1.00000, score on test: 0.76190, \n",
            "[fold 24], score on validation: 0.00000, score on test: 0.77778, \n",
            "[fold 25], score on validation: 0.00000, score on test: 0.79365, \n",
            "[fold 26], score on validation: 0.00000, score on test: 0.76190, \n",
            "[fold 27], score on validation: 1.00000, score on test: 0.77778, \n",
            "[fold 28], score on validation: 1.00000, score on test: 0.77778, \n",
            "[fold 29], score on validation: 1.00000, score on test: 0.79365, \n",
            "[fold 30], score on validation: 1.00000, score on test: 0.77778, \n",
            "[fold 31], score on validation: 1.00000, score on test: 0.77778, \n",
            "[fold 32], score on validation: 1.00000, score on test: 0.79365, \n",
            "[fold 33], score on validation: 1.00000, score on test: 0.77778, \n",
            "[fold 34], score on validation: 0.00000, score on test: 0.76190, \n",
            "[fold 35], score on validation: 1.00000, score on test: 0.77778, \n",
            "[fold 36], score on validation: 1.00000, score on test: 0.77778, \n",
            "[fold 37], score on validation: 1.00000, score on test: 0.76190, \n",
            "[fold 38], score on validation: 0.00000, score on test: 0.77778, \n",
            "[fold 39], score on validation: 0.00000, score on test: 0.77778, \n",
            "[fold 40], score on validation: 1.00000, score on test: 0.79365, \n",
            "[fold 41], score on validation: 0.00000, score on test: 0.76190, \n",
            "[fold 42], score on validation: 1.00000, score on test: 0.77778, \n",
            "[fold 43], score on validation: 1.00000, score on test: 0.77778, \n",
            "[fold 44], score on validation: 1.00000, score on test: 0.77778, \n",
            "[fold 45], score on validation: 1.00000, score on test: 0.77778, \n",
            "[fold 46], score on validation: 1.00000, score on test: 0.77778, \n",
            "[fold 47], score on validation: 1.00000, score on test: 0.77778, \n",
            "[fold 48], score on validation: 0.00000, score on test: 0.77778, \n",
            "[fold 49], score on validation: 1.00000, score on test: 0.76190, \n",
            "[fold 50], score on validation: 1.00000, score on test: 0.76190, \n",
            "[fold 51], score on validation: 1.00000, score on test: 0.79365, \n",
            "[fold 52], score on validation: 1.00000, score on test: 0.76190, \n",
            "[fold 53], score on validation: 1.00000, score on test: 0.76190, \n",
            "[fold 54], score on validation: 1.00000, score on test: 0.77778, \n",
            "[fold 55], score on validation: 1.00000, score on test: 0.76190, \n",
            "[fold 56], score on validation: 1.00000, score on test: 0.77778, \n",
            "[fold 57], score on validation: 1.00000, score on test: 0.77778, \n",
            "[fold 58], score on validation: 1.00000, score on test: 0.79365, \n",
            "[fold 59], score on validation: 1.00000, score on test: 0.77778, \n",
            "[fold 60], score on validation: 1.00000, score on test: 0.77778, \n",
            "[fold 61], score on validation: 0.00000, score on test: 0.77778, \n",
            "[fold 62], score on validation: 1.00000, score on test: 0.77778, \n",
            "[fold 63], score on validation: 0.00000, score on test: 0.76190, \n",
            "[fold 64], score on validation: 1.00000, score on test: 0.79365, \n",
            "[fold 65], score on validation: 1.00000, score on test: 0.76190, \n",
            "[fold 66], score on validation: 1.00000, score on test: 0.77778, \n",
            "[fold 67], score on validation: 1.00000, score on test: 0.77778, \n",
            "[fold 68], score on validation: 1.00000, score on test: 0.77778, \n",
            "[fold 69], score on validation: 1.00000, score on test: 0.77778, \n",
            "[fold 70], score on validation: 1.00000, score on test: 0.79365, \n",
            "[fold 71], score on validation: 1.00000, score on test: 0.77778, \n",
            "[fold 72], score on validation: 0.00000, score on test: 0.77778, \n",
            "[fold 73], score on validation: 1.00000, score on test: 0.76190, \n",
            "[fold 74], score on validation: 1.00000, score on test: 0.77778, \n",
            "[fold 75], score on validation: 1.00000, score on test: 0.76190, \n",
            "[fold 76], score on validation: 0.00000, score on test: 0.77778, \n",
            "[fold 77], score on validation: 1.00000, score on test: 0.77778, \n",
            "[fold 78], score on validation: 1.00000, score on test: 0.76190, \n",
            "[fold 79], score on validation: 1.00000, score on test: 0.77778, \n",
            "[fold 80], score on validation: 1.00000, score on test: 0.76190, \n",
            "[fold 81], score on validation: 0.00000, score on test: 0.79365, \n",
            "[fold 82], score on validation: 1.00000, score on test: 0.77778, \n",
            "[fold 83], score on validation: 1.00000, score on test: 0.77778, \n",
            "[fold 84], score on validation: 1.00000, score on test: 0.76190, \n",
            "[fold 85], score on validation: 1.00000, score on test: 0.77778, \n",
            "[fold 86], score on validation: 1.00000, score on test: 0.76190, \n",
            "[fold 87], score on validation: 0.00000, score on test: 0.76190, \n",
            "[fold 88], score on validation: 1.00000, score on test: 0.77778, \n",
            "[fold 89], score on validation: 0.00000, score on test: 0.79365, \n",
            "[fold 90], score on validation: 0.00000, score on test: 0.76190, \n",
            "[fold 91], score on validation: 1.00000, score on test: 0.79365, \n",
            "[fold 92], score on validation: 0.00000, score on test: 0.77778, \n",
            "[fold 93], score on validation: 1.00000, score on test: 0.76190, \n",
            "[fold 94], score on validation: 1.00000, score on test: 0.77778, \n",
            "[fold 95], score on validation: 0.00000, score on test: 0.79365, \n",
            "[fold 96], score on validation: 1.00000, score on test: 0.77778, \n",
            "[fold 97], score on validation: 1.00000, score on test: 0.77778, \n",
            "[fold 98], score on validation: 1.00000, score on test: 0.77778, \n",
            "[fold 99], score on validation: 1.00000, score on test: 0.76190, \n",
            "[fold 100], score on validation: 1.00000, score on test: 0.77778, \n",
            "[fold 101], score on validation: 1.00000, score on test: 0.76190, \n",
            "[fold 102], score on validation: 1.00000, score on test: 0.77778, \n",
            "[fold 103], score on validation: 1.00000, score on test: 0.79365, \n",
            "[fold 104], score on validation: 1.00000, score on test: 0.76190, \n",
            "[fold 105], score on validation: 1.00000, score on test: 0.77778, \n",
            "[fold 106], score on validation: 0.00000, score on test: 0.77778, \n",
            "[fold 107], score on validation: 1.00000, score on test: 0.77778, \n",
            "[fold 108], score on validation: 1.00000, score on test: 0.79365, \n",
            "[fold 109], score on validation: 1.00000, score on test: 0.77778, \n",
            "[fold 110], score on validation: 0.00000, score on test: 0.77778, \n",
            "[fold 111], score on validation: 1.00000, score on test: 0.77778, \n",
            "[fold 112], score on validation: 1.00000, score on test: 0.76190, \n",
            "[fold 113], score on validation: 1.00000, score on test: 0.77778, \n",
            "[fold 114], score on validation: 1.00000, score on test: 0.77778, \n",
            "[fold 115], score on validation: 1.00000, score on test: 0.76190, \n",
            "[fold 116], score on validation: 1.00000, score on test: 0.76190, \n",
            "[fold 117], score on validation: 1.00000, score on test: 0.77778, \n",
            "[fold 118], score on validation: 1.00000, score on test: 0.76190, \n",
            "[fold 119], score on validation: 0.00000, score on test: 0.77778, \n",
            "[fold 120], score on validation: 0.00000, score on test: 0.77778, \n",
            "[fold 121], score on validation: 1.00000, score on test: 0.77778, \n",
            "[fold 122], score on validation: 1.00000, score on test: 0.77778, \n",
            "[fold 123], score on validation: 0.00000, score on test: 0.76190, \n",
            "[fold 124], score on validation: 1.00000, score on test: 0.79365, \n",
            "[fold 125], score on validation: 1.00000, score on test: 0.76190, \n",
            "[fold 126], score on validation: 1.00000, score on test: 0.77778, \n",
            "[fold 127], score on validation: 1.00000, score on test: 0.77778, \n",
            "[fold 128], score on validation: 1.00000, score on test: 0.79365, \n",
            "[fold 129], score on validation: 1.00000, score on test: 0.76190, \n",
            "[fold 130], score on validation: 1.00000, score on test: 0.77778, \n",
            "[fold 131], score on validation: 0.00000, score on test: 0.76190, \n",
            "[fold 132], score on validation: 1.00000, score on test: 0.77778, \n",
            "[fold 133], score on validation: 1.00000, score on test: 0.77778, \n",
            "[fold 134], score on validation: 0.00000, score on test: 0.77778, \n",
            "[fold 135], score on validation: 1.00000, score on test: 0.79365, \n",
            "[fold 136], score on validation: 0.00000, score on test: 0.74603, \n",
            "[fold 137], score on validation: 1.00000, score on test: 0.77778, \n",
            "[fold 138], score on validation: 1.00000, score on test: 0.76190, \n",
            "[fold 139], score on validation: 0.00000, score on test: 0.76190, \n",
            "[fold 140], score on validation: 1.00000, score on test: 0.76190, \n",
            "[fold 141], score on validation: 0.00000, score on test: 0.77778, \n",
            "[fold 142], score on validation: 1.00000, score on test: 0.77778, \n",
            "[fold 143], score on validation: 1.00000, score on test: 0.79365, \n"
          ],
          "name": "stdout"
        }
      ]
    },
    {
      "cell_type": "markdown",
      "metadata": {
        "id": "Zlq5Pw5-lUsy"
      },
      "source": [
        "# Exercise\n"
      ]
    },
    {
      "cell_type": "markdown",
      "metadata": {
        "id": "WyxmeAsdASlh"
      },
      "source": [
        "The Banknote Dataset involves predicting whether a given banknote is authentic given a number of measures taken from a photograph.\n",
        "\n",
        "It is a binary (2-class) classification problem. The number of observations for each class is not balanced. There are 1,372 observations with 4 input variables and 1 output variable. For more information, check [this link](http://archive.ics.uci.edu/ml/datasets/banknote+authentication)."
      ]
    },
    {
      "cell_type": "markdown",
      "metadata": {
        "id": "O_2MYYLfAxz5"
      },
      "source": [
        "## Download and read the data"
      ]
    },
    {
      "cell_type": "code",
      "metadata": {
        "colab": {
          "base_uri": "https://localhost:8080/"
        },
        "id": "c98Gidkezz8-",
        "outputId": "60a7615b-8919-4239-c5d9-9626b3974c3d"
      },
      "source": [
        "!wget -c http://archive.ics.uci.edu/ml/machine-learning-databases/00267/data_banknote_authentication.txt"
      ],
      "execution_count": null,
      "outputs": [
        {
          "output_type": "stream",
          "text": [
            "--2020-11-17 21:01:47--  http://archive.ics.uci.edu/ml/machine-learning-databases/00267/data_banknote_authentication.txt\n",
            "Resolving archive.ics.uci.edu (archive.ics.uci.edu)... 128.195.10.252\n",
            "Connecting to archive.ics.uci.edu (archive.ics.uci.edu)|128.195.10.252|:80... connected.\n",
            "HTTP request sent, awaiting response... 200 OK\n",
            "Length: 46400 (45K) [application/x-httpd-php]\n",
            "Saving to: ‘data_banknote_authentication.txt’\n",
            "\n",
            "data_banknote_authe 100%[===================>]  45.31K  --.-KB/s    in 0.1s    \n",
            "\n",
            "2020-11-17 21:01:48 (453 KB/s) - ‘data_banknote_authentication.txt’ saved [46400/46400]\n",
            "\n"
          ],
          "name": "stdout"
        }
      ]
    },
    {
      "cell_type": "code",
      "metadata": {
        "colab": {
          "base_uri": "https://localhost:8080/"
        },
        "id": "aTTr0MaZBCHy",
        "outputId": "5bb8c1ec-c16d-410f-f912-a13ac000a283"
      },
      "source": [
        "!head -10 data_banknote_authentication.txt"
      ],
      "execution_count": null,
      "outputs": [
        {
          "output_type": "stream",
          "text": [
            "3.6216,8.6661,-2.8073,-0.44699,0\r\n",
            "4.5459,8.1674,-2.4586,-1.4621,0\r\n",
            "3.866,-2.6383,1.9242,0.10645,0\r\n",
            "3.4566,9.5228,-4.0112,-3.5944,0\r\n",
            "0.32924,-4.4552,4.5718,-0.9888,0\r\n",
            "4.3684,9.6718,-3.9606,-3.1625,0\r\n",
            "3.5912,3.0129,0.72888,0.56421,0\r\n",
            "2.0922,-6.81,8.4636,-0.60216,0\r\n",
            "3.2032,5.7588,-0.75345,-0.61251,0\r\n",
            "1.5356,9.1772,-2.2718,-0.73535,0\r\n"
          ],
          "name": "stdout"
        }
      ]
    },
    {
      "cell_type": "code",
      "metadata": {
        "id": "3bEQSVvBA0o6"
      },
      "source": [
        "import pandas as pd"
      ],
      "execution_count": null,
      "outputs": []
    },
    {
      "cell_type": "code",
      "metadata": {
        "id": "wFy9RPRDA4Bu"
      },
      "source": [
        "banknote_dataset = pd.read_csv(\"data_banknote_authentication.txt\")"
      ],
      "execution_count": null,
      "outputs": []
    },
    {
      "cell_type": "code",
      "metadata": {
        "colab": {
          "base_uri": "https://localhost:8080/",
          "height": 204
        },
        "id": "RC265vB9A_db",
        "outputId": "870078b1-1699-4503-f864-e199e20dc100"
      },
      "source": [
        "banknote_dataset.head()"
      ],
      "execution_count": null,
      "outputs": [
        {
          "output_type": "execute_result",
          "data": {
            "text/html": [
              "<div>\n",
              "<style scoped>\n",
              "    .dataframe tbody tr th:only-of-type {\n",
              "        vertical-align: middle;\n",
              "    }\n",
              "\n",
              "    .dataframe tbody tr th {\n",
              "        vertical-align: top;\n",
              "    }\n",
              "\n",
              "    .dataframe thead th {\n",
              "        text-align: right;\n",
              "    }\n",
              "</style>\n",
              "<table border=\"1\" class=\"dataframe\">\n",
              "  <thead>\n",
              "    <tr style=\"text-align: right;\">\n",
              "      <th></th>\n",
              "      <th>3.6216</th>\n",
              "      <th>8.6661</th>\n",
              "      <th>-2.8073</th>\n",
              "      <th>-0.44699</th>\n",
              "      <th>0</th>\n",
              "    </tr>\n",
              "  </thead>\n",
              "  <tbody>\n",
              "    <tr>\n",
              "      <th>0</th>\n",
              "      <td>4.54590</td>\n",
              "      <td>8.1674</td>\n",
              "      <td>-2.4586</td>\n",
              "      <td>-1.46210</td>\n",
              "      <td>0</td>\n",
              "    </tr>\n",
              "    <tr>\n",
              "      <th>1</th>\n",
              "      <td>3.86600</td>\n",
              "      <td>-2.6383</td>\n",
              "      <td>1.9242</td>\n",
              "      <td>0.10645</td>\n",
              "      <td>0</td>\n",
              "    </tr>\n",
              "    <tr>\n",
              "      <th>2</th>\n",
              "      <td>3.45660</td>\n",
              "      <td>9.5228</td>\n",
              "      <td>-4.0112</td>\n",
              "      <td>-3.59440</td>\n",
              "      <td>0</td>\n",
              "    </tr>\n",
              "    <tr>\n",
              "      <th>3</th>\n",
              "      <td>0.32924</td>\n",
              "      <td>-4.4552</td>\n",
              "      <td>4.5718</td>\n",
              "      <td>-0.98880</td>\n",
              "      <td>0</td>\n",
              "    </tr>\n",
              "    <tr>\n",
              "      <th>4</th>\n",
              "      <td>4.36840</td>\n",
              "      <td>9.6718</td>\n",
              "      <td>-3.9606</td>\n",
              "      <td>-3.16250</td>\n",
              "      <td>0</td>\n",
              "    </tr>\n",
              "  </tbody>\n",
              "</table>\n",
              "</div>"
            ],
            "text/plain": [
              "    3.6216  8.6661  -2.8073  -0.44699  0\n",
              "0  4.54590  8.1674  -2.4586  -1.46210  0\n",
              "1  3.86600 -2.6383   1.9242   0.10645  0\n",
              "2  3.45660  9.5228  -4.0112  -3.59440  0\n",
              "3  0.32924 -4.4552   4.5718  -0.98880  0\n",
              "4  4.36840  9.6718  -3.9606  -3.16250  0"
            ]
          },
          "metadata": {
            "tags": []
          },
          "execution_count": 98
        }
      ]
    },
    {
      "cell_type": "markdown",
      "metadata": {
        "id": "SLurKsioBKjW"
      },
      "source": [
        "## Tasks"
      ]
    },
    {
      "cell_type": "markdown",
      "metadata": {
        "id": "qDGCbstBBPNN"
      },
      "source": [
        "1. Create Naive Bayes and Logistic Regression Classifiers;\n",
        "1. Perform Cross Validations on Both models to select the best one;\n",
        "1. Create boxplots to show the variation of the k-fold models:\n",
        "  * Check the [`cross_val_score`](https://scikit-learn.org/stable/modules/generated/sklearn.model_selection.cross_val_score.html#sklearn.model_selection.cross_val_score) and [`cross_val_predict`](https://scikit-learn.org/stable/modules/generated/sklearn.model_selection.cross_val_predict.html#sklearn.model_selection.cross_val_predict) methods\n",
        "1. Save the best Model using the Pickle Python Library (see [this link](https://machinelearningmastery.com/save-load-machine-learning-models-python-scikit-learn/) for reference)"
      ]
    }
  ]
}