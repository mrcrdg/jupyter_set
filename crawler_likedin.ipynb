{
 "cells": [
  {
   "cell_type": "code",
   "execution_count": null,
   "metadata": {},
   "outputs": [],
   "source": [
    "#Lib Pypi: https://pypi.org/project/linkedin-scraper/"
   ]
  },
  {
   "cell_type": "code",
   "execution_count": 1,
   "metadata": {},
   "outputs": [],
   "source": [
    "from webdriver_manager.chrome import ChromeDriverManager\n",
    "from selenium import webdriver"
   ]
  },
  {
   "cell_type": "code",
   "execution_count": null,
   "metadata": {},
   "outputs": [],
   "source": []
  },
  {
   "cell_type": "code",
   "execution_count": null,
   "metadata": {},
   "outputs": [],
   "source": [
    "#Algoritmo:\n",
    "#Primeiro, criar um crawler para jogar o nome+sobrenome no Google + \"linkedin\" e pegar as primeiras url e salvar em uma lista ordenada.\n",
    "#Segundo, iterar a lista_urls e aplicar o crawler do linkedin, retirando as informações e salvando.\n",
    "#Terceiro, depois de retirar os dados do Linkedin, organizar as informações, tranformando em DataFrame."
   ]
  },
  {
   "cell_type": "code",
   "execution_count": null,
   "metadata": {},
   "outputs": [],
   "source": []
  },
  {
   "cell_type": "code",
   "execution_count": 2,
   "metadata": {},
   "outputs": [],
   "source": [
    "from linkedin_scraper import Person, actions, Company\n",
    "from selenium import webdriver"
   ]
  },
  {
   "cell_type": "code",
   "execution_count": 5,
   "metadata": {},
   "outputs": [],
   "source": [
    "#options = webdriver.ChromeOptions()\n",
    "#options.add_argument('headless')\n",
    "\n",
    "driver = webdriver.Chrome(r\"/usr/bin/chromedriver\")\n",
    "driver.get(\"https://www.linkedin.com/\")\n",
    "\n",
    "email = \"m.rrodrigues@outlook.com\"\n",
    "password = \"Ma17056!\"\n",
    "\n",
    "actions.login(driver, email, password) # if email and password isnt given, it'll prompt in terminal\n",
    "person = Person(\"https://www.linkedin.com/in/rodriguesmarcia/\", driver=driver)"
   ]
  },
  {
   "cell_type": "code",
   "execution_count": null,
   "metadata": {},
   "outputs": [],
   "source": [
    "del(person)"
   ]
  },
  {
   "cell_type": "code",
   "execution_count": 21,
   "metadata": {},
   "outputs": [
    {
     "data": {
      "text/plain": [
       "linkedin_scraper.person.Person"
      ]
     },
     "execution_count": 21,
     "metadata": {},
     "output_type": "execute_result"
    }
   ],
   "source": [
    "type(person)"
   ]
  },
  {
   "cell_type": "code",
   "execution_count": 57,
   "metadata": {},
   "outputs": [
    {
     "name": "stdout",
     "output_type": "stream",
     "text": [
      "Marcia Rodrigues\n",
      "\n",
      "Experience\n",
      "[b'Professional Basketball Player' at b'National Basketball Association (NBA)' from 2004 – to  for 16 yrs based at United States, b'Venture Partner' at None from None to None for None based at None, b'Investment Committee' at None from None to None for None based at None, b'Board Member' at None from None to None for None based at None, b'Vice President' at b'National Basketball Players Association (NBPA)' from Feb 2013 to Present for 7 yrs 9 mos based at New York, NY, b'Professional Basketball Player' at b'National Basketball Association (NBA)' from 2004 – to  for 16 yrs based at United States, b'Venture Partner' at None from None to None for None based at None, b'Investment Committee' at None from None to None for None based at None, b'Board Member' at None from None to None for None based at None, b'Vice President' at b'National Basketball Players Association (NBPA)' from Feb 2013 to Present for 7 yrs 9 mos based at New York, NY, b'Professional Basketball Player' at b'National Basketball Association (NBA)' from 2004 – to  for 16 yrs based at United States, b'Venture Partner' at None from None to None for None based at None, b'Investment Committee' at None from None to None for None based at None, b'Board Member' at None from None to None for None based at None, b'Vice President' at b'National Basketball Players Association (NBPA)' from Feb 2013 to Present for 7 yrs 9 mos based at New York, NY, b'Residente' at b'HUB de Intelig\\xc3\\xaancia Artificial SENAI Full-time' from Aug 2020 to Present for 3 mos based at Londrina, Paraná, Brazil, b'Instrutor de Programa\\xc3\\xa7\\xc3\\xa3o' at None from None to None for None based at None, b'P&D - Pesquisador' at b'Senai - PR Part-time' from Dec 2019 to Jun 2020 for 7 mos based at Londrina, Paraná, b'Analista de Gest\\xc3\\xa3o de Cidades' at None from None to None for None based at None, b'Brazilian Scientific Mobility Program Scholarship' at b'CAPES - Coordena\\xc3\\xa7\\xc3\\xa3o de Aperfei\\xc3\\xa7oamento de Pessoal de N\\xc3\\xadvel Superior' from Jul 2014 to Dec 2015 for 1 yr 6 mos based at Estados Unidos, b'Residente' at b'HUB de Intelig\\xc3\\xaancia Artificial SENAI Full-time' from Aug 2020 to Present for 3 mos based at Londrina, Paraná, Brazil, b'Instrutor de Programa\\xc3\\xa7\\xc3\\xa3o' at None from None to None for None based at None, b'P&D - Pesquisador' at b'Senai - PR Part-time' from Dec 2019 to Jun 2020 for 7 mos based at Londrina, Paraná, b'Analista de Gest\\xc3\\xa3o de Cidades' at None from None to None for None based at None, b'Brazilian Scientific Mobility Program Scholarship' at b'CAPES - Coordena\\xc3\\xa7\\xc3\\xa3o de Aperfei\\xc3\\xa7oamento de Pessoal de N\\xc3\\xadvel Superior' from Jul 2014 to Dec 2015 for 1 yr 6 mos based at Estados Unidos, b'Residente' at b'HUB de Intelig\\xc3\\xaancia Artificial SENAI Full-time' from Aug 2020 to Present for 3 mos based at Londrina, Paraná, Brazil, b'Instrutor de Programa\\xc3\\xa7\\xc3\\xa3o' at None from None to None for None based at None, b'P&D - Pesquisador' at b'Senai - PR Part-time' from Dec 2019 to Jun 2020 for 7 mos based at Londrina, Paraná, b'Analista de Gest\\xc3\\xa3o de Cidades' at None from None to None for None based at None, b'Brazilian Scientific Mobility Program Scholarship' at b'CAPES - Coordena\\xc3\\xa7\\xc3\\xa3o de Aperfei\\xc3\\xa7oamento de Pessoal de N\\xc3\\xadvel Superior' from Jul 2014 to Dec 2015 for 1 yr 6 mos based at Estados Unidos, b'Residente' at b'HUB de Intelig\\xc3\\xaancia Artificial SENAI Full-time' from Aug 2020 to Present for 3 mos based at Londrina, Paraná, Brasil, b'Estagi\\xc3\\xa1rio de Estat\\xc3\\xadstica' at None from None to None for None based at None, b'Estagi\\xc3\\xa1rio em Business Intelligence' at b'Mirum Agency' from Nov 2016 to Apr 2017 for 6 mos based at Curitiba e Região, Brasil, b'Estagi\\xc3\\xa1rio' at b'Tribunal de Justica do Parana' from Jul 2015 to Oct 2016 for 1 yr 4 mos based at Curitiba e Região, Brasil, b'Estagi\\xc3\\xa1rio' at b'E. J. L Servi\\xc3\\xa7os Administrativos' from Feb 2013 to Jun 2013 for 5 mos based at Curitiba e Região, Brasil, b'Residente' at b'HUB de Intelig\\xc3\\xaancia Artificial SENAI Full-time' from Jun 2020 to Present for 5 mos based at Londrina, Paraná, Brasil, b'Company Name\\nTrade Technology' at None from None to None for None based at None, b'Preceptor de estat\\xc3\\xadstica, probabilidade e infer\\xc3\\xaancia estat\\xc3\\xadstica' at b'Programa de Integra\\xc3\\xa7\\xc3\\xa3o Estudantil (PROINTE) - UEM' from Feb 2015 to Dec 2017 for 2 yrs 11 mos based at Maringá, b'Company Name\\nEstats Consultoria' at None from None to None for None based at None, b'Residente' at b'HUB de Intelig\\xc3\\xaancia Artificial SENAI Full-time' from Aug 2020 to Present for 3 mos based at Londrina, Paraná, Brazil, b'Instrutor de Programa\\xc3\\xa7\\xc3\\xa3o' at None from None to None for None based at None, b'P&D - Pesquisador' at b'Senai - PR Part-time' from Dec 2019 to Jun 2020 for 7 mos based at Londrina, Paraná, b'Analista de Gest\\xc3\\xa3o de Cidades' at None from None to None for None based at None, b'Brazilian Scientific Mobility Program Scholarship' at b'CAPES - Coordena\\xc3\\xa7\\xc3\\xa3o de Aperfei\\xc3\\xa7oamento de Pessoal de N\\xc3\\xadvel Superior' from Jul 2014 to Dec 2015 for 1 yr 6 mos based at Estados Unidos, b'Residente' at b'HUB de Intelig\\xc3\\xaancia Artificial SENAI Full-time' from Aug 2020 to Present for 3 mos based at Londrina, Paraná, Brasil, b'Estagi\\xc3\\xa1rio de Estat\\xc3\\xadstica' at None from None to None for None based at None, b'Estagi\\xc3\\xa1rio em Business Intelligence' at b'Mirum Agency' from Nov 2016 to Apr 2017 for 6 mos based at Curitiba e Região, Brasil, b'Estagi\\xc3\\xa1rio' at b'Tribunal de Justica do Parana' from Jul 2015 to Oct 2016 for 1 yr 4 mos based at Curitiba e Região, Brasil, b'Estagi\\xc3\\xa1rio' at b'E. J. L Servi\\xc3\\xa7os Administrativos' from Feb 2013 to Jun 2013 for 5 mos based at Curitiba e Região, Brasil, b'Residente' at b'HUB de Intelig\\xc3\\xaancia Artificial SENAI Full-time' from Jun 2020 to Present for 5 mos based at Londrina, Paraná, Brasil, b'Company Name\\nTrade Technology' at None from None to None for None based at None, b'Preceptor de estat\\xc3\\xadstica, probabilidade e infer\\xc3\\xaancia estat\\xc3\\xadstica' at b'Programa de Integra\\xc3\\xa7\\xc3\\xa3o Estudantil (PROINTE) - UEM' from Feb 2015 to Dec 2017 for 2 yrs 11 mos based at Maringá, b'Company Name\\nEstats Consultoria' at None from None to None for None based at None, b'Residente' at b'HUB de Intelig\\xc3\\xaancia Artificial SENAI Full-time' from Aug 2020 to Present for 3 mos based at Londrina, Paraná, Brazil, b'Instrutor de Programa\\xc3\\xa7\\xc3\\xa3o' at None from None to None for None based at None, b'P&D - Pesquisador' at b'Senai - PR Part-time' from Dec 2019 to Jun 2020 for 7 mos based at Londrina, Paraná, b'Analista de Gest\\xc3\\xa3o de Cidades' at None from None to None for None based at None, b'Brazilian Scientific Mobility Program Scholarship' at b'CAPES - Coordena\\xc3\\xa7\\xc3\\xa3o de Aperfei\\xc3\\xa7oamento de Pessoal de N\\xc3\\xadvel Superior' from Jul 2014 to Dec 2015 for 1 yr 6 mos based at Estados Unidos, b'Residente' at b'HUB de Intelig\\xc3\\xaancia Artificial SENAI Full-time' from Aug 2020 to Present for 3 mos based at Londrina, Paraná, Brasil, b'Estagi\\xc3\\xa1rio de Estat\\xc3\\xadstica' at None from None to None for None based at None, b'Estagi\\xc3\\xa1rio em Business Intelligence' at b'Mirum Agency' from Nov 2016 to Apr 2017 for 6 mos based at Curitiba e Região, Brasil, b'Estagi\\xc3\\xa1rio' at b'Tribunal de Justica do Parana' from Jul 2015 to Oct 2016 for 1 yr 4 mos based at Curitiba e Região, Brasil, b'Estagi\\xc3\\xa1rio' at b'E. J. L Servi\\xc3\\xa7os Administrativos' from Feb 2013 to Jun 2013 for 5 mos based at Curitiba e Região, Brasil, b'Residente' at b'HUB de Intelig\\xc3\\xaancia Artificial SENAI Full-time' from Jun 2020 to Present for 5 mos based at Londrina, Paraná, Brasil, b'Company Name\\nTrade Technology' at None from None to None for None based at None, b'Preceptor de estat\\xc3\\xadstica, probabilidade e infer\\xc3\\xaancia estat\\xc3\\xadstica' at b'Programa de Integra\\xc3\\xa7\\xc3\\xa3o Estudantil (PROINTE) - UEM' from Feb 2015 to Dec 2017 for 2 yrs 11 mos based at Maringá, b'Company Name\\nEstats Consultoria' at None from None to None for None based at None, b'Residente' at b'HUB de Intelig\\xc3\\xaancia Artificial SENAI Full-time' from Aug 2020 to Present for 3 mos based at Londrina, Paraná, Brazil, b'Instrutor de Programa\\xc3\\xa7\\xc3\\xa3o' at None from None to None for None based at None, b'P&D - Pesquisador' at b'Senai - PR Part-time' from Dec 2019 to Jun 2020 for 7 mos based at Londrina, Paraná, b'Analista de Gest\\xc3\\xa3o de Cidades' at None from None to None for None based at None, b'Brazilian Scientific Mobility Program Scholarship' at b'CAPES - Coordena\\xc3\\xa7\\xc3\\xa3o de Aperfei\\xc3\\xa7oamento de Pessoal de N\\xc3\\xadvel Superior' from Jul 2014 to Dec 2015 for 1 yr 6 mos based at Estados Unidos]\n",
      "\n",
      "Education\n",
      "[None at b'University of Arizona' from None to None, None at b'University of Arizona' from None to None, None at b'University of Arizona' from None to None, b'BS Degree' at b'Servi\\xc3\\xa7o Nacional de Aprendizagem Industrial' from 2018 to 2021, b'BS Degree' at b'Federal University of Technology - Parana' from 2009 to 2016, b'Non-Degree' at b'Northern Arizona University' from 2014 to 2015, b'BS Degree' at b'Servi\\xc3\\xa7o Nacional de Aprendizagem Industrial' from 2018 to 2021, b'BS Degree' at b'Federal University of Technology - Parana' from 2009 to 2016, b'Non-Degree' at b'Northern Arizona University' from 2014 to 2015, b'BS Degree' at b'Servi\\xc3\\xa7o Nacional de Aprendizagem Industrial' from 2018 to 2021, b'BS Degree' at b'Federal University of Technology - Parana' from 2009 to 2016, b'Non-Degree' at b'Northern Arizona University' from 2014 to 2015, b'Bacharelado' at b'Universidade Federal do Paran\\xc3\\xa1' from 2014 to 2019, b'T\\xc3\\xa9cnico' at b'Instituto Federal do Paran\\xc3\\xa1 - IFPR (Curitiba)' from 2011 to 2013, b'Bacharelado' at b'Universidade Estadual de Maring\\xc3\\xa1' from 2014 to 2018, b'BS Degree' at b'Servi\\xc3\\xa7o Nacional de Aprendizagem Industrial' from 2018 to 2021, b'BS Degree' at b'Federal University of Technology - Parana' from 2009 to 2016, b'Non-Degree' at b'Northern Arizona University' from 2014 to 2015, b'Bacharelado' at b'Universidade Federal do Paran\\xc3\\xa1' from 2014 to 2019, b'T\\xc3\\xa9cnico' at b'Instituto Federal do Paran\\xc3\\xa1 - IFPR (Curitiba)' from 2011 to 2013, b'Bacharelado' at b'Universidade Estadual de Maring\\xc3\\xa1' from 2014 to 2018, b'BS Degree' at b'Servi\\xc3\\xa7o Nacional de Aprendizagem Industrial' from 2018 to 2021, b'BS Degree' at b'Federal University of Technology - Parana' from 2009 to 2016, b'Non-Degree' at b'Northern Arizona University' from 2014 to 2015, b'Bacharelado' at b'Universidade Federal do Paran\\xc3\\xa1' from 2014 to 2019, b'T\\xc3\\xa9cnico' at b'Instituto Federal do Paran\\xc3\\xa1 - IFPR (Curitiba)' from 2011 to 2013, b'Bacharelado' at b'Universidade Estadual de Maring\\xc3\\xa1' from 2014 to 2018, b'BS Degree' at b'Servi\\xc3\\xa7o Nacional de Aprendizagem Industrial' from 2018 to 2021, b'BS Degree' at b'Federal University of Technology - Parana' from 2009 to 2016, b'Non-Degree' at b'Northern Arizona University' from 2014 to 2015]\n",
      "\n",
      "Interest\n",
      "[]\n",
      "\n",
      "Accomplishments\n",
      "[]\n"
     ]
    }
   ],
   "source": [
    "print(person)"
   ]
  },
  {
   "cell_type": "code",
   "execution_count": 58,
   "metadata": {},
   "outputs": [
    {
     "data": {
      "text/plain": [
       "{'linkedin_url': 'https://www.linkedin.com/in/rodriguesmarcia/',\n",
       " 'name': 'Marcia Rodrigues',\n",
       " 'experiences': [b'Professional Basketball Player' at b'National Basketball Association (NBA)' from 2004 – to  for 16 yrs based at United States,\n",
       "  b'Venture Partner' at None from None to None for None based at None,\n",
       "  b'Investment Committee' at None from None to None for None based at None,\n",
       "  b'Board Member' at None from None to None for None based at None,\n",
       "  b'Vice President' at b'National Basketball Players Association (NBPA)' from Feb 2013 to Present for 7 yrs 9 mos based at New York, NY,\n",
       "  b'Professional Basketball Player' at b'National Basketball Association (NBA)' from 2004 – to  for 16 yrs based at United States,\n",
       "  b'Venture Partner' at None from None to None for None based at None,\n",
       "  b'Investment Committee' at None from None to None for None based at None,\n",
       "  b'Board Member' at None from None to None for None based at None,\n",
       "  b'Vice President' at b'National Basketball Players Association (NBPA)' from Feb 2013 to Present for 7 yrs 9 mos based at New York, NY,\n",
       "  b'Professional Basketball Player' at b'National Basketball Association (NBA)' from 2004 – to  for 16 yrs based at United States,\n",
       "  b'Venture Partner' at None from None to None for None based at None,\n",
       "  b'Investment Committee' at None from None to None for None based at None,\n",
       "  b'Board Member' at None from None to None for None based at None,\n",
       "  b'Vice President' at b'National Basketball Players Association (NBPA)' from Feb 2013 to Present for 7 yrs 9 mos based at New York, NY,\n",
       "  b'Residente' at b'HUB de Intelig\\xc3\\xaancia Artificial SENAI Full-time' from Aug 2020 to Present for 3 mos based at Londrina, Paraná, Brazil,\n",
       "  b'Instrutor de Programa\\xc3\\xa7\\xc3\\xa3o' at None from None to None for None based at None,\n",
       "  b'P&D - Pesquisador' at b'Senai - PR Part-time' from Dec 2019 to Jun 2020 for 7 mos based at Londrina, Paraná,\n",
       "  b'Analista de Gest\\xc3\\xa3o de Cidades' at None from None to None for None based at None,\n",
       "  b'Brazilian Scientific Mobility Program Scholarship' at b'CAPES - Coordena\\xc3\\xa7\\xc3\\xa3o de Aperfei\\xc3\\xa7oamento de Pessoal de N\\xc3\\xadvel Superior' from Jul 2014 to Dec 2015 for 1 yr 6 mos based at Estados Unidos,\n",
       "  b'Residente' at b'HUB de Intelig\\xc3\\xaancia Artificial SENAI Full-time' from Aug 2020 to Present for 3 mos based at Londrina, Paraná, Brazil,\n",
       "  b'Instrutor de Programa\\xc3\\xa7\\xc3\\xa3o' at None from None to None for None based at None,\n",
       "  b'P&D - Pesquisador' at b'Senai - PR Part-time' from Dec 2019 to Jun 2020 for 7 mos based at Londrina, Paraná,\n",
       "  b'Analista de Gest\\xc3\\xa3o de Cidades' at None from None to None for None based at None,\n",
       "  b'Brazilian Scientific Mobility Program Scholarship' at b'CAPES - Coordena\\xc3\\xa7\\xc3\\xa3o de Aperfei\\xc3\\xa7oamento de Pessoal de N\\xc3\\xadvel Superior' from Jul 2014 to Dec 2015 for 1 yr 6 mos based at Estados Unidos,\n",
       "  b'Residente' at b'HUB de Intelig\\xc3\\xaancia Artificial SENAI Full-time' from Aug 2020 to Present for 3 mos based at Londrina, Paraná, Brazil,\n",
       "  b'Instrutor de Programa\\xc3\\xa7\\xc3\\xa3o' at None from None to None for None based at None,\n",
       "  b'P&D - Pesquisador' at b'Senai - PR Part-time' from Dec 2019 to Jun 2020 for 7 mos based at Londrina, Paraná,\n",
       "  b'Analista de Gest\\xc3\\xa3o de Cidades' at None from None to None for None based at None,\n",
       "  b'Brazilian Scientific Mobility Program Scholarship' at b'CAPES - Coordena\\xc3\\xa7\\xc3\\xa3o de Aperfei\\xc3\\xa7oamento de Pessoal de N\\xc3\\xadvel Superior' from Jul 2014 to Dec 2015 for 1 yr 6 mos based at Estados Unidos,\n",
       "  b'Residente' at b'HUB de Intelig\\xc3\\xaancia Artificial SENAI Full-time' from Aug 2020 to Present for 3 mos based at Londrina, Paraná, Brasil,\n",
       "  b'Estagi\\xc3\\xa1rio de Estat\\xc3\\xadstica' at None from None to None for None based at None,\n",
       "  b'Estagi\\xc3\\xa1rio em Business Intelligence' at b'Mirum Agency' from Nov 2016 to Apr 2017 for 6 mos based at Curitiba e Região, Brasil,\n",
       "  b'Estagi\\xc3\\xa1rio' at b'Tribunal de Justica do Parana' from Jul 2015 to Oct 2016 for 1 yr 4 mos based at Curitiba e Região, Brasil,\n",
       "  b'Estagi\\xc3\\xa1rio' at b'E. J. L Servi\\xc3\\xa7os Administrativos' from Feb 2013 to Jun 2013 for 5 mos based at Curitiba e Região, Brasil,\n",
       "  b'Residente' at b'HUB de Intelig\\xc3\\xaancia Artificial SENAI Full-time' from Jun 2020 to Present for 5 mos based at Londrina, Paraná, Brasil,\n",
       "  b'Company Name\\nTrade Technology' at None from None to None for None based at None,\n",
       "  b'Preceptor de estat\\xc3\\xadstica, probabilidade e infer\\xc3\\xaancia estat\\xc3\\xadstica' at b'Programa de Integra\\xc3\\xa7\\xc3\\xa3o Estudantil (PROINTE) - UEM' from Feb 2015 to Dec 2017 for 2 yrs 11 mos based at Maringá,\n",
       "  b'Company Name\\nEstats Consultoria' at None from None to None for None based at None,\n",
       "  b'Residente' at b'HUB de Intelig\\xc3\\xaancia Artificial SENAI Full-time' from Aug 2020 to Present for 3 mos based at Londrina, Paraná, Brazil,\n",
       "  b'Instrutor de Programa\\xc3\\xa7\\xc3\\xa3o' at None from None to None for None based at None,\n",
       "  b'P&D - Pesquisador' at b'Senai - PR Part-time' from Dec 2019 to Jun 2020 for 7 mos based at Londrina, Paraná,\n",
       "  b'Analista de Gest\\xc3\\xa3o de Cidades' at None from None to None for None based at None,\n",
       "  b'Brazilian Scientific Mobility Program Scholarship' at b'CAPES - Coordena\\xc3\\xa7\\xc3\\xa3o de Aperfei\\xc3\\xa7oamento de Pessoal de N\\xc3\\xadvel Superior' from Jul 2014 to Dec 2015 for 1 yr 6 mos based at Estados Unidos,\n",
       "  b'Residente' at b'HUB de Intelig\\xc3\\xaancia Artificial SENAI Full-time' from Aug 2020 to Present for 3 mos based at Londrina, Paraná, Brasil,\n",
       "  b'Estagi\\xc3\\xa1rio de Estat\\xc3\\xadstica' at None from None to None for None based at None,\n",
       "  b'Estagi\\xc3\\xa1rio em Business Intelligence' at b'Mirum Agency' from Nov 2016 to Apr 2017 for 6 mos based at Curitiba e Região, Brasil,\n",
       "  b'Estagi\\xc3\\xa1rio' at b'Tribunal de Justica do Parana' from Jul 2015 to Oct 2016 for 1 yr 4 mos based at Curitiba e Região, Brasil,\n",
       "  b'Estagi\\xc3\\xa1rio' at b'E. J. L Servi\\xc3\\xa7os Administrativos' from Feb 2013 to Jun 2013 for 5 mos based at Curitiba e Região, Brasil,\n",
       "  b'Residente' at b'HUB de Intelig\\xc3\\xaancia Artificial SENAI Full-time' from Jun 2020 to Present for 5 mos based at Londrina, Paraná, Brasil,\n",
       "  b'Company Name\\nTrade Technology' at None from None to None for None based at None,\n",
       "  b'Preceptor de estat\\xc3\\xadstica, probabilidade e infer\\xc3\\xaancia estat\\xc3\\xadstica' at b'Programa de Integra\\xc3\\xa7\\xc3\\xa3o Estudantil (PROINTE) - UEM' from Feb 2015 to Dec 2017 for 2 yrs 11 mos based at Maringá,\n",
       "  b'Company Name\\nEstats Consultoria' at None from None to None for None based at None,\n",
       "  b'Residente' at b'HUB de Intelig\\xc3\\xaancia Artificial SENAI Full-time' from Aug 2020 to Present for 3 mos based at Londrina, Paraná, Brazil,\n",
       "  b'Instrutor de Programa\\xc3\\xa7\\xc3\\xa3o' at None from None to None for None based at None,\n",
       "  b'P&D - Pesquisador' at b'Senai - PR Part-time' from Dec 2019 to Jun 2020 for 7 mos based at Londrina, Paraná,\n",
       "  b'Analista de Gest\\xc3\\xa3o de Cidades' at None from None to None for None based at None,\n",
       "  b'Brazilian Scientific Mobility Program Scholarship' at b'CAPES - Coordena\\xc3\\xa7\\xc3\\xa3o de Aperfei\\xc3\\xa7oamento de Pessoal de N\\xc3\\xadvel Superior' from Jul 2014 to Dec 2015 for 1 yr 6 mos based at Estados Unidos,\n",
       "  b'Residente' at b'HUB de Intelig\\xc3\\xaancia Artificial SENAI Full-time' from Aug 2020 to Present for 3 mos based at Londrina, Paraná, Brasil,\n",
       "  b'Estagi\\xc3\\xa1rio de Estat\\xc3\\xadstica' at None from None to None for None based at None,\n",
       "  b'Estagi\\xc3\\xa1rio em Business Intelligence' at b'Mirum Agency' from Nov 2016 to Apr 2017 for 6 mos based at Curitiba e Região, Brasil,\n",
       "  b'Estagi\\xc3\\xa1rio' at b'Tribunal de Justica do Parana' from Jul 2015 to Oct 2016 for 1 yr 4 mos based at Curitiba e Região, Brasil,\n",
       "  b'Estagi\\xc3\\xa1rio' at b'E. J. L Servi\\xc3\\xa7os Administrativos' from Feb 2013 to Jun 2013 for 5 mos based at Curitiba e Região, Brasil,\n",
       "  b'Residente' at b'HUB de Intelig\\xc3\\xaancia Artificial SENAI Full-time' from Jun 2020 to Present for 5 mos based at Londrina, Paraná, Brasil,\n",
       "  b'Company Name\\nTrade Technology' at None from None to None for None based at None,\n",
       "  b'Preceptor de estat\\xc3\\xadstica, probabilidade e infer\\xc3\\xaancia estat\\xc3\\xadstica' at b'Programa de Integra\\xc3\\xa7\\xc3\\xa3o Estudantil (PROINTE) - UEM' from Feb 2015 to Dec 2017 for 2 yrs 11 mos based at Maringá,\n",
       "  b'Company Name\\nEstats Consultoria' at None from None to None for None based at None,\n",
       "  b'Residente' at b'HUB de Intelig\\xc3\\xaancia Artificial SENAI Full-time' from Aug 2020 to Present for 3 mos based at Londrina, Paraná, Brazil,\n",
       "  b'Instrutor de Programa\\xc3\\xa7\\xc3\\xa3o' at None from None to None for None based at None,\n",
       "  b'P&D - Pesquisador' at b'Senai - PR Part-time' from Dec 2019 to Jun 2020 for 7 mos based at Londrina, Paraná,\n",
       "  b'Analista de Gest\\xc3\\xa3o de Cidades' at None from None to None for None based at None,\n",
       "  b'Brazilian Scientific Mobility Program Scholarship' at b'CAPES - Coordena\\xc3\\xa7\\xc3\\xa3o de Aperfei\\xc3\\xa7oamento de Pessoal de N\\xc3\\xadvel Superior' from Jul 2014 to Dec 2015 for 1 yr 6 mos based at Estados Unidos],\n",
       " 'educations': [None at b'University of Arizona' from None to None,\n",
       "  None at b'University of Arizona' from None to None,\n",
       "  None at b'University of Arizona' from None to None,\n",
       "  b'BS Degree' at b'Servi\\xc3\\xa7o Nacional de Aprendizagem Industrial' from 2018 to 2021,\n",
       "  b'BS Degree' at b'Federal University of Technology - Parana' from 2009 to 2016,\n",
       "  b'Non-Degree' at b'Northern Arizona University' from 2014 to 2015,\n",
       "  b'BS Degree' at b'Servi\\xc3\\xa7o Nacional de Aprendizagem Industrial' from 2018 to 2021,\n",
       "  b'BS Degree' at b'Federal University of Technology - Parana' from 2009 to 2016,\n",
       "  b'Non-Degree' at b'Northern Arizona University' from 2014 to 2015,\n",
       "  b'BS Degree' at b'Servi\\xc3\\xa7o Nacional de Aprendizagem Industrial' from 2018 to 2021,\n",
       "  b'BS Degree' at b'Federal University of Technology - Parana' from 2009 to 2016,\n",
       "  b'Non-Degree' at b'Northern Arizona University' from 2014 to 2015,\n",
       "  b'Bacharelado' at b'Universidade Federal do Paran\\xc3\\xa1' from 2014 to 2019,\n",
       "  b'T\\xc3\\xa9cnico' at b'Instituto Federal do Paran\\xc3\\xa1 - IFPR (Curitiba)' from 2011 to 2013,\n",
       "  b'Bacharelado' at b'Universidade Estadual de Maring\\xc3\\xa1' from 2014 to 2018,\n",
       "  b'BS Degree' at b'Servi\\xc3\\xa7o Nacional de Aprendizagem Industrial' from 2018 to 2021,\n",
       "  b'BS Degree' at b'Federal University of Technology - Parana' from 2009 to 2016,\n",
       "  b'Non-Degree' at b'Northern Arizona University' from 2014 to 2015,\n",
       "  b'Bacharelado' at b'Universidade Federal do Paran\\xc3\\xa1' from 2014 to 2019,\n",
       "  b'T\\xc3\\xa9cnico' at b'Instituto Federal do Paran\\xc3\\xa1 - IFPR (Curitiba)' from 2011 to 2013,\n",
       "  b'Bacharelado' at b'Universidade Estadual de Maring\\xc3\\xa1' from 2014 to 2018,\n",
       "  b'BS Degree' at b'Servi\\xc3\\xa7o Nacional de Aprendizagem Industrial' from 2018 to 2021,\n",
       "  b'BS Degree' at b'Federal University of Technology - Parana' from 2009 to 2016,\n",
       "  b'Non-Degree' at b'Northern Arizona University' from 2014 to 2015,\n",
       "  b'Bacharelado' at b'Universidade Federal do Paran\\xc3\\xa1' from 2014 to 2019,\n",
       "  b'T\\xc3\\xa9cnico' at b'Instituto Federal do Paran\\xc3\\xa1 - IFPR (Curitiba)' from 2011 to 2013,\n",
       "  b'Bacharelado' at b'Universidade Estadual de Maring\\xc3\\xa1' from 2014 to 2018,\n",
       "  b'BS Degree' at b'Servi\\xc3\\xa7o Nacional de Aprendizagem Industrial' from 2018 to 2021,\n",
       "  b'BS Degree' at b'Federal University of Technology - Parana' from 2009 to 2016,\n",
       "  b'Non-Degree' at b'Northern Arizona University' from 2014 to 2015],\n",
       " 'interests': [],\n",
       " 'accomplishments': [],\n",
       " 'also_viewed_urls': [],\n",
       " 'driver': <selenium.webdriver.chrome.webdriver.WebDriver (session=\"dc172e0dbdbb8d4374d1d1b84c7ba27e\")>,\n",
       " 'location': 'Londrina, Paraná, Brazil'}"
      ]
     },
     "execution_count": 58,
     "metadata": {},
     "output_type": "execute_result"
    }
   ],
   "source": [
    "person.__dict__"
   ]
  },
  {
   "cell_type": "code",
   "execution_count": 38,
   "metadata": {},
   "outputs": [
    {
     "data": {
      "text/plain": [
       "['_Person__TOP_CARD',\n",
       " '__class__',\n",
       " '__delattr__',\n",
       " '__dict__',\n",
       " '__dir__',\n",
       " '__doc__',\n",
       " '__eq__',\n",
       " '__find_element_by_class_name__',\n",
       " '__find_element_by_xpath__',\n",
       " '__find_enabled_element_by_xpath__',\n",
       " '__find_first_available_element__',\n",
       " '__format__',\n",
       " '__ge__',\n",
       " '__getattribute__',\n",
       " '__gt__',\n",
       " '__hash__',\n",
       " '__init__',\n",
       " '__init_subclass__',\n",
       " '__le__',\n",
       " '__lt__',\n",
       " '__module__',\n",
       " '__ne__',\n",
       " '__new__',\n",
       " '__reduce__',\n",
       " '__reduce_ex__',\n",
       " '__repr__',\n",
       " '__setattr__',\n",
       " '__sizeof__',\n",
       " '__str__',\n",
       " '__subclasshook__',\n",
       " '__weakref__',\n",
       " 'accomplishments',\n",
       " 'add_accomplishment',\n",
       " 'add_education',\n",
       " 'add_experience',\n",
       " 'add_interest',\n",
       " 'add_location',\n",
       " 'also_viewed_urls',\n",
       " 'company',\n",
       " 'driver',\n",
       " 'educations',\n",
       " 'experiences',\n",
       " 'interests',\n",
       " 'is_signed_in',\n",
       " 'job_title',\n",
       " 'linkedin_url',\n",
       " 'location',\n",
       " 'name',\n",
       " 'scrape',\n",
       " 'scrape_logged_in',\n",
       " 'scrape_not_logged_in']"
      ]
     },
     "execution_count": 38,
     "metadata": {},
     "output_type": "execute_result"
    }
   ],
   "source": [
    "#Informações sobre o objeto:\n",
    "\n",
    "#vars(person)\n",
    "#person.__dict__\n",
    "dir(person) #todos os métodos"
   ]
  },
  {
   "cell_type": "code",
   "execution_count": null,
   "metadata": {},
   "outputs": [],
   "source": [
    "#Transformar o objeto em um DataFrame"
   ]
  },
  {
   "cell_type": "code",
   "execution_count": 45,
   "metadata": {},
   "outputs": [],
   "source": [
    "import pandas as pd\n",
    "df = pd.DataFrame(\n",
    "  data=[(person.name, person.linkedin_url, person.experiences)],\n",
    "  columns=[\"name\", \"url\", \"education\"]\n",
    ")"
   ]
  },
  {
   "cell_type": "code",
   "execution_count": 46,
   "metadata": {},
   "outputs": [
    {
     "data": {
      "text/html": [
       "<div>\n",
       "<style scoped>\n",
       "    .dataframe tbody tr th:only-of-type {\n",
       "        vertical-align: middle;\n",
       "    }\n",
       "\n",
       "    .dataframe tbody tr th {\n",
       "        vertical-align: top;\n",
       "    }\n",
       "\n",
       "    .dataframe thead th {\n",
       "        text-align: right;\n",
       "    }\n",
       "</style>\n",
       "<table border=\"1\" class=\"dataframe\">\n",
       "  <thead>\n",
       "    <tr style=\"text-align: right;\">\n",
       "      <th></th>\n",
       "      <th>name</th>\n",
       "      <th>url</th>\n",
       "      <th>education</th>\n",
       "    </tr>\n",
       "  </thead>\n",
       "  <tbody>\n",
       "    <tr>\n",
       "      <th>0</th>\n",
       "      <td>Marcia Rodrigues</td>\n",
       "      <td>https://www.linkedin.com/in/rodriguesmarcia/</td>\n",
       "      <td>[b'Professional Basketball Player' at b'Nation...</td>\n",
       "    </tr>\n",
       "  </tbody>\n",
       "</table>\n",
       "</div>"
      ],
      "text/plain": [
       "               name                                           url  \\\n",
       "0  Marcia Rodrigues  https://www.linkedin.com/in/rodriguesmarcia/   \n",
       "\n",
       "                                           education  \n",
       "0  [b'Professional Basketball Player' at b'Nation...  "
      ]
     },
     "execution_count": 46,
     "metadata": {},
     "output_type": "execute_result"
    }
   ],
   "source": [
    "df"
   ]
  },
  {
   "cell_type": "code",
   "execution_count": null,
   "metadata": {},
   "outputs": [],
   "source": [
    "email: caiop.solano@gmail.com\n",
    "senha: passw0rd123"
   ]
  },
  {
   "cell_type": "code",
   "execution_count": null,
   "metadata": {},
   "outputs": [],
   "source": [
    "#Procurar por vários profiles:"
   ]
  },
  {
   "cell_type": "code",
   "execution_count": 53,
   "metadata": {},
   "outputs": [],
   "source": [
    "driver = webdriver.Chrome(r\"/usr/bin/chromedriver\")\n",
    "driver.get(\"https://www.linkedin.com/\")\n",
    "\n",
    "email = \"m.rrodrigues@outlook.com\"\n",
    "password = \"Ma17056!\"\n",
    "\n",
    "actions.login(driver, email, password) # if email and password isnt given, it'll prompt in terminal\n",
    "\n",
    "link = [\"https://www.linkedin.com/in/rodriguesmarcia/\", \"https://www.linkedin.com/in/larissa-ferreira-a43048185/\", \"https://www.linkedin.com/in/nagahamavh/\"]\n",
    "ProfileList = []\n",
    "for l in link:\n",
    "    person = Person(l, driver=driver, scrape=False)\n",
    "    person.scrape(close_on_complete=False)\n",
    "    ProfileList.append(person)  # Appending each profile in profile list\n",
    "\n",
    "driver.quit()"
   ]
  },
  {
   "cell_type": "code",
   "execution_count": 54,
   "metadata": {},
   "outputs": [
    {
     "name": "stdout",
     "output_type": "stream",
     "text": [
      "Marcia Rodrigues\n",
      "\n",
      "Experience\n",
      "[b'Professional Basketball Player' at b'National Basketball Association (NBA)' from 2004 – to  for 16 yrs based at United States, b'Venture Partner' at None from None to None for None based at None, b'Investment Committee' at None from None to None for None based at None, b'Board Member' at None from None to None for None based at None, b'Vice President' at b'National Basketball Players Association (NBPA)' from Feb 2013 to Present for 7 yrs 9 mos based at New York, NY, b'Professional Basketball Player' at b'National Basketball Association (NBA)' from 2004 – to  for 16 yrs based at United States, b'Venture Partner' at None from None to None for None based at None, b'Investment Committee' at None from None to None for None based at None, b'Board Member' at None from None to None for None based at None, b'Vice President' at b'National Basketball Players Association (NBPA)' from Feb 2013 to Present for 7 yrs 9 mos based at New York, NY, b'Professional Basketball Player' at b'National Basketball Association (NBA)' from 2004 – to  for 16 yrs based at United States, b'Venture Partner' at None from None to None for None based at None, b'Investment Committee' at None from None to None for None based at None, b'Board Member' at None from None to None for None based at None, b'Vice President' at b'National Basketball Players Association (NBPA)' from Feb 2013 to Present for 7 yrs 9 mos based at New York, NY, b'Residente' at b'HUB de Intelig\\xc3\\xaancia Artificial SENAI Full-time' from Aug 2020 to Present for 3 mos based at Londrina, Paraná, Brazil, b'Instrutor de Programa\\xc3\\xa7\\xc3\\xa3o' at None from None to None for None based at None, b'P&D - Pesquisador' at b'Senai - PR Part-time' from Dec 2019 to Jun 2020 for 7 mos based at Londrina, Paraná, b'Analista de Gest\\xc3\\xa3o de Cidades' at None from None to None for None based at None, b'Brazilian Scientific Mobility Program Scholarship' at b'CAPES - Coordena\\xc3\\xa7\\xc3\\xa3o de Aperfei\\xc3\\xa7oamento de Pessoal de N\\xc3\\xadvel Superior' from Jul 2014 to Dec 2015 for 1 yr 6 mos based at Estados Unidos, b'Residente' at b'HUB de Intelig\\xc3\\xaancia Artificial SENAI Full-time' from Aug 2020 to Present for 3 mos based at Londrina, Paraná, Brazil, b'Instrutor de Programa\\xc3\\xa7\\xc3\\xa3o' at None from None to None for None based at None, b'P&D - Pesquisador' at b'Senai - PR Part-time' from Dec 2019 to Jun 2020 for 7 mos based at Londrina, Paraná, b'Analista de Gest\\xc3\\xa3o de Cidades' at None from None to None for None based at None, b'Brazilian Scientific Mobility Program Scholarship' at b'CAPES - Coordena\\xc3\\xa7\\xc3\\xa3o de Aperfei\\xc3\\xa7oamento de Pessoal de N\\xc3\\xadvel Superior' from Jul 2014 to Dec 2015 for 1 yr 6 mos based at Estados Unidos, b'Residente' at b'HUB de Intelig\\xc3\\xaancia Artificial SENAI Full-time' from Aug 2020 to Present for 3 mos based at Londrina, Paraná, Brazil, b'Instrutor de Programa\\xc3\\xa7\\xc3\\xa3o' at None from None to None for None based at None, b'P&D - Pesquisador' at b'Senai - PR Part-time' from Dec 2019 to Jun 2020 for 7 mos based at Londrina, Paraná, b'Analista de Gest\\xc3\\xa3o de Cidades' at None from None to None for None based at None, b'Brazilian Scientific Mobility Program Scholarship' at b'CAPES - Coordena\\xc3\\xa7\\xc3\\xa3o de Aperfei\\xc3\\xa7oamento de Pessoal de N\\xc3\\xadvel Superior' from Jul 2014 to Dec 2015 for 1 yr 6 mos based at Estados Unidos, b'Residente' at b'HUB de Intelig\\xc3\\xaancia Artificial SENAI Full-time' from Aug 2020 to Present for 3 mos based at Londrina, Paraná, Brasil, b'Estagi\\xc3\\xa1rio de Estat\\xc3\\xadstica' at None from None to None for None based at None, b'Estagi\\xc3\\xa1rio em Business Intelligence' at b'Mirum Agency' from Nov 2016 to Apr 2017 for 6 mos based at Curitiba e Região, Brasil, b'Estagi\\xc3\\xa1rio' at b'Tribunal de Justica do Parana' from Jul 2015 to Oct 2016 for 1 yr 4 mos based at Curitiba e Região, Brasil, b'Estagi\\xc3\\xa1rio' at b'E. J. L Servi\\xc3\\xa7os Administrativos' from Feb 2013 to Jun 2013 for 5 mos based at Curitiba e Região, Brasil, b'Residente' at b'HUB de Intelig\\xc3\\xaancia Artificial SENAI Full-time' from Jun 2020 to Present for 5 mos based at Londrina, Paraná, Brasil, b'Company Name\\nTrade Technology' at None from None to None for None based at None, b'Preceptor de estat\\xc3\\xadstica, probabilidade e infer\\xc3\\xaancia estat\\xc3\\xadstica' at b'Programa de Integra\\xc3\\xa7\\xc3\\xa3o Estudantil (PROINTE) - UEM' from Feb 2015 to Dec 2017 for 2 yrs 11 mos based at Maringá, b'Company Name\\nEstats Consultoria' at None from None to None for None based at None, b'Residente' at b'HUB de Intelig\\xc3\\xaancia Artificial SENAI Full-time' from Aug 2020 to Present for 3 mos based at Londrina, Paraná, Brazil, b'Instrutor de Programa\\xc3\\xa7\\xc3\\xa3o' at None from None to None for None based at None, b'P&D - Pesquisador' at b'Senai - PR Part-time' from Dec 2019 to Jun 2020 for 7 mos based at Londrina, Paraná, b'Analista de Gest\\xc3\\xa3o de Cidades' at None from None to None for None based at None, b'Brazilian Scientific Mobility Program Scholarship' at b'CAPES - Coordena\\xc3\\xa7\\xc3\\xa3o de Aperfei\\xc3\\xa7oamento de Pessoal de N\\xc3\\xadvel Superior' from Jul 2014 to Dec 2015 for 1 yr 6 mos based at Estados Unidos, b'Residente' at b'HUB de Intelig\\xc3\\xaancia Artificial SENAI Full-time' from Aug 2020 to Present for 3 mos based at Londrina, Paraná, Brasil, b'Estagi\\xc3\\xa1rio de Estat\\xc3\\xadstica' at None from None to None for None based at None, b'Estagi\\xc3\\xa1rio em Business Intelligence' at b'Mirum Agency' from Nov 2016 to Apr 2017 for 6 mos based at Curitiba e Região, Brasil, b'Estagi\\xc3\\xa1rio' at b'Tribunal de Justica do Parana' from Jul 2015 to Oct 2016 for 1 yr 4 mos based at Curitiba e Região, Brasil, b'Estagi\\xc3\\xa1rio' at b'E. J. L Servi\\xc3\\xa7os Administrativos' from Feb 2013 to Jun 2013 for 5 mos based at Curitiba e Região, Brasil, b'Residente' at b'HUB de Intelig\\xc3\\xaancia Artificial SENAI Full-time' from Jun 2020 to Present for 5 mos based at Londrina, Paraná, Brasil, b'Company Name\\nTrade Technology' at None from None to None for None based at None, b'Preceptor de estat\\xc3\\xadstica, probabilidade e infer\\xc3\\xaancia estat\\xc3\\xadstica' at b'Programa de Integra\\xc3\\xa7\\xc3\\xa3o Estudantil (PROINTE) - UEM' from Feb 2015 to Dec 2017 for 2 yrs 11 mos based at Maringá, b'Company Name\\nEstats Consultoria' at None from None to None for None based at None, b'Residente' at b'HUB de Intelig\\xc3\\xaancia Artificial SENAI Full-time' from Aug 2020 to Present for 3 mos based at Londrina, Paraná, Brazil, b'Instrutor de Programa\\xc3\\xa7\\xc3\\xa3o' at None from None to None for None based at None, b'P&D - Pesquisador' at b'Senai - PR Part-time' from Dec 2019 to Jun 2020 for 7 mos based at Londrina, Paraná, b'Analista de Gest\\xc3\\xa3o de Cidades' at None from None to None for None based at None, b'Brazilian Scientific Mobility Program Scholarship' at b'CAPES - Coordena\\xc3\\xa7\\xc3\\xa3o de Aperfei\\xc3\\xa7oamento de Pessoal de N\\xc3\\xadvel Superior' from Jul 2014 to Dec 2015 for 1 yr 6 mos based at Estados Unidos, b'Residente' at b'HUB de Intelig\\xc3\\xaancia Artificial SENAI Full-time' from Aug 2020 to Present for 3 mos based at Londrina, Paraná, Brasil, b'Estagi\\xc3\\xa1rio de Estat\\xc3\\xadstica' at None from None to None for None based at None, b'Estagi\\xc3\\xa1rio em Business Intelligence' at b'Mirum Agency' from Nov 2016 to Apr 2017 for 6 mos based at Curitiba e Região, Brasil, b'Estagi\\xc3\\xa1rio' at b'Tribunal de Justica do Parana' from Jul 2015 to Oct 2016 for 1 yr 4 mos based at Curitiba e Região, Brasil, b'Estagi\\xc3\\xa1rio' at b'E. J. L Servi\\xc3\\xa7os Administrativos' from Feb 2013 to Jun 2013 for 5 mos based at Curitiba e Região, Brasil, b'Residente' at b'HUB de Intelig\\xc3\\xaancia Artificial SENAI Full-time' from Jun 2020 to Present for 5 mos based at Londrina, Paraná, Brasil, b'Company Name\\nTrade Technology' at None from None to None for None based at None, b'Preceptor de estat\\xc3\\xadstica, probabilidade e infer\\xc3\\xaancia estat\\xc3\\xadstica' at b'Programa de Integra\\xc3\\xa7\\xc3\\xa3o Estudantil (PROINTE) - UEM' from Feb 2015 to Dec 2017 for 2 yrs 11 mos based at Maringá, b'Company Name\\nEstats Consultoria' at None from None to None for None based at None]\n",
      "\n",
      "Education\n",
      "[None at b'University of Arizona' from None to None, None at b'University of Arizona' from None to None, None at b'University of Arizona' from None to None, b'BS Degree' at b'Servi\\xc3\\xa7o Nacional de Aprendizagem Industrial' from 2018 to 2021, b'BS Degree' at b'Federal University of Technology - Parana' from 2009 to 2016, b'Non-Degree' at b'Northern Arizona University' from 2014 to 2015, b'BS Degree' at b'Servi\\xc3\\xa7o Nacional de Aprendizagem Industrial' from 2018 to 2021, b'BS Degree' at b'Federal University of Technology - Parana' from 2009 to 2016, b'Non-Degree' at b'Northern Arizona University' from 2014 to 2015, b'BS Degree' at b'Servi\\xc3\\xa7o Nacional de Aprendizagem Industrial' from 2018 to 2021, b'BS Degree' at b'Federal University of Technology - Parana' from 2009 to 2016, b'Non-Degree' at b'Northern Arizona University' from 2014 to 2015, b'Bacharelado' at b'Universidade Federal do Paran\\xc3\\xa1' from 2014 to 2019, b'T\\xc3\\xa9cnico' at b'Instituto Federal do Paran\\xc3\\xa1 - IFPR (Curitiba)' from 2011 to 2013, b'Bacharelado' at b'Universidade Estadual de Maring\\xc3\\xa1' from 2014 to 2018, b'BS Degree' at b'Servi\\xc3\\xa7o Nacional de Aprendizagem Industrial' from 2018 to 2021, b'BS Degree' at b'Federal University of Technology - Parana' from 2009 to 2016, b'Non-Degree' at b'Northern Arizona University' from 2014 to 2015, b'Bacharelado' at b'Universidade Federal do Paran\\xc3\\xa1' from 2014 to 2019, b'T\\xc3\\xa9cnico' at b'Instituto Federal do Paran\\xc3\\xa1 - IFPR (Curitiba)' from 2011 to 2013, b'Bacharelado' at b'Universidade Estadual de Maring\\xc3\\xa1' from 2014 to 2018, b'BS Degree' at b'Servi\\xc3\\xa7o Nacional de Aprendizagem Industrial' from 2018 to 2021, b'BS Degree' at b'Federal University of Technology - Parana' from 2009 to 2016, b'Non-Degree' at b'Northern Arizona University' from 2014 to 2015, b'Bacharelado' at b'Universidade Federal do Paran\\xc3\\xa1' from 2014 to 2019, b'T\\xc3\\xa9cnico' at b'Instituto Federal do Paran\\xc3\\xa1 - IFPR (Curitiba)' from 2011 to 2013, b'Bacharelado' at b'Universidade Estadual de Maring\\xc3\\xa1' from 2014 to 2018]\n",
      "\n",
      "Interest\n",
      "[]\n",
      "\n",
      "Accomplishments\n",
      "[]\n",
      "Larissa Ferreira\n",
      "\n",
      "Experience\n",
      "[b'Professional Basketball Player' at b'National Basketball Association (NBA)' from 2004 – to  for 16 yrs based at United States, b'Venture Partner' at None from None to None for None based at None, b'Investment Committee' at None from None to None for None based at None, b'Board Member' at None from None to None for None based at None, b'Vice President' at b'National Basketball Players Association (NBPA)' from Feb 2013 to Present for 7 yrs 9 mos based at New York, NY, b'Professional Basketball Player' at b'National Basketball Association (NBA)' from 2004 – to  for 16 yrs based at United States, b'Venture Partner' at None from None to None for None based at None, b'Investment Committee' at None from None to None for None based at None, b'Board Member' at None from None to None for None based at None, b'Vice President' at b'National Basketball Players Association (NBPA)' from Feb 2013 to Present for 7 yrs 9 mos based at New York, NY, b'Professional Basketball Player' at b'National Basketball Association (NBA)' from 2004 – to  for 16 yrs based at United States, b'Venture Partner' at None from None to None for None based at None, b'Investment Committee' at None from None to None for None based at None, b'Board Member' at None from None to None for None based at None, b'Vice President' at b'National Basketball Players Association (NBPA)' from Feb 2013 to Present for 7 yrs 9 mos based at New York, NY, b'Residente' at b'HUB de Intelig\\xc3\\xaancia Artificial SENAI Full-time' from Aug 2020 to Present for 3 mos based at Londrina, Paraná, Brazil, b'Instrutor de Programa\\xc3\\xa7\\xc3\\xa3o' at None from None to None for None based at None, b'P&D - Pesquisador' at b'Senai - PR Part-time' from Dec 2019 to Jun 2020 for 7 mos based at Londrina, Paraná, b'Analista de Gest\\xc3\\xa3o de Cidades' at None from None to None for None based at None, b'Brazilian Scientific Mobility Program Scholarship' at b'CAPES - Coordena\\xc3\\xa7\\xc3\\xa3o de Aperfei\\xc3\\xa7oamento de Pessoal de N\\xc3\\xadvel Superior' from Jul 2014 to Dec 2015 for 1 yr 6 mos based at Estados Unidos, b'Residente' at b'HUB de Intelig\\xc3\\xaancia Artificial SENAI Full-time' from Aug 2020 to Present for 3 mos based at Londrina, Paraná, Brazil, b'Instrutor de Programa\\xc3\\xa7\\xc3\\xa3o' at None from None to None for None based at None, b'P&D - Pesquisador' at b'Senai - PR Part-time' from Dec 2019 to Jun 2020 for 7 mos based at Londrina, Paraná, b'Analista de Gest\\xc3\\xa3o de Cidades' at None from None to None for None based at None, b'Brazilian Scientific Mobility Program Scholarship' at b'CAPES - Coordena\\xc3\\xa7\\xc3\\xa3o de Aperfei\\xc3\\xa7oamento de Pessoal de N\\xc3\\xadvel Superior' from Jul 2014 to Dec 2015 for 1 yr 6 mos based at Estados Unidos, b'Residente' at b'HUB de Intelig\\xc3\\xaancia Artificial SENAI Full-time' from Aug 2020 to Present for 3 mos based at Londrina, Paraná, Brazil, b'Instrutor de Programa\\xc3\\xa7\\xc3\\xa3o' at None from None to None for None based at None, b'P&D - Pesquisador' at b'Senai - PR Part-time' from Dec 2019 to Jun 2020 for 7 mos based at Londrina, Paraná, b'Analista de Gest\\xc3\\xa3o de Cidades' at None from None to None for None based at None, b'Brazilian Scientific Mobility Program Scholarship' at b'CAPES - Coordena\\xc3\\xa7\\xc3\\xa3o de Aperfei\\xc3\\xa7oamento de Pessoal de N\\xc3\\xadvel Superior' from Jul 2014 to Dec 2015 for 1 yr 6 mos based at Estados Unidos, b'Residente' at b'HUB de Intelig\\xc3\\xaancia Artificial SENAI Full-time' from Aug 2020 to Present for 3 mos based at Londrina, Paraná, Brasil, b'Estagi\\xc3\\xa1rio de Estat\\xc3\\xadstica' at None from None to None for None based at None, b'Estagi\\xc3\\xa1rio em Business Intelligence' at b'Mirum Agency' from Nov 2016 to Apr 2017 for 6 mos based at Curitiba e Região, Brasil, b'Estagi\\xc3\\xa1rio' at b'Tribunal de Justica do Parana' from Jul 2015 to Oct 2016 for 1 yr 4 mos based at Curitiba e Região, Brasil, b'Estagi\\xc3\\xa1rio' at b'E. J. L Servi\\xc3\\xa7os Administrativos' from Feb 2013 to Jun 2013 for 5 mos based at Curitiba e Região, Brasil, b'Residente' at b'HUB de Intelig\\xc3\\xaancia Artificial SENAI Full-time' from Jun 2020 to Present for 5 mos based at Londrina, Paraná, Brasil, b'Company Name\\nTrade Technology' at None from None to None for None based at None, b'Preceptor de estat\\xc3\\xadstica, probabilidade e infer\\xc3\\xaancia estat\\xc3\\xadstica' at b'Programa de Integra\\xc3\\xa7\\xc3\\xa3o Estudantil (PROINTE) - UEM' from Feb 2015 to Dec 2017 for 2 yrs 11 mos based at Maringá, b'Company Name\\nEstats Consultoria' at None from None to None for None based at None, b'Residente' at b'HUB de Intelig\\xc3\\xaancia Artificial SENAI Full-time' from Aug 2020 to Present for 3 mos based at Londrina, Paraná, Brazil, b'Instrutor de Programa\\xc3\\xa7\\xc3\\xa3o' at None from None to None for None based at None, b'P&D - Pesquisador' at b'Senai - PR Part-time' from Dec 2019 to Jun 2020 for 7 mos based at Londrina, Paraná, b'Analista de Gest\\xc3\\xa3o de Cidades' at None from None to None for None based at None, b'Brazilian Scientific Mobility Program Scholarship' at b'CAPES - Coordena\\xc3\\xa7\\xc3\\xa3o de Aperfei\\xc3\\xa7oamento de Pessoal de N\\xc3\\xadvel Superior' from Jul 2014 to Dec 2015 for 1 yr 6 mos based at Estados Unidos, b'Residente' at b'HUB de Intelig\\xc3\\xaancia Artificial SENAI Full-time' from Aug 2020 to Present for 3 mos based at Londrina, Paraná, Brasil, b'Estagi\\xc3\\xa1rio de Estat\\xc3\\xadstica' at None from None to None for None based at None, b'Estagi\\xc3\\xa1rio em Business Intelligence' at b'Mirum Agency' from Nov 2016 to Apr 2017 for 6 mos based at Curitiba e Região, Brasil, b'Estagi\\xc3\\xa1rio' at b'Tribunal de Justica do Parana' from Jul 2015 to Oct 2016 for 1 yr 4 mos based at Curitiba e Região, Brasil, b'Estagi\\xc3\\xa1rio' at b'E. J. L Servi\\xc3\\xa7os Administrativos' from Feb 2013 to Jun 2013 for 5 mos based at Curitiba e Região, Brasil, b'Residente' at b'HUB de Intelig\\xc3\\xaancia Artificial SENAI Full-time' from Jun 2020 to Present for 5 mos based at Londrina, Paraná, Brasil, b'Company Name\\nTrade Technology' at None from None to None for None based at None, b'Preceptor de estat\\xc3\\xadstica, probabilidade e infer\\xc3\\xaancia estat\\xc3\\xadstica' at b'Programa de Integra\\xc3\\xa7\\xc3\\xa3o Estudantil (PROINTE) - UEM' from Feb 2015 to Dec 2017 for 2 yrs 11 mos based at Maringá, b'Company Name\\nEstats Consultoria' at None from None to None for None based at None, b'Residente' at b'HUB de Intelig\\xc3\\xaancia Artificial SENAI Full-time' from Aug 2020 to Present for 3 mos based at Londrina, Paraná, Brazil, b'Instrutor de Programa\\xc3\\xa7\\xc3\\xa3o' at None from None to None for None based at None, b'P&D - Pesquisador' at b'Senai - PR Part-time' from Dec 2019 to Jun 2020 for 7 mos based at Londrina, Paraná, b'Analista de Gest\\xc3\\xa3o de Cidades' at None from None to None for None based at None, b'Brazilian Scientific Mobility Program Scholarship' at b'CAPES - Coordena\\xc3\\xa7\\xc3\\xa3o de Aperfei\\xc3\\xa7oamento de Pessoal de N\\xc3\\xadvel Superior' from Jul 2014 to Dec 2015 for 1 yr 6 mos based at Estados Unidos, b'Residente' at b'HUB de Intelig\\xc3\\xaancia Artificial SENAI Full-time' from Aug 2020 to Present for 3 mos based at Londrina, Paraná, Brasil, b'Estagi\\xc3\\xa1rio de Estat\\xc3\\xadstica' at None from None to None for None based at None, b'Estagi\\xc3\\xa1rio em Business Intelligence' at b'Mirum Agency' from Nov 2016 to Apr 2017 for 6 mos based at Curitiba e Região, Brasil, b'Estagi\\xc3\\xa1rio' at b'Tribunal de Justica do Parana' from Jul 2015 to Oct 2016 for 1 yr 4 mos based at Curitiba e Região, Brasil, b'Estagi\\xc3\\xa1rio' at b'E. J. L Servi\\xc3\\xa7os Administrativos' from Feb 2013 to Jun 2013 for 5 mos based at Curitiba e Região, Brasil, b'Residente' at b'HUB de Intelig\\xc3\\xaancia Artificial SENAI Full-time' from Jun 2020 to Present for 5 mos based at Londrina, Paraná, Brasil, b'Company Name\\nTrade Technology' at None from None to None for None based at None, b'Preceptor de estat\\xc3\\xadstica, probabilidade e infer\\xc3\\xaancia estat\\xc3\\xadstica' at b'Programa de Integra\\xc3\\xa7\\xc3\\xa3o Estudantil (PROINTE) - UEM' from Feb 2015 to Dec 2017 for 2 yrs 11 mos based at Maringá, b'Company Name\\nEstats Consultoria' at None from None to None for None based at None]\n",
      "\n",
      "Education\n",
      "[None at b'University of Arizona' from None to None, None at b'University of Arizona' from None to None, None at b'University of Arizona' from None to None, b'BS Degree' at b'Servi\\xc3\\xa7o Nacional de Aprendizagem Industrial' from 2018 to 2021, b'BS Degree' at b'Federal University of Technology - Parana' from 2009 to 2016, b'Non-Degree' at b'Northern Arizona University' from 2014 to 2015, b'BS Degree' at b'Servi\\xc3\\xa7o Nacional de Aprendizagem Industrial' from 2018 to 2021, b'BS Degree' at b'Federal University of Technology - Parana' from 2009 to 2016, b'Non-Degree' at b'Northern Arizona University' from 2014 to 2015, b'BS Degree' at b'Servi\\xc3\\xa7o Nacional de Aprendizagem Industrial' from 2018 to 2021, b'BS Degree' at b'Federal University of Technology - Parana' from 2009 to 2016, b'Non-Degree' at b'Northern Arizona University' from 2014 to 2015, b'Bacharelado' at b'Universidade Federal do Paran\\xc3\\xa1' from 2014 to 2019, b'T\\xc3\\xa9cnico' at b'Instituto Federal do Paran\\xc3\\xa1 - IFPR (Curitiba)' from 2011 to 2013, b'Bacharelado' at b'Universidade Estadual de Maring\\xc3\\xa1' from 2014 to 2018, b'BS Degree' at b'Servi\\xc3\\xa7o Nacional de Aprendizagem Industrial' from 2018 to 2021, b'BS Degree' at b'Federal University of Technology - Parana' from 2009 to 2016, b'Non-Degree' at b'Northern Arizona University' from 2014 to 2015, b'Bacharelado' at b'Universidade Federal do Paran\\xc3\\xa1' from 2014 to 2019, b'T\\xc3\\xa9cnico' at b'Instituto Federal do Paran\\xc3\\xa1 - IFPR (Curitiba)' from 2011 to 2013, b'Bacharelado' at b'Universidade Estadual de Maring\\xc3\\xa1' from 2014 to 2018, b'BS Degree' at b'Servi\\xc3\\xa7o Nacional de Aprendizagem Industrial' from 2018 to 2021, b'BS Degree' at b'Federal University of Technology - Parana' from 2009 to 2016, b'Non-Degree' at b'Northern Arizona University' from 2014 to 2015, b'Bacharelado' at b'Universidade Federal do Paran\\xc3\\xa1' from 2014 to 2019, b'T\\xc3\\xa9cnico' at b'Instituto Federal do Paran\\xc3\\xa1 - IFPR (Curitiba)' from 2011 to 2013, b'Bacharelado' at b'Universidade Estadual de Maring\\xc3\\xa1' from 2014 to 2018]\n",
      "\n",
      "Interest\n",
      "[]\n",
      "\n",
      "Accomplishments\n",
      "[]\n",
      "Victor Hugo Nagahama\n",
      "\n",
      "Experience\n",
      "[b'Professional Basketball Player' at b'National Basketball Association (NBA)' from 2004 – to  for 16 yrs based at United States, b'Venture Partner' at None from None to None for None based at None, b'Investment Committee' at None from None to None for None based at None, b'Board Member' at None from None to None for None based at None, b'Vice President' at b'National Basketball Players Association (NBPA)' from Feb 2013 to Present for 7 yrs 9 mos based at New York, NY, b'Professional Basketball Player' at b'National Basketball Association (NBA)' from 2004 – to  for 16 yrs based at United States, b'Venture Partner' at None from None to None for None based at None, b'Investment Committee' at None from None to None for None based at None, b'Board Member' at None from None to None for None based at None, b'Vice President' at b'National Basketball Players Association (NBPA)' from Feb 2013 to Present for 7 yrs 9 mos based at New York, NY, b'Professional Basketball Player' at b'National Basketball Association (NBA)' from 2004 – to  for 16 yrs based at United States, b'Venture Partner' at None from None to None for None based at None, b'Investment Committee' at None from None to None for None based at None, b'Board Member' at None from None to None for None based at None, b'Vice President' at b'National Basketball Players Association (NBPA)' from Feb 2013 to Present for 7 yrs 9 mos based at New York, NY, b'Residente' at b'HUB de Intelig\\xc3\\xaancia Artificial SENAI Full-time' from Aug 2020 to Present for 3 mos based at Londrina, Paraná, Brazil, b'Instrutor de Programa\\xc3\\xa7\\xc3\\xa3o' at None from None to None for None based at None, b'P&D - Pesquisador' at b'Senai - PR Part-time' from Dec 2019 to Jun 2020 for 7 mos based at Londrina, Paraná, b'Analista de Gest\\xc3\\xa3o de Cidades' at None from None to None for None based at None, b'Brazilian Scientific Mobility Program Scholarship' at b'CAPES - Coordena\\xc3\\xa7\\xc3\\xa3o de Aperfei\\xc3\\xa7oamento de Pessoal de N\\xc3\\xadvel Superior' from Jul 2014 to Dec 2015 for 1 yr 6 mos based at Estados Unidos, b'Residente' at b'HUB de Intelig\\xc3\\xaancia Artificial SENAI Full-time' from Aug 2020 to Present for 3 mos based at Londrina, Paraná, Brazil, b'Instrutor de Programa\\xc3\\xa7\\xc3\\xa3o' at None from None to None for None based at None, b'P&D - Pesquisador' at b'Senai - PR Part-time' from Dec 2019 to Jun 2020 for 7 mos based at Londrina, Paraná, b'Analista de Gest\\xc3\\xa3o de Cidades' at None from None to None for None based at None, b'Brazilian Scientific Mobility Program Scholarship' at b'CAPES - Coordena\\xc3\\xa7\\xc3\\xa3o de Aperfei\\xc3\\xa7oamento de Pessoal de N\\xc3\\xadvel Superior' from Jul 2014 to Dec 2015 for 1 yr 6 mos based at Estados Unidos, b'Residente' at b'HUB de Intelig\\xc3\\xaancia Artificial SENAI Full-time' from Aug 2020 to Present for 3 mos based at Londrina, Paraná, Brazil, b'Instrutor de Programa\\xc3\\xa7\\xc3\\xa3o' at None from None to None for None based at None, b'P&D - Pesquisador' at b'Senai - PR Part-time' from Dec 2019 to Jun 2020 for 7 mos based at Londrina, Paraná, b'Analista de Gest\\xc3\\xa3o de Cidades' at None from None to None for None based at None, b'Brazilian Scientific Mobility Program Scholarship' at b'CAPES - Coordena\\xc3\\xa7\\xc3\\xa3o de Aperfei\\xc3\\xa7oamento de Pessoal de N\\xc3\\xadvel Superior' from Jul 2014 to Dec 2015 for 1 yr 6 mos based at Estados Unidos, b'Residente' at b'HUB de Intelig\\xc3\\xaancia Artificial SENAI Full-time' from Aug 2020 to Present for 3 mos based at Londrina, Paraná, Brasil, b'Estagi\\xc3\\xa1rio de Estat\\xc3\\xadstica' at None from None to None for None based at None, b'Estagi\\xc3\\xa1rio em Business Intelligence' at b'Mirum Agency' from Nov 2016 to Apr 2017 for 6 mos based at Curitiba e Região, Brasil, b'Estagi\\xc3\\xa1rio' at b'Tribunal de Justica do Parana' from Jul 2015 to Oct 2016 for 1 yr 4 mos based at Curitiba e Região, Brasil, b'Estagi\\xc3\\xa1rio' at b'E. J. L Servi\\xc3\\xa7os Administrativos' from Feb 2013 to Jun 2013 for 5 mos based at Curitiba e Região, Brasil, b'Residente' at b'HUB de Intelig\\xc3\\xaancia Artificial SENAI Full-time' from Jun 2020 to Present for 5 mos based at Londrina, Paraná, Brasil, b'Company Name\\nTrade Technology' at None from None to None for None based at None, b'Preceptor de estat\\xc3\\xadstica, probabilidade e infer\\xc3\\xaancia estat\\xc3\\xadstica' at b'Programa de Integra\\xc3\\xa7\\xc3\\xa3o Estudantil (PROINTE) - UEM' from Feb 2015 to Dec 2017 for 2 yrs 11 mos based at Maringá, b'Company Name\\nEstats Consultoria' at None from None to None for None based at None, b'Residente' at b'HUB de Intelig\\xc3\\xaancia Artificial SENAI Full-time' from Aug 2020 to Present for 3 mos based at Londrina, Paraná, Brazil, b'Instrutor de Programa\\xc3\\xa7\\xc3\\xa3o' at None from None to None for None based at None, b'P&D - Pesquisador' at b'Senai - PR Part-time' from Dec 2019 to Jun 2020 for 7 mos based at Londrina, Paraná, b'Analista de Gest\\xc3\\xa3o de Cidades' at None from None to None for None based at None, b'Brazilian Scientific Mobility Program Scholarship' at b'CAPES - Coordena\\xc3\\xa7\\xc3\\xa3o de Aperfei\\xc3\\xa7oamento de Pessoal de N\\xc3\\xadvel Superior' from Jul 2014 to Dec 2015 for 1 yr 6 mos based at Estados Unidos, b'Residente' at b'HUB de Intelig\\xc3\\xaancia Artificial SENAI Full-time' from Aug 2020 to Present for 3 mos based at Londrina, Paraná, Brasil, b'Estagi\\xc3\\xa1rio de Estat\\xc3\\xadstica' at None from None to None for None based at None, b'Estagi\\xc3\\xa1rio em Business Intelligence' at b'Mirum Agency' from Nov 2016 to Apr 2017 for 6 mos based at Curitiba e Região, Brasil, b'Estagi\\xc3\\xa1rio' at b'Tribunal de Justica do Parana' from Jul 2015 to Oct 2016 for 1 yr 4 mos based at Curitiba e Região, Brasil, b'Estagi\\xc3\\xa1rio' at b'E. J. L Servi\\xc3\\xa7os Administrativos' from Feb 2013 to Jun 2013 for 5 mos based at Curitiba e Região, Brasil, b'Residente' at b'HUB de Intelig\\xc3\\xaancia Artificial SENAI Full-time' from Jun 2020 to Present for 5 mos based at Londrina, Paraná, Brasil, b'Company Name\\nTrade Technology' at None from None to None for None based at None, b'Preceptor de estat\\xc3\\xadstica, probabilidade e infer\\xc3\\xaancia estat\\xc3\\xadstica' at b'Programa de Integra\\xc3\\xa7\\xc3\\xa3o Estudantil (PROINTE) - UEM' from Feb 2015 to Dec 2017 for 2 yrs 11 mos based at Maringá, b'Company Name\\nEstats Consultoria' at None from None to None for None based at None, b'Residente' at b'HUB de Intelig\\xc3\\xaancia Artificial SENAI Full-time' from Aug 2020 to Present for 3 mos based at Londrina, Paraná, Brazil, b'Instrutor de Programa\\xc3\\xa7\\xc3\\xa3o' at None from None to None for None based at None, b'P&D - Pesquisador' at b'Senai - PR Part-time' from Dec 2019 to Jun 2020 for 7 mos based at Londrina, Paraná, b'Analista de Gest\\xc3\\xa3o de Cidades' at None from None to None for None based at None, b'Brazilian Scientific Mobility Program Scholarship' at b'CAPES - Coordena\\xc3\\xa7\\xc3\\xa3o de Aperfei\\xc3\\xa7oamento de Pessoal de N\\xc3\\xadvel Superior' from Jul 2014 to Dec 2015 for 1 yr 6 mos based at Estados Unidos, b'Residente' at b'HUB de Intelig\\xc3\\xaancia Artificial SENAI Full-time' from Aug 2020 to Present for 3 mos based at Londrina, Paraná, Brasil, b'Estagi\\xc3\\xa1rio de Estat\\xc3\\xadstica' at None from None to None for None based at None, b'Estagi\\xc3\\xa1rio em Business Intelligence' at b'Mirum Agency' from Nov 2016 to Apr 2017 for 6 mos based at Curitiba e Região, Brasil, b'Estagi\\xc3\\xa1rio' at b'Tribunal de Justica do Parana' from Jul 2015 to Oct 2016 for 1 yr 4 mos based at Curitiba e Região, Brasil, b'Estagi\\xc3\\xa1rio' at b'E. J. L Servi\\xc3\\xa7os Administrativos' from Feb 2013 to Jun 2013 for 5 mos based at Curitiba e Região, Brasil, b'Residente' at b'HUB de Intelig\\xc3\\xaancia Artificial SENAI Full-time' from Jun 2020 to Present for 5 mos based at Londrina, Paraná, Brasil, b'Company Name\\nTrade Technology' at None from None to None for None based at None, b'Preceptor de estat\\xc3\\xadstica, probabilidade e infer\\xc3\\xaancia estat\\xc3\\xadstica' at b'Programa de Integra\\xc3\\xa7\\xc3\\xa3o Estudantil (PROINTE) - UEM' from Feb 2015 to Dec 2017 for 2 yrs 11 mos based at Maringá, b'Company Name\\nEstats Consultoria' at None from None to None for None based at None]\n",
      "\n",
      "Education\n",
      "[None at b'University of Arizona' from None to None, None at b'University of Arizona' from None to None, None at b'University of Arizona' from None to None, b'BS Degree' at b'Servi\\xc3\\xa7o Nacional de Aprendizagem Industrial' from 2018 to 2021, b'BS Degree' at b'Federal University of Technology - Parana' from 2009 to 2016, b'Non-Degree' at b'Northern Arizona University' from 2014 to 2015, b'BS Degree' at b'Servi\\xc3\\xa7o Nacional de Aprendizagem Industrial' from 2018 to 2021, b'BS Degree' at b'Federal University of Technology - Parana' from 2009 to 2016, b'Non-Degree' at b'Northern Arizona University' from 2014 to 2015, b'BS Degree' at b'Servi\\xc3\\xa7o Nacional de Aprendizagem Industrial' from 2018 to 2021, b'BS Degree' at b'Federal University of Technology - Parana' from 2009 to 2016, b'Non-Degree' at b'Northern Arizona University' from 2014 to 2015, b'Bacharelado' at b'Universidade Federal do Paran\\xc3\\xa1' from 2014 to 2019, b'T\\xc3\\xa9cnico' at b'Instituto Federal do Paran\\xc3\\xa1 - IFPR (Curitiba)' from 2011 to 2013, b'Bacharelado' at b'Universidade Estadual de Maring\\xc3\\xa1' from 2014 to 2018, b'BS Degree' at b'Servi\\xc3\\xa7o Nacional de Aprendizagem Industrial' from 2018 to 2021, b'BS Degree' at b'Federal University of Technology - Parana' from 2009 to 2016, b'Non-Degree' at b'Northern Arizona University' from 2014 to 2015, b'Bacharelado' at b'Universidade Federal do Paran\\xc3\\xa1' from 2014 to 2019, b'T\\xc3\\xa9cnico' at b'Instituto Federal do Paran\\xc3\\xa1 - IFPR (Curitiba)' from 2011 to 2013, b'Bacharelado' at b'Universidade Estadual de Maring\\xc3\\xa1' from 2014 to 2018, b'BS Degree' at b'Servi\\xc3\\xa7o Nacional de Aprendizagem Industrial' from 2018 to 2021, b'BS Degree' at b'Federal University of Technology - Parana' from 2009 to 2016, b'Non-Degree' at b'Northern Arizona University' from 2014 to 2015, b'Bacharelado' at b'Universidade Federal do Paran\\xc3\\xa1' from 2014 to 2019, b'T\\xc3\\xa9cnico' at b'Instituto Federal do Paran\\xc3\\xa1 - IFPR (Curitiba)' from 2011 to 2013, b'Bacharelado' at b'Universidade Estadual de Maring\\xc3\\xa1' from 2014 to 2018]\n",
      "\n",
      "Interest\n",
      "[]\n",
      "\n",
      "Accomplishments\n",
      "[]\n"
     ]
    }
   ],
   "source": [
    "# looping through the profiles\n",
    "for Profile in ProfileList:\n",
    "    print(Profile)"
   ]
  },
  {
   "cell_type": "code",
   "execution_count": null,
   "metadata": {},
   "outputs": [],
   "source": [
    "for l in link:\n",
    "    person = Person(l, driver=driver, scrape=False)\n",
    "    person.scrape(close_on_complete=False)\n",
    "print(person)\n",
    "\n",
    "import pandas as pd\n",
    "df = pd.DataFrame(\n",
    "  data=[(profile.name, profile.linkedin_url, profile.education) for profile in profile_list],\n",
    "  columns=[\"name\", \"url\", \"education\"]\n",
    ")"
   ]
  },
  {
   "cell_type": "code",
   "execution_count": null,
   "metadata": {},
   "outputs": [],
   "source": []
  },
  {
   "cell_type": "code",
   "execution_count": null,
   "metadata": {},
   "outputs": [],
   "source": [
    "#Pegar informações da Página 'Contact Info' do Linkedin"
   ]
  },
  {
   "cell_type": "code",
   "execution_count": 10,
   "metadata": {},
   "outputs": [
    {
     "name": "stdout",
     "output_type": "stream",
     "text": [
      "b'linkedin.com/in/rodriguesmarcia' b'mrcrdg.github.io/' b'marcia.rrdg@gmail.com' b'April 16'\n"
     ]
    }
   ],
   "source": [
    "#Teste Contact Info:\n",
    "\n",
    "driver = webdriver.Chrome(r\"/usr/bin/chromedriver\")\n",
    "driver.get(\"https://www.linkedin.com/\")\n",
    "\n",
    "email = \"m.rrodrigues@outlook.com\"\n",
    "password = \"Ma17056!\"\n",
    "\n",
    "actions.login(driver, email, password) # if email and password isnt given, it'll prompt in terminal\n",
    "driver.get(\"https://www.linkedin.com/in/rodriguesmarcia/\")\n",
    "driver.find_element_by_xpath(\"//*[@id='ember101']/span\").click()\n",
    "\n",
    "for section in driver.find_elements_by_class_name(\"section-info\"):\n",
    "    \n",
    "    linkedin_url_contact = section.find_element_by_xpath(\n",
    "                    \"/html/body/div[4]/div/div/div[2]/section/div/div[1]/div/section[1]/div/a\").text.encode('utf-8').strip()\n",
    "    website_contact = section.find_element_by_xpath(\n",
    "                    \"/html/body/div[4]/div/div/div[2]/section/div/div[1]/div/section[2]/ul/li/div/a\").text.encode('utf-8').strip()\n",
    "    email = section.find_element_by_xpath(\n",
    "                    \"/html/body/div[4]/div/div/div[2]/section/div/div[1]/div/section[3]/div/a\").text.encode('utf-8')\n",
    "    birthday = section.find_element_by_xpath(\n",
    "                    \"/html/body/div[4]/div/div/div[2]/section/div/div[1]/div/section[4]/div/span\").text.encode('utf-8')\n",
    "\n",
    "driver.quit()\n",
    "print(linkedin_url_contact, website_contact, email, birthday)"
   ]
  },
  {
   "cell_type": "code",
   "execution_count": null,
   "metadata": {},
   "outputs": [],
   "source": []
  },
  {
   "cell_type": "code",
   "execution_count": null,
   "metadata": {},
   "outputs": [],
   "source": []
  },
  {
   "cell_type": "code",
   "execution_count": null,
   "metadata": {},
   "outputs": [],
   "source": []
  },
  {
   "cell_type": "code",
   "execution_count": null,
   "metadata": {},
   "outputs": [],
   "source": []
  },
  {
   "cell_type": "code",
   "execution_count": null,
   "metadata": {},
   "outputs": [],
   "source": []
  },
  {
   "cell_type": "code",
   "execution_count": null,
   "metadata": {},
   "outputs": [],
   "source": []
  },
  {
   "cell_type": "code",
   "execution_count": null,
   "metadata": {},
   "outputs": [],
   "source": []
  },
  {
   "cell_type": "code",
   "execution_count": null,
   "metadata": {},
   "outputs": [],
   "source": []
  },
  {
   "cell_type": "code",
   "execution_count": 41,
   "metadata": {},
   "outputs": [],
   "source": [
    "import os\n",
    "from linkedin_scraper import Person, actions\n",
    "from selenium import webdriver\n",
    "\n",
    "options = webdriver.ChromeOptions()\n",
    "options.add_argument('headless') # a ação de abrir o browser não é mostrada\n",
    "options.add_argument('--disable-infobars')\n",
    "options.add_argument('--disable-dev-shm-usage')\n",
    "options.add_argument('--no-sandbox')\n",
    "options.add_argument('--disable-dev-shm-usage')\n",
    "options.add_argument('--remote-debugging-port=9222')\n",
    "\n",
    "driver = webdriver.Chrome(\"./crawler_testes/chromedriver\", options=options)\n",
    "driver.get('https://www.linkedin.com/in/rodriguesmarcia/')\n",
    "\n",
    "email = \"m.rrodrigues@outlook.com\"\n",
    "password = \"Ma17056!\"\n",
    "actions.login(driver, email, password) # if email and password isnt given, it'll prompt in terminal\n",
    "person = Person(\"https://www.linkedin.com/in/rodriguesmarcia/\", driver=driver)"
   ]
  }
 ],
 "metadata": {
  "kernelspec": {
   "display_name": "Python 3",
   "language": "python",
   "name": "python3"
  },
  "language_info": {
   "codemirror_mode": {
    "name": "ipython",
    "version": 3
   },
   "file_extension": ".py",
   "mimetype": "text/x-python",
   "name": "python",
   "nbconvert_exporter": "python",
   "pygments_lexer": "ipython3",
   "version": "3.8.3"
  }
 },
 "nbformat": 4,
 "nbformat_minor": 4
}
