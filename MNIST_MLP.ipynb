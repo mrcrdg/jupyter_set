{
  "nbformat": 4,
  "nbformat_minor": 0,
  "metadata": {
    "colab": {
      "name": "MNIST MLP",
      "provenance": [],
      "include_colab_link": true
    },
    "kernelspec": {
      "name": "python3",
      "display_name": "Python 3"
    }
  },
  "cells": [
    {
      "cell_type": "markdown",
      "metadata": {
        "id": "view-in-github",
        "colab_type": "text"
      },
      "source": [
        "<a href=\"https://colab.research.google.com/github/mrcrdg/jupyter_set/blob/master/MNIST_MLP.ipynb\" target=\"_parent\"><img src=\"https://colab.research.google.com/assets/colab-badge.svg\" alt=\"Open In Colab\"/></a>"
      ]
    },
    {
      "cell_type": "code",
      "metadata": {
        "id": "r0lVtk-v4iZA",
        "colab": {
          "base_uri": "https://localhost:8080/"
        },
        "outputId": "97847914-ca4d-4341-b60d-c1bac976c33b"
      },
      "source": [
        "!pip install tensorflow==2"
      ],
      "execution_count": 1,
      "outputs": [
        {
          "output_type": "stream",
          "text": [
            "Collecting tensorflow==2\n",
            "\u001b[?25l  Downloading https://files.pythonhosted.org/packages/46/0f/7bd55361168bb32796b360ad15a25de6966c9c1beb58a8e30c01c8279862/tensorflow-2.0.0-cp36-cp36m-manylinux2010_x86_64.whl (86.3MB)\n",
            "\u001b[K     |████████████████████████████████| 86.3MB 69kB/s \n",
            "\u001b[?25hCollecting gast==0.2.2\n",
            "  Downloading https://files.pythonhosted.org/packages/4e/35/11749bf99b2d4e3cceb4d55ca22590b0d7c2c62b9de38ac4a4a7f4687421/gast-0.2.2.tar.gz\n",
            "Requirement already satisfied: termcolor>=1.1.0 in /usr/local/lib/python3.6/dist-packages (from tensorflow==2) (1.1.0)\n",
            "Collecting keras-applications>=1.0.8\n",
            "\u001b[?25l  Downloading https://files.pythonhosted.org/packages/71/e3/19762fdfc62877ae9102edf6342d71b28fbfd9dea3d2f96a882ce099b03f/Keras_Applications-1.0.8-py3-none-any.whl (50kB)\n",
            "\u001b[K     |████████████████████████████████| 51kB 6.8MB/s \n",
            "\u001b[?25hRequirement already satisfied: six>=1.10.0 in /usr/local/lib/python3.6/dist-packages (from tensorflow==2) (1.15.0)\n",
            "Requirement already satisfied: grpcio>=1.8.6 in /usr/local/lib/python3.6/dist-packages (from tensorflow==2) (1.34.0)\n",
            "Collecting tensorflow-estimator<2.1.0,>=2.0.0\n",
            "\u001b[?25l  Downloading https://files.pythonhosted.org/packages/fc/08/8b927337b7019c374719145d1dceba21a8bb909b93b1ad6f8fb7d22c1ca1/tensorflow_estimator-2.0.1-py2.py3-none-any.whl (449kB)\n",
            "\u001b[K     |████████████████████████████████| 450kB 45.8MB/s \n",
            "\u001b[?25hRequirement already satisfied: absl-py>=0.7.0 in /usr/local/lib/python3.6/dist-packages (from tensorflow==2) (0.10.0)\n",
            "Requirement already satisfied: numpy<2.0,>=1.16.0 in /usr/local/lib/python3.6/dist-packages (from tensorflow==2) (1.18.5)\n",
            "Requirement already satisfied: protobuf>=3.6.1 in /usr/local/lib/python3.6/dist-packages (from tensorflow==2) (3.12.4)\n",
            "Requirement already satisfied: astor>=0.6.0 in /usr/local/lib/python3.6/dist-packages (from tensorflow==2) (0.8.1)\n",
            "Requirement already satisfied: wrapt>=1.11.1 in /usr/local/lib/python3.6/dist-packages (from tensorflow==2) (1.12.1)\n",
            "Collecting tensorboard<2.1.0,>=2.0.0\n",
            "\u001b[?25l  Downloading https://files.pythonhosted.org/packages/76/54/99b9d5d52d5cb732f099baaaf7740403e83fe6b0cedde940fabd2b13d75a/tensorboard-2.0.2-py3-none-any.whl (3.8MB)\n",
            "\u001b[K     |████████████████████████████████| 3.8MB 43.9MB/s \n",
            "\u001b[?25hRequirement already satisfied: opt-einsum>=2.3.2 in /usr/local/lib/python3.6/dist-packages (from tensorflow==2) (3.3.0)\n",
            "Requirement already satisfied: google-pasta>=0.1.6 in /usr/local/lib/python3.6/dist-packages (from tensorflow==2) (0.2.0)\n",
            "Requirement already satisfied: keras-preprocessing>=1.0.5 in /usr/local/lib/python3.6/dist-packages (from tensorflow==2) (1.1.2)\n",
            "Requirement already satisfied: wheel>=0.26 in /usr/local/lib/python3.6/dist-packages (from tensorflow==2) (0.36.1)\n",
            "Requirement already satisfied: h5py in /usr/local/lib/python3.6/dist-packages (from keras-applications>=1.0.8->tensorflow==2) (2.10.0)\n",
            "Requirement already satisfied: setuptools in /usr/local/lib/python3.6/dist-packages (from protobuf>=3.6.1->tensorflow==2) (50.3.2)\n",
            "Requirement already satisfied: requests<3,>=2.21.0 in /usr/local/lib/python3.6/dist-packages (from tensorboard<2.1.0,>=2.0.0->tensorflow==2) (2.23.0)\n",
            "Requirement already satisfied: werkzeug>=0.11.15 in /usr/local/lib/python3.6/dist-packages (from tensorboard<2.1.0,>=2.0.0->tensorflow==2) (1.0.1)\n",
            "Requirement already satisfied: markdown>=2.6.8 in /usr/local/lib/python3.6/dist-packages (from tensorboard<2.1.0,>=2.0.0->tensorflow==2) (3.3.3)\n",
            "Requirement already satisfied: google-auth-oauthlib<0.5,>=0.4.1 in /usr/local/lib/python3.6/dist-packages (from tensorboard<2.1.0,>=2.0.0->tensorflow==2) (0.4.2)\n",
            "Requirement already satisfied: google-auth<2,>=1.6.3 in /usr/local/lib/python3.6/dist-packages (from tensorboard<2.1.0,>=2.0.0->tensorflow==2) (1.17.2)\n",
            "Requirement already satisfied: certifi>=2017.4.17 in /usr/local/lib/python3.6/dist-packages (from requests<3,>=2.21.0->tensorboard<2.1.0,>=2.0.0->tensorflow==2) (2020.12.5)\n",
            "Requirement already satisfied: chardet<4,>=3.0.2 in /usr/local/lib/python3.6/dist-packages (from requests<3,>=2.21.0->tensorboard<2.1.0,>=2.0.0->tensorflow==2) (3.0.4)\n",
            "Requirement already satisfied: idna<3,>=2.5 in /usr/local/lib/python3.6/dist-packages (from requests<3,>=2.21.0->tensorboard<2.1.0,>=2.0.0->tensorflow==2) (2.10)\n",
            "Requirement already satisfied: urllib3!=1.25.0,!=1.25.1,<1.26,>=1.21.1 in /usr/local/lib/python3.6/dist-packages (from requests<3,>=2.21.0->tensorboard<2.1.0,>=2.0.0->tensorflow==2) (1.24.3)\n",
            "Requirement already satisfied: importlib-metadata; python_version < \"3.8\" in /usr/local/lib/python3.6/dist-packages (from markdown>=2.6.8->tensorboard<2.1.0,>=2.0.0->tensorflow==2) (3.1.1)\n",
            "Requirement already satisfied: requests-oauthlib>=0.7.0 in /usr/local/lib/python3.6/dist-packages (from google-auth-oauthlib<0.5,>=0.4.1->tensorboard<2.1.0,>=2.0.0->tensorflow==2) (1.3.0)\n",
            "Requirement already satisfied: pyasn1-modules>=0.2.1 in /usr/local/lib/python3.6/dist-packages (from google-auth<2,>=1.6.3->tensorboard<2.1.0,>=2.0.0->tensorflow==2) (0.2.8)\n",
            "Requirement already satisfied: rsa<5,>=3.1.4; python_version >= \"3\" in /usr/local/lib/python3.6/dist-packages (from google-auth<2,>=1.6.3->tensorboard<2.1.0,>=2.0.0->tensorflow==2) (4.6)\n",
            "Requirement already satisfied: cachetools<5.0,>=2.0.0 in /usr/local/lib/python3.6/dist-packages (from google-auth<2,>=1.6.3->tensorboard<2.1.0,>=2.0.0->tensorflow==2) (4.1.1)\n",
            "Requirement already satisfied: zipp>=0.5 in /usr/local/lib/python3.6/dist-packages (from importlib-metadata; python_version < \"3.8\"->markdown>=2.6.8->tensorboard<2.1.0,>=2.0.0->tensorflow==2) (3.4.0)\n",
            "Requirement already satisfied: oauthlib>=3.0.0 in /usr/local/lib/python3.6/dist-packages (from requests-oauthlib>=0.7.0->google-auth-oauthlib<0.5,>=0.4.1->tensorboard<2.1.0,>=2.0.0->tensorflow==2) (3.1.0)\n",
            "Requirement already satisfied: pyasn1<0.5.0,>=0.4.6 in /usr/local/lib/python3.6/dist-packages (from pyasn1-modules>=0.2.1->google-auth<2,>=1.6.3->tensorboard<2.1.0,>=2.0.0->tensorflow==2) (0.4.8)\n",
            "Building wheels for collected packages: gast\n",
            "  Building wheel for gast (setup.py) ... \u001b[?25l\u001b[?25hdone\n",
            "  Created wheel for gast: filename=gast-0.2.2-cp36-none-any.whl size=7542 sha256=693b13980f04cdf96d016284815ab6c0633e5c46becf6c62859d2c11b25cf9ae\n",
            "  Stored in directory: /root/.cache/pip/wheels/5c/2e/7e/a1d4d4fcebe6c381f378ce7743a3ced3699feb89bcfbdadadd\n",
            "Successfully built gast\n",
            "\u001b[31mERROR: tensorflow-probability 0.11.0 has requirement gast>=0.3.2, but you'll have gast 0.2.2 which is incompatible.\u001b[0m\n",
            "Installing collected packages: gast, keras-applications, tensorflow-estimator, tensorboard, tensorflow\n",
            "  Found existing installation: gast 0.3.3\n",
            "    Uninstalling gast-0.3.3:\n",
            "      Successfully uninstalled gast-0.3.3\n",
            "  Found existing installation: tensorflow-estimator 2.3.0\n",
            "    Uninstalling tensorflow-estimator-2.3.0:\n",
            "      Successfully uninstalled tensorflow-estimator-2.3.0\n",
            "  Found existing installation: tensorboard 2.3.0\n",
            "    Uninstalling tensorboard-2.3.0:\n",
            "      Successfully uninstalled tensorboard-2.3.0\n",
            "  Found existing installation: tensorflow 2.3.0\n",
            "    Uninstalling tensorflow-2.3.0:\n",
            "      Successfully uninstalled tensorflow-2.3.0\n",
            "Successfully installed gast-0.2.2 keras-applications-1.0.8 tensorboard-2.0.2 tensorflow-2.0.0 tensorflow-estimator-2.0.1\n"
          ],
          "name": "stdout"
        }
      ]
    },
    {
      "cell_type": "code",
      "metadata": {
        "id": "Wh6XFQg85BCk"
      },
      "source": [
        "from tensorflow.keras.datasets import mnist\n",
        "from tensorflow.keras.models import Sequential\n",
        "from tensorflow.keras.layers import Dense, Dropout\n",
        "from tensorflow.keras.utils import to_categorical"
      ],
      "execution_count": 2,
      "outputs": []
    },
    {
      "cell_type": "markdown",
      "metadata": {
        "id": "r4dmzR297gFE"
      },
      "source": [
        "Load the dataset and split into test and train data"
      ]
    },
    {
      "cell_type": "code",
      "metadata": {
        "id": "0Xg4aewN7ej1",
        "outputId": "a2e29a19-e32d-4125-e1b0-f6d834a14b1d",
        "colab": {
          "base_uri": "https://localhost:8080/"
        }
      },
      "source": [
        "# the data, split between train and test sets\n",
        "(x_train, y_train), (x_test, y_test) = mnist.load_data()"
      ],
      "execution_count": 3,
      "outputs": [
        {
          "output_type": "stream",
          "text": [
            "Downloading data from https://storage.googleapis.com/tensorflow/tf-keras-datasets/mnist.npz\n",
            "11493376/11490434 [==============================] - 0s 0us/step\n"
          ],
          "name": "stdout"
        }
      ]
    },
    {
      "cell_type": "markdown",
      "metadata": {
        "id": "dzXbF8hf7mJI"
      },
      "source": [
        "Check the Shape of the data"
      ]
    },
    {
      "cell_type": "code",
      "metadata": {
        "id": "AGt1BnC37o9U",
        "colab": {
          "base_uri": "https://localhost:8080/"
        },
        "outputId": "a3b836c2-822b-421a-aab3-a528a9136716"
      },
      "source": [
        "print(x_train.shape)\n",
        "print(y_train.shape)"
      ],
      "execution_count": 4,
      "outputs": [
        {
          "output_type": "stream",
          "text": [
            "(60000, 28, 28)\n",
            "(60000,)\n"
          ],
          "name": "stdout"
        }
      ]
    },
    {
      "cell_type": "markdown",
      "metadata": {
        "id": "G6bbgq9H7zHG"
      },
      "source": [
        "Plot one of the digits:"
      ]
    },
    {
      "cell_type": "code",
      "metadata": {
        "id": "ku_wKmab72J-"
      },
      "source": [
        "import seaborn as sns\n",
        "import random"
      ],
      "execution_count": 5,
      "outputs": []
    },
    {
      "cell_type": "code",
      "metadata": {
        "id": "2fTAiwXx9Z85"
      },
      "source": [
        "random_index= random.randint(0,5999)"
      ],
      "execution_count": 6,
      "outputs": []
    },
    {
      "cell_type": "code",
      "metadata": {
        "id": "j1pYOJyX75Hb",
        "colab": {
          "base_uri": "https://localhost:8080/",
          "height": 265
        },
        "outputId": "d3c6a865-b735-40a6-d521-a40bfb7c93bd"
      },
      "source": [
        "sns.heatmap(x_train[random_index], cbar=False, xticklabels=False, yticklabels=False)"
      ],
      "execution_count": 7,
      "outputs": [
        {
          "output_type": "execute_result",
          "data": {
            "text/plain": [
              "<matplotlib.axes._subplots.AxesSubplot at 0x7f725a2a39b0>"
            ]
          },
          "metadata": {
            "tags": []
          },
          "execution_count": 7
        },
        {
          "output_type": "display_data",
          "data": {
            "image/png": "[encoded data removed]",
            "text/plain": [
              "<Figure size 432x288 with 1 Axes>"
            ]
          },
          "metadata": {
            "tags": []
          }
        }
      ]
    },
    {
      "cell_type": "markdown",
      "metadata": {
        "id": "WWc8SEDW9vlR"
      },
      "source": [
        "Reshape data so it is just a single line per handwritten digit"
      ]
    },
    {
      "cell_type": "code",
      "metadata": {
        "id": "OVVCWnqv5LKJ",
        "colab": {
          "base_uri": "https://localhost:8080/"
        },
        "outputId": "ceb39a03-86be-42da-ea84-6ca2255943ff"
      },
      "source": [
        "x_train = x_train.reshape(60000, 784)\n",
        "x_test = x_test.reshape(10000, 784)\n",
        "\n",
        "print(x_train.shape[0], 'train samples')\n",
        "print(x_test.shape[0], 'test samples')"
      ],
      "execution_count": 8,
      "outputs": [
        {
          "output_type": "stream",
          "text": [
            "60000 train samples\n",
            "10000 test samples\n"
          ],
          "name": "stdout"
        }
      ]
    },
    {
      "cell_type": "markdown",
      "metadata": {
        "id": "HHDX0Hur-XBd"
      },
      "source": [
        "Convert class vectors to binary class matrices"
      ]
    },
    {
      "cell_type": "code",
      "metadata": {
        "id": "TgGl9B-u-ary",
        "colab": {
          "base_uri": "https://localhost:8080/"
        },
        "outputId": "79d44b73-c3d5-4915-bddf-edd0b9711845"
      },
      "source": [
        "print(y_train[100])"
      ],
      "execution_count": 9,
      "outputs": [
        {
          "output_type": "stream",
          "text": [
            "5\n"
          ],
          "name": "stdout"
        }
      ]
    },
    {
      "cell_type": "markdown",
      "metadata": {
        "id": "qcBfmxoJ-fJW"
      },
      "source": [
        "We need to do the one-hot encoding (adding statistical dummy variables to represent classes)"
      ]
    },
    {
      "cell_type": "code",
      "metadata": {
        "id": "4aN0BbMd5OHv"
      },
      "source": [
        "y_train = to_categorical(y_train, 10)\n",
        "y_test = to_categorical(y_test, 10)"
      ],
      "execution_count": 10,
      "outputs": []
    },
    {
      "cell_type": "code",
      "metadata": {
        "id": "mfL0f_7r-m18",
        "colab": {
          "base_uri": "https://localhost:8080/"
        },
        "outputId": "d53292df-e454-4d09-b47f-d2c1b0bff339"
      },
      "source": [
        "print(y_train[100])"
      ],
      "execution_count": 11,
      "outputs": [
        {
          "output_type": "stream",
          "text": [
            "[0. 0. 0. 0. 0. 1. 0. 0. 0. 0.]\n"
          ],
          "name": "stdout"
        }
      ]
    },
    {
      "cell_type": "markdown",
      "metadata": {
        "id": "mG_8UTHV-uoD"
      },
      "source": [
        "Start with a very simple model"
      ]
    },
    {
      "cell_type": "code",
      "metadata": {
        "id": "KcgDoyJmB4aN"
      },
      "source": [
        "model1 = Sequential()\n",
        "model1.add(Dense(8, activation=\"sigmoid\", input_shape=(784,)))\n",
        "model1.add(Dense(10, activation=\"softmax\"))"
      ],
      "execution_count": 12,
      "outputs": []
    },
    {
      "cell_type": "markdown",
      "metadata": {
        "id": "VE_SZkolCGsw"
      },
      "source": [
        "Print the model summary"
      ]
    },
    {
      "cell_type": "code",
      "metadata": {
        "id": "9nm8SoY3CKUT",
        "colab": {
          "base_uri": "https://localhost:8080/"
        },
        "outputId": "8c556521-7331-4a5d-88d7-1e6c1306a947"
      },
      "source": [
        "model1.summary()"
      ],
      "execution_count": 13,
      "outputs": [
        {
          "output_type": "stream",
          "text": [
            "Model: \"sequential\"\n",
            "_________________________________________________________________\n",
            "Layer (type)                 Output Shape              Param #   \n",
            "=================================================================\n",
            "dense (Dense)                (None, 8)                 6280      \n",
            "_________________________________________________________________\n",
            "dense_1 (Dense)              (None, 10)                90        \n",
            "=================================================================\n",
            "Total params: 6,370\n",
            "Trainable params: 6,370\n",
            "Non-trainable params: 0\n",
            "_________________________________________________________________\n"
          ],
          "name": "stdout"
        }
      ]
    },
    {
      "cell_type": "markdown",
      "metadata": {
        "id": "fpHOSfNFCWqq"
      },
      "source": [
        "Lets compile it using the categorical_crossentropy since this is a classification problem"
      ]
    },
    {
      "cell_type": "code",
      "metadata": {
        "id": "4Gn41wixCVOs"
      },
      "source": [
        "model1.compile(loss='mse', optimizer=\"sgd\",\n",
        "               metrics=['accuracy'])"
      ],
      "execution_count": 14,
      "outputs": []
    },
    {
      "cell_type": "markdown",
      "metadata": {
        "id": "XPJwcFHICv5K"
      },
      "source": [
        "Do the training"
      ]
    },
    {
      "cell_type": "code",
      "metadata": {
        "id": "ywRGj-QtCz0m",
        "colab": {
          "base_uri": "https://localhost:8080/"
        },
        "outputId": "738e7be5-9826-479f-93f2-84fe3547233b"
      },
      "source": [
        "history = model1.fit(x_train, y_train,\n",
        "                     epochs=5,\n",
        "                     verbose=1)"
      ],
      "execution_count": 15,
      "outputs": [
        {
          "output_type": "stream",
          "text": [
            "Train on 60000 samples\n",
            "Epoch 1/5\n",
            "60000/60000 [==============================] - 3s 56us/sample - loss: 0.0877 - accuracy: 0.2223\n",
            "Epoch 2/5\n",
            "60000/60000 [==============================] - 3s 48us/sample - loss: 0.0830 - accuracy: 0.3140\n",
            "Epoch 3/5\n",
            "60000/60000 [==============================] - 3s 47us/sample - loss: 0.0800 - accuracy: 0.3849\n",
            "Epoch 4/5\n",
            "60000/60000 [==============================] - 3s 47us/sample - loss: 0.0774 - accuracy: 0.4468\n",
            "Epoch 5/5\n",
            "60000/60000 [==============================] - 3s 48us/sample - loss: 0.0753 - accuracy: 0.4592\n"
          ],
          "name": "stdout"
        }
      ]
    },
    {
      "cell_type": "markdown",
      "metadata": {
        "id": "KDj_hyRrD1hZ"
      },
      "source": [
        "Evaluate the quality of the model"
      ]
    },
    {
      "cell_type": "code",
      "metadata": {
        "id": "h6PiI4s7D0P7",
        "colab": {
          "base_uri": "https://localhost:8080/"
        },
        "outputId": "9774f549-def0-428f-cc75-3e0d83f28182"
      },
      "source": [
        "score = model1.evaluate(x_test, y_test, verbose=0)\n",
        "print(score[1])\n"
      ],
      "execution_count": 65,
      "outputs": [
        {
          "output_type": "stream",
          "text": [
            "0.1853\n"
          ],
          "name": "stdout"
        }
      ]
    },
    {
      "cell_type": "code",
      "metadata": {
        "id": "92uLCuXlbffO"
      },
      "source": [
        "## Melhorar o modelo"
      ],
      "execution_count": 17,
      "outputs": []
    },
    {
      "cell_type": "markdown",
      "metadata": {
        "id": "jlaR67G4bjdb"
      },
      "source": [
        "- Try addind Dropout layers;\n",
        "- Increase the number of epochs;\n",
        "- Try to normalize the data."
      ]
    },
    {
      "cell_type": "code",
      "metadata": {
        "id": "WyqQsVxia98O",
        "outputId": "7c5bf880-6173-43f0-d020-61d789982b8e",
        "colab": {
          "base_uri": "https://localhost:8080/"
        }
      },
      "source": [
        "# the data, split between train and test sets\n",
        "(x_train, y_train), (x_test, y_test) = mnist.load_data()\n",
        "print(x_train.shape)\n",
        "print(y_train.shape)"
      ],
      "execution_count": 47,
      "outputs": [
        {
          "output_type": "stream",
          "text": [
            "(60000, 28, 28)\n",
            "(60000,)\n"
          ],
          "name": "stdout"
        }
      ]
    },
    {
      "cell_type": "code",
      "metadata": {
        "id": "IL3dmL2Ea9-r",
        "outputId": "2aae7396-4a75-4ec9-c80b-e7e56d88272b",
        "colab": {
          "base_uri": "https://localhost:8080/",
          "height": 265
        }
      },
      "source": [
        "#Plot one of the digits:\n",
        "random_index= random.randint(0,5999)\n",
        "\n",
        "sns.heatmap(x_train[random_index], cbar=False, xticklabels=False, yticklabels=False)"
      ],
      "execution_count": 48,
      "outputs": [
        {
          "output_type": "execute_result",
          "data": {
            "text/plain": [
              "<matplotlib.axes._subplots.AxesSubplot at 0x7f724fa2a400>"
            ]
          },
          "metadata": {
            "tags": []
          },
          "execution_count": 48
        },
        {
          "output_type": "display_data",
          "data": {
            "image/png": "[encoded data removed]",
            "text/plain": [
              "<Figure size 432x288 with 1 Axes>"
            ]
          },
          "metadata": {
            "tags": []
          }
        }
      ]
    },
    {
      "cell_type": "code",
      "metadata": {
        "id": "tOsNWXLia-BJ",
        "outputId": "84320a26-1790-4c3f-8ed5-46917200ad3d",
        "colab": {
          "base_uri": "https://localhost:8080/"
        }
      },
      "source": [
        "#Reshape data so it is just a single line per handwritten digit\n",
        "\n",
        "x_train = x_train.reshape(60000, 784)\n",
        "x_test = x_test.reshape(10000, 784)\n",
        "\n",
        "print(x_train.shape[0], 'train samples')\n",
        "print(x_test.shape[0], 'test samples')"
      ],
      "execution_count": 49,
      "outputs": [
        {
          "output_type": "stream",
          "text": [
            "60000 train samples\n",
            "10000 test samples\n"
          ],
          "name": "stdout"
        }
      ]
    },
    {
      "cell_type": "code",
      "metadata": {
        "id": "Jr-yg_SOa-DC"
      },
      "source": [
        "## Normalizar"
      ],
      "execution_count": 50,
      "outputs": []
    },
    {
      "cell_type": "code",
      "metadata": {
        "id": "BtNh-gmTa-Fp"
      },
      "source": [
        "x_train = x_train.astype('float32')\n",
        "x_test = x_test.astype('float32')"
      ],
      "execution_count": 51,
      "outputs": []
    },
    {
      "cell_type": "code",
      "metadata": {
        "id": "APwHs5y8a-Hz"
      },
      "source": [
        "x_train /= 255\n",
        "x_test /= 255"
      ],
      "execution_count": 52,
      "outputs": []
    },
    {
      "cell_type": "code",
      "metadata": {
        "id": "QXpfs9cTckCf"
      },
      "source": [
        "## One-hot encoding"
      ],
      "execution_count": 53,
      "outputs": []
    },
    {
      "cell_type": "code",
      "metadata": {
        "id": "wrg0OVt2a-KX",
        "outputId": "706b9c86-8b7f-4b0e-96d3-92cd8ebf6d20",
        "colab": {
          "base_uri": "https://localhost:8080/"
        }
      },
      "source": [
        "print(y_train[255])"
      ],
      "execution_count": 54,
      "outputs": [
        {
          "output_type": "stream",
          "text": [
            "3\n"
          ],
          "name": "stdout"
        }
      ]
    },
    {
      "cell_type": "code",
      "metadata": {
        "id": "rvvs93_Ta-M1"
      },
      "source": [
        "#  add dummy variables to represent classes\n",
        "num_classes = 10\n",
        "\n",
        "y_train = to_categorical(y_train, num_classes)\n",
        "y_test = to_categorical(y_test, num_classes)"
      ],
      "execution_count": 55,
      "outputs": []
    },
    {
      "cell_type": "code",
      "metadata": {
        "id": "80b4nLhFcYVC",
        "outputId": "1add78bf-ad41-4f9e-9a8e-d2062709ac90",
        "colab": {
          "base_uri": "https://localhost:8080/"
        }
      },
      "source": [
        "print(y_train[255])"
      ],
      "execution_count": 56,
      "outputs": [
        {
          "output_type": "stream",
          "text": [
            "[0. 0. 0. 1. 0. 0. 0. 0. 0. 0.]\n"
          ],
          "name": "stdout"
        }
      ]
    },
    {
      "cell_type": "code",
      "metadata": {
        "id": "dP8cwC_GcYXV"
      },
      "source": [
        "## Model\n",
        "num_classes = 10\n",
        "\n",
        "model = Sequential()\n",
        "model.add(Dense(512, activation='relu', input_shape=(784,)))\n",
        "model.add(Dropout(0.2))\n",
        "model.add(Dense(512, activation='relu'))\n",
        "model.add(Dropout(0.2))\n",
        "model.add(Dense(num_classes, activation='softmax'))"
      ],
      "execution_count": 61,
      "outputs": []
    },
    {
      "cell_type": "code",
      "metadata": {
        "id": "B8o6HYT7cYZ_",
        "outputId": "8875a1e4-2775-4675-c156-0a06b4036a72",
        "colab": {
          "base_uri": "https://localhost:8080/"
        }
      },
      "source": [
        "model.summary()"
      ],
      "execution_count": 58,
      "outputs": [
        {
          "output_type": "stream",
          "text": [
            "Model: \"sequential_2\"\n",
            "_________________________________________________________________\n",
            "Layer (type)                 Output Shape              Param #   \n",
            "=================================================================\n",
            "dense_5 (Dense)              (None, 512)               401920    \n",
            "_________________________________________________________________\n",
            "dropout_2 (Dropout)          (None, 512)               0         \n",
            "_________________________________________________________________\n",
            "dense_6 (Dense)              (None, 512)               262656    \n",
            "_________________________________________________________________\n",
            "dropout_3 (Dropout)          (None, 512)               0         \n",
            "_________________________________________________________________\n",
            "dense_7 (Dense)              (None, 10)                5130      \n",
            "=================================================================\n",
            "Total params: 669,706\n",
            "Trainable params: 669,706\n",
            "Non-trainable params: 0\n",
            "_________________________________________________________________\n"
          ],
          "name": "stdout"
        }
      ]
    },
    {
      "cell_type": "code",
      "metadata": {
        "id": "CPc6auXpcYcV"
      },
      "source": [
        "#model1.compile(loss='mse', optimizer=\"sgd\", metrics=['accuracy'])\n",
        "\n",
        "model.compile(loss='mse', optimizer=\"rmsprop\", metrics=['accuracy'])"
      ],
      "execution_count": 63,
      "outputs": []
    },
    {
      "cell_type": "code",
      "metadata": {
        "id": "Zk0_H56hc1Hs",
        "outputId": "7c64bc7d-d2db-492c-96a4-3716a695eeb7",
        "colab": {
          "base_uri": "https://localhost:8080/"
        }
      },
      "source": [
        "## training\n",
        "# history = model1.fit(x_train, y_train, epochs=5, verbose=1)\n",
        "\n",
        "\n",
        "history = model.fit(x_train, y_train, epochs=30, verbose=1)"
      ],
      "execution_count": 64,
      "outputs": [
        {
          "output_type": "stream",
          "text": [
            "Train on 60000 samples\n",
            "Epoch 1/30\n",
            "60000/60000 [==============================] - 22s 363us/sample - loss: 0.0114 - accuracy: 0.9247\n",
            "Epoch 2/30\n",
            "60000/60000 [==============================] - 21s 354us/sample - loss: 0.0063 - accuracy: 0.9609\n",
            "Epoch 3/30\n",
            "60000/60000 [==============================] - 21s 355us/sample - loss: 0.0052 - accuracy: 0.9679\n",
            "Epoch 4/30\n",
            "60000/60000 [==============================] - 21s 358us/sample - loss: 0.0045 - accuracy: 0.9725\n",
            "Epoch 5/30\n",
            "60000/60000 [==============================] - 21s 354us/sample - loss: 0.0039 - accuracy: 0.9763\n",
            "Epoch 6/30\n",
            "60000/60000 [==============================] - 21s 357us/sample - loss: 0.0036 - accuracy: 0.9787\n",
            "Epoch 7/30\n",
            "60000/60000 [==============================] - 22s 367us/sample - loss: 0.0032 - accuracy: 0.9803\n",
            "Epoch 8/30\n",
            "60000/60000 [==============================] - 22s 359us/sample - loss: 0.0032 - accuracy: 0.9809\n",
            "Epoch 9/30\n",
            "60000/60000 [==============================] - 21s 358us/sample - loss: 0.0031 - accuracy: 0.9821\n",
            "Epoch 10/30\n",
            "60000/60000 [==============================] - 22s 360us/sample - loss: 0.0028 - accuracy: 0.9837\n",
            "Epoch 11/30\n",
            "60000/60000 [==============================] - 22s 359us/sample - loss: 0.0027 - accuracy: 0.9843\n",
            "Epoch 12/30\n",
            "60000/60000 [==============================] - 22s 361us/sample - loss: 0.0025 - accuracy: 0.9856\n",
            "Epoch 13/30\n",
            "60000/60000 [==============================] - 22s 361us/sample - loss: 0.0025 - accuracy: 0.9857\n",
            "Epoch 14/30\n",
            "60000/60000 [==============================] - 22s 359us/sample - loss: 0.0024 - accuracy: 0.9859\n",
            "Epoch 15/30\n",
            "60000/60000 [==============================] - 22s 360us/sample - loss: 0.0022 - accuracy: 0.9873\n",
            "Epoch 16/30\n",
            "60000/60000 [==============================] - 22s 360us/sample - loss: 0.0021 - accuracy: 0.9876\n",
            "Epoch 17/30\n",
            "60000/60000 [==============================] - 22s 361us/sample - loss: 0.0020 - accuracy: 0.9887\n",
            "Epoch 18/30\n",
            "60000/60000 [==============================] - 22s 361us/sample - loss: 0.0018 - accuracy: 0.9893\n",
            "Epoch 19/30\n",
            "60000/60000 [==============================] - 22s 362us/sample - loss: 0.0019 - accuracy: 0.9890\n",
            "Epoch 20/30\n",
            "60000/60000 [==============================] - 22s 361us/sample - loss: 0.0018 - accuracy: 0.9894\n",
            "Epoch 21/30\n",
            "60000/60000 [==============================] - 22s 362us/sample - loss: 0.0018 - accuracy: 0.9898\n",
            "Epoch 22/30\n",
            "60000/60000 [==============================] - 22s 359us/sample - loss: 0.0017 - accuracy: 0.9900\n",
            "Epoch 23/30\n",
            "60000/60000 [==============================] - 21s 356us/sample - loss: 0.0016 - accuracy: 0.9911\n",
            "Epoch 24/30\n",
            "60000/60000 [==============================] - 25s 411us/sample - loss: 0.0016 - accuracy: 0.9908\n",
            "Epoch 25/30\n",
            "60000/60000 [==============================] - 22s 359us/sample - loss: 0.0016 - accuracy: 0.9908\n",
            "Epoch 26/30\n",
            "60000/60000 [==============================] - 22s 361us/sample - loss: 0.0015 - accuracy: 0.9910\n",
            "Epoch 27/30\n",
            "60000/60000 [==============================] - 22s 362us/sample - loss: 0.0014 - accuracy: 0.9920\n",
            "Epoch 28/30\n",
            "60000/60000 [==============================] - 22s 361us/sample - loss: 0.0014 - accuracy: 0.9919\n",
            "Epoch 29/30\n",
            "60000/60000 [==============================] - 22s 360us/sample - loss: 0.0014 - accuracy: 0.9922\n",
            "Epoch 30/30\n",
            "60000/60000 [==============================] - 22s 363us/sample - loss: 0.0013 - accuracy: 0.9925\n"
          ],
          "name": "stdout"
        }
      ]
    },
    {
      "cell_type": "code",
      "metadata": {
        "id": "K3I7k7C8c1KN",
        "outputId": "a6c8c8ca-3f02-4566-e40e-90aaccc78bc1",
        "colab": {
          "base_uri": "https://localhost:8080/"
        }
      },
      "source": [
        "## Evaluation\n",
        "\n",
        "score = model.evaluate(x_test, y_test, verbose=0)\n",
        "print('Test loss:', score[0])\n",
        "print('Test accuracy:', score[1])"
      ],
      "execution_count": 66,
      "outputs": [
        {
          "output_type": "stream",
          "text": [
            "Test loss: 0.002849980749160856\n",
            "Test accuracy: 0.9845\n"
          ],
          "name": "stdout"
        }
      ]
    },
    {
      "cell_type": "code",
      "metadata": {
        "id": "o8GFxNfYdfIg"
      },
      "source": [
        ""
      ],
      "execution_count": null,
      "outputs": []
    },
    {
      "cell_type": "code",
      "metadata": {
        "id": "UT5fsu7hdfLf"
      },
      "source": [
        ""
      ],
      "execution_count": null,
      "outputs": []
    },
    {
      "cell_type": "code",
      "metadata": {
        "id": "7SNKieFfc1OH"
      },
      "source": [
        ""
      ],
      "execution_count": null,
      "outputs": []
    },
    {
      "cell_type": "code",
      "metadata": {
        "id": "Mz4MWJqbcSK9"
      },
      "source": [
        ""
      ],
      "execution_count": null,
      "outputs": []
    }
  ]
}