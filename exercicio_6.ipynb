{
 "cells": [
  {
   "cell_type": "markdown",
   "metadata": {},
   "source": [
    "## Exercício 6"
   ]
  },
  {
   "cell_type": "markdown",
   "metadata": {},
   "source": [
    "- Monte uma análise estatística descritiva de um dos problemas dos parceiros (usando gráficos e histogramas, e medidas de tendencia (ex: media, desvio padrão))"
   ]
  },
  {
   "cell_type": "code",
   "execution_count": 1,
   "metadata": {},
   "outputs": [],
   "source": [
    "import csv"
   ]
  },
  {
   "cell_type": "code",
   "execution_count": 2,
   "metadata": {},
   "outputs": [],
   "source": [
    "import pandas as pd"
   ]
  },
  {
   "cell_type": "code",
   "execution_count": 3,
   "metadata": {},
   "outputs": [],
   "source": [
    "import numpy as np"
   ]
  },
  {
   "cell_type": "code",
   "execution_count": 4,
   "metadata": {},
   "outputs": [],
   "source": [
    "import scipy"
   ]
  },
  {
   "cell_type": "code",
   "execution_count": 5,
   "metadata": {},
   "outputs": [],
   "source": [
    "from scipy import stats"
   ]
  },
  {
   "cell_type": "code",
   "execution_count": 6,
   "metadata": {},
   "outputs": [],
   "source": [
    "from statistics import *"
   ]
  },
  {
   "cell_type": "code",
   "execution_count": 7,
   "metadata": {},
   "outputs": [],
   "source": [
    "import matplotlib.pyplot as plt"
   ]
  },
  {
   "cell_type": "code",
   "execution_count": 48,
   "metadata": {},
   "outputs": [],
   "source": [
    "from matplotlib.dates import date2num"
   ]
  },
  {
   "cell_type": "code",
   "execution_count": 8,
   "metadata": {},
   "outputs": [],
   "source": [
    "import seaborn as sns"
   ]
  },
  {
   "cell_type": "code",
   "execution_count": 9,
   "metadata": {},
   "outputs": [],
   "source": [
    "import geoplotlib"
   ]
  },
  {
   "cell_type": "code",
   "execution_count": 10,
   "metadata": {},
   "outputs": [],
   "source": [
    "import bokeh.plotting "
   ]
  },
  {
   "cell_type": "code",
   "execution_count": 11,
   "metadata": {},
   "outputs": [],
   "source": [
    "iapar_dados = pd.read_csv('iapar_convencionais.csv', sep=\";\", parse_dates = ['data'], low_memory=False)"
   ]
  },
  {
   "cell_type": "code",
   "execution_count": 12,
   "metadata": {},
   "outputs": [
    {
     "data": {
      "text/html": [
       "<div>\n",
       "<style scoped>\n",
       "    .dataframe tbody tr th:only-of-type {\n",
       "        vertical-align: middle;\n",
       "    }\n",
       "\n",
       "    .dataframe tbody tr th {\n",
       "        vertical-align: top;\n",
       "    }\n",
       "\n",
       "    .dataframe thead th {\n",
       "        text-align: right;\n",
       "    }\n",
       "</style>\n",
       "<table border=\"1\" class=\"dataframe\">\n",
       "  <thead>\n",
       "    <tr style=\"text-align: right;\">\n",
       "      <th></th>\n",
       "      <th>id</th>\n",
       "      <th>estacao_id</th>\n",
       "      <th>data</th>\n",
       "      <th>tempmax</th>\n",
       "      <th>tempmin</th>\n",
       "      <th>tempmed</th>\n",
       "      <th>tempsec9</th>\n",
       "      <th>tempsec15</th>\n",
       "      <th>tempsec21</th>\n",
       "      <th>tempumi9</th>\n",
       "      <th>...</th>\n",
       "      <th>vento10</th>\n",
       "      <th>vento2</th>\n",
       "      <th>chuva</th>\n",
       "      <th>evaporacao</th>\n",
       "      <th>insolacao</th>\n",
       "      <th>radsolar</th>\n",
       "      <th>create_user</th>\n",
       "      <th>update_user</th>\n",
       "      <th>create_time</th>\n",
       "      <th>update_time</th>\n",
       "    </tr>\n",
       "  </thead>\n",
       "  <tbody>\n",
       "    <tr>\n",
       "      <th>0</th>\n",
       "      <td>166</td>\n",
       "      <td>2548070</td>\n",
       "      <td>1977-11-01</td>\n",
       "      <td>25.0</td>\n",
       "      <td>19.8</td>\n",
       "      <td>21.7</td>\n",
       "      <td>22.2</td>\n",
       "      <td>23.6</td>\n",
       "      <td>20.8</td>\n",
       "      <td>18.6</td>\n",
       "      <td>...</td>\n",
       "      <td>0.0</td>\n",
       "      <td>0.0</td>\n",
       "      <td>9.3</td>\n",
       "      <td>0.0</td>\n",
       "      <td>0.0</td>\n",
       "      <td>0.0</td>\n",
       "      <td>NaN</td>\n",
       "      <td>NaN</td>\n",
       "      <td>NaN</td>\n",
       "      <td>NaN</td>\n",
       "    </tr>\n",
       "    <tr>\n",
       "      <th>1</th>\n",
       "      <td>167</td>\n",
       "      <td>2548070</td>\n",
       "      <td>1977-11-02</td>\n",
       "      <td>32.8</td>\n",
       "      <td>18.4</td>\n",
       "      <td>25.4</td>\n",
       "      <td>26.6</td>\n",
       "      <td>32.6</td>\n",
       "      <td>24.6</td>\n",
       "      <td>22.8</td>\n",
       "      <td>...</td>\n",
       "      <td>0.0</td>\n",
       "      <td>0.0</td>\n",
       "      <td>12.6</td>\n",
       "      <td>0.5</td>\n",
       "      <td>0.0</td>\n",
       "      <td>0.0</td>\n",
       "      <td>NaN</td>\n",
       "      <td>NaN</td>\n",
       "      <td>NaN</td>\n",
       "      <td>NaN</td>\n",
       "    </tr>\n",
       "    <tr>\n",
       "      <th>2</th>\n",
       "      <td>168</td>\n",
       "      <td>2548070</td>\n",
       "      <td>1977-11-03</td>\n",
       "      <td>29.0</td>\n",
       "      <td>20.4</td>\n",
       "      <td>23.3</td>\n",
       "      <td>23.4</td>\n",
       "      <td>25.8</td>\n",
       "      <td>21.8</td>\n",
       "      <td>21.6</td>\n",
       "      <td>...</td>\n",
       "      <td>0.0</td>\n",
       "      <td>0.0</td>\n",
       "      <td>1.2</td>\n",
       "      <td>2.5</td>\n",
       "      <td>0.0</td>\n",
       "      <td>0.0</td>\n",
       "      <td>NaN</td>\n",
       "      <td>NaN</td>\n",
       "      <td>NaN</td>\n",
       "      <td>NaN</td>\n",
       "    </tr>\n",
       "    <tr>\n",
       "      <th>3</th>\n",
       "      <td>169</td>\n",
       "      <td>2548070</td>\n",
       "      <td>1977-11-04</td>\n",
       "      <td>21.8</td>\n",
       "      <td>18.8</td>\n",
       "      <td>19.7</td>\n",
       "      <td>19.8</td>\n",
       "      <td>20.8</td>\n",
       "      <td>19.0</td>\n",
       "      <td>19.2</td>\n",
       "      <td>...</td>\n",
       "      <td>0.0</td>\n",
       "      <td>0.0</td>\n",
       "      <td>22.4</td>\n",
       "      <td>1.3</td>\n",
       "      <td>0.0</td>\n",
       "      <td>0.0</td>\n",
       "      <td>NaN</td>\n",
       "      <td>NaN</td>\n",
       "      <td>NaN</td>\n",
       "      <td>NaN</td>\n",
       "    </tr>\n",
       "    <tr>\n",
       "      <th>4</th>\n",
       "      <td>170</td>\n",
       "      <td>2548070</td>\n",
       "      <td>1977-11-05</td>\n",
       "      <td>25.2</td>\n",
       "      <td>18.6</td>\n",
       "      <td>20.6</td>\n",
       "      <td>19.8</td>\n",
       "      <td>21.4</td>\n",
       "      <td>19.6</td>\n",
       "      <td>18.8</td>\n",
       "      <td>...</td>\n",
       "      <td>0.0</td>\n",
       "      <td>0.0</td>\n",
       "      <td>11.0</td>\n",
       "      <td>0.6</td>\n",
       "      <td>0.0</td>\n",
       "      <td>0.0</td>\n",
       "      <td>NaN</td>\n",
       "      <td>NaN</td>\n",
       "      <td>NaN</td>\n",
       "      <td>NaN</td>\n",
       "    </tr>\n",
       "  </tbody>\n",
       "</table>\n",
       "<p>5 rows × 26 columns</p>\n",
       "</div>"
      ],
      "text/plain": [
       "    id  estacao_id       data  tempmax  tempmin  tempmed  tempsec9  tempsec15  \\\n",
       "0  166     2548070 1977-11-01     25.0     19.8     21.7      22.2       23.6   \n",
       "1  167     2548070 1977-11-02     32.8     18.4     25.4      26.6       32.6   \n",
       "2  168     2548070 1977-11-03     29.0     20.4     23.3      23.4       25.8   \n",
       "3  169     2548070 1977-11-04     21.8     18.8     19.7      19.8       20.8   \n",
       "4  170     2548070 1977-11-05     25.2     18.6     20.6      19.8       21.4   \n",
       "\n",
       "   tempsec21  tempumi9  ...  vento10  vento2  chuva  evaporacao  insolacao  \\\n",
       "0       20.8      18.6  ...      0.0     0.0    9.3         0.0        0.0   \n",
       "1       24.6      22.8  ...      0.0     0.0   12.6         0.5        0.0   \n",
       "2       21.8      21.6  ...      0.0     0.0    1.2         2.5        0.0   \n",
       "3       19.0      19.2  ...      0.0     0.0   22.4         1.3        0.0   \n",
       "4       19.6      18.8  ...      0.0     0.0   11.0         0.6        0.0   \n",
       "\n",
       "   radsolar  create_user  update_user  create_time  update_time  \n",
       "0       0.0          NaN          NaN          NaN          NaN  \n",
       "1       0.0          NaN          NaN          NaN          NaN  \n",
       "2       0.0          NaN          NaN          NaN          NaN  \n",
       "3       0.0          NaN          NaN          NaN          NaN  \n",
       "4       0.0          NaN          NaN          NaN          NaN  \n",
       "\n",
       "[5 rows x 26 columns]"
      ]
     },
     "execution_count": 12,
     "metadata": {},
     "output_type": "execute_result"
    }
   ],
   "source": [
    "iapar_dados.head()"
   ]
  },
  {
   "cell_type": "code",
   "execution_count": 13,
   "metadata": {},
   "outputs": [
    {
     "data": {
      "text/plain": [
       "Index(['id', 'estacao_id', 'data', 'tempmax', 'tempmin', 'tempmed', 'tempsec9',\n",
       "       'tempsec15', 'tempsec21', 'tempumi9', 'tempumi15', 'tempumi21', 'umid9',\n",
       "       'umid15', 'umid21', 'umidrel', 'vento10', 'vento2', 'chuva',\n",
       "       'evaporacao', 'insolacao', 'radsolar', 'create_user', 'update_user',\n",
       "       'create_time', 'update_time'],\n",
       "      dtype='object')"
      ]
     },
     "execution_count": 13,
     "metadata": {},
     "output_type": "execute_result"
    }
   ],
   "source": [
    "iapar_dados.columns"
   ]
  },
  {
   "cell_type": "code",
   "execution_count": 14,
   "metadata": {},
   "outputs": [
    {
     "data": {
      "text/html": [
       "<div>\n",
       "<style scoped>\n",
       "    .dataframe tbody tr th:only-of-type {\n",
       "        vertical-align: middle;\n",
       "    }\n",
       "\n",
       "    .dataframe tbody tr th {\n",
       "        vertical-align: top;\n",
       "    }\n",
       "\n",
       "    .dataframe thead th {\n",
       "        text-align: right;\n",
       "    }\n",
       "</style>\n",
       "<table border=\"1\" class=\"dataframe\">\n",
       "  <thead>\n",
       "    <tr style=\"text-align: right;\">\n",
       "      <th></th>\n",
       "      <th>id</th>\n",
       "      <th>estacao_id</th>\n",
       "      <th>tempmax</th>\n",
       "      <th>tempmin</th>\n",
       "      <th>tempmed</th>\n",
       "      <th>tempsec9</th>\n",
       "      <th>tempsec15</th>\n",
       "      <th>tempsec21</th>\n",
       "      <th>tempumi9</th>\n",
       "      <th>tempumi15</th>\n",
       "      <th>...</th>\n",
       "      <th>umidrel</th>\n",
       "      <th>vento10</th>\n",
       "      <th>vento2</th>\n",
       "      <th>chuva</th>\n",
       "      <th>evaporacao</th>\n",
       "      <th>insolacao</th>\n",
       "      <th>radsolar</th>\n",
       "      <th>create_user</th>\n",
       "      <th>update_user</th>\n",
       "      <th>create_time</th>\n",
       "    </tr>\n",
       "  </thead>\n",
       "  <tbody>\n",
       "    <tr>\n",
       "      <th>count</th>\n",
       "      <td>453845.000000</td>\n",
       "      <td>4.538450e+05</td>\n",
       "      <td>453845.000000</td>\n",
       "      <td>453845.000000</td>\n",
       "      <td>453845.000000</td>\n",
       "      <td>453845.000000</td>\n",
       "      <td>453845.000000</td>\n",
       "      <td>453845.000000</td>\n",
       "      <td>453845.000000</td>\n",
       "      <td>453845.000000</td>\n",
       "      <td>...</td>\n",
       "      <td>453845.000000</td>\n",
       "      <td>453845.000000</td>\n",
       "      <td>453845.000000</td>\n",
       "      <td>453845.000000</td>\n",
       "      <td>453845.000000</td>\n",
       "      <td>453845.000000</td>\n",
       "      <td>453845.000000</td>\n",
       "      <td>0.0</td>\n",
       "      <td>7.0</td>\n",
       "      <td>0.0</td>\n",
       "    </tr>\n",
       "    <tr>\n",
       "      <th>mean</th>\n",
       "      <td>227272.330791</td>\n",
       "      <td>2.473049e+06</td>\n",
       "      <td>32.052926</td>\n",
       "      <td>21.506729</td>\n",
       "      <td>25.781491</td>\n",
       "      <td>24.908841</td>\n",
       "      <td>30.571107</td>\n",
       "      <td>25.153270</td>\n",
       "      <td>25.526815</td>\n",
       "      <td>27.735814</td>\n",
       "      <td>...</td>\n",
       "      <td>88.605582</td>\n",
       "      <td>2739.687458</td>\n",
       "      <td>305554.467457</td>\n",
       "      <td>65.308703</td>\n",
       "      <td>4.723995</td>\n",
       "      <td>8.580533</td>\n",
       "      <td>2865.404186</td>\n",
       "      <td>NaN</td>\n",
       "      <td>1.0</td>\n",
       "      <td>NaN</td>\n",
       "    </tr>\n",
       "    <tr>\n",
       "      <th>std</th>\n",
       "      <td>131333.310173</td>\n",
       "      <td>1.143652e+05</td>\n",
       "      <td>66.102828</td>\n",
       "      <td>67.952407</td>\n",
       "      <td>66.591180</td>\n",
       "      <td>68.476281</td>\n",
       "      <td>68.016988</td>\n",
       "      <td>68.423441</td>\n",
       "      <td>72.228687</td>\n",
       "      <td>71.967131</td>\n",
       "      <td>...</td>\n",
       "      <td>98.562069</td>\n",
       "      <td>3614.807787</td>\n",
       "      <td>367185.968291</td>\n",
       "      <td>682.343536</td>\n",
       "      <td>11.822767</td>\n",
       "      <td>13.291395</td>\n",
       "      <td>3632.901635</td>\n",
       "      <td>NaN</td>\n",
       "      <td>0.0</td>\n",
       "      <td>NaN</td>\n",
       "    </tr>\n",
       "    <tr>\n",
       "      <th>min</th>\n",
       "      <td>166.000000</td>\n",
       "      <td>2.251027e+06</td>\n",
       "      <td>0.000000</td>\n",
       "      <td>-6.800000</td>\n",
       "      <td>-2.900000</td>\n",
       "      <td>-4.600000</td>\n",
       "      <td>-0.400000</td>\n",
       "      <td>-4.600000</td>\n",
       "      <td>-4.400000</td>\n",
       "      <td>-1.200000</td>\n",
       "      <td>...</td>\n",
       "      <td>0.000000</td>\n",
       "      <td>0.000000</td>\n",
       "      <td>0.000000</td>\n",
       "      <td>0.000000</td>\n",
       "      <td>-9.500000</td>\n",
       "      <td>0.000000</td>\n",
       "      <td>0.000000</td>\n",
       "      <td>NaN</td>\n",
       "      <td>1.0</td>\n",
       "      <td>NaN</td>\n",
       "    </tr>\n",
       "    <tr>\n",
       "      <th>25%</th>\n",
       "      <td>113627.000000</td>\n",
       "      <td>2.351011e+06</td>\n",
       "      <td>23.100000</td>\n",
       "      <td>12.800000</td>\n",
       "      <td>17.200000</td>\n",
       "      <td>15.800000</td>\n",
       "      <td>21.400000</td>\n",
       "      <td>16.400000</td>\n",
       "      <td>14.300000</td>\n",
       "      <td>17.000000</td>\n",
       "      <td>...</td>\n",
       "      <td>65.900000</td>\n",
       "      <td>107.600000</td>\n",
       "      <td>0.000000</td>\n",
       "      <td>0.000000</td>\n",
       "      <td>1.400000</td>\n",
       "      <td>2.800000</td>\n",
       "      <td>0.000000</td>\n",
       "      <td>NaN</td>\n",
       "      <td>1.0</td>\n",
       "      <td>NaN</td>\n",
       "    </tr>\n",
       "    <tr>\n",
       "      <th>50%</th>\n",
       "      <td>227088.000000</td>\n",
       "      <td>2.453023e+06</td>\n",
       "      <td>26.800000</td>\n",
       "      <td>16.200000</td>\n",
       "      <td>20.500000</td>\n",
       "      <td>19.600000</td>\n",
       "      <td>25.400000</td>\n",
       "      <td>19.800000</td>\n",
       "      <td>17.600000</td>\n",
       "      <td>19.800000</td>\n",
       "      <td>...</td>\n",
       "      <td>76.700000</td>\n",
       "      <td>231.500000</td>\n",
       "      <td>50001.460000</td>\n",
       "      <td>0.000000</td>\n",
       "      <td>2.500000</td>\n",
       "      <td>7.300000</td>\n",
       "      <td>361.000000</td>\n",
       "      <td>NaN</td>\n",
       "      <td>1.0</td>\n",
       "      <td>NaN</td>\n",
       "    </tr>\n",
       "    <tr>\n",
       "      <th>75%</th>\n",
       "      <td>340549.000000</td>\n",
       "      <td>2.551010e+06</td>\n",
       "      <td>30.000000</td>\n",
       "      <td>19.000000</td>\n",
       "      <td>23.200000</td>\n",
       "      <td>22.800000</td>\n",
       "      <td>28.800000</td>\n",
       "      <td>22.600000</td>\n",
       "      <td>20.600000</td>\n",
       "      <td>22.400000</td>\n",
       "      <td>...</td>\n",
       "      <td>86.100000</td>\n",
       "      <td>7777.700000</td>\n",
       "      <td>777777.770000</td>\n",
       "      <td>3.000000</td>\n",
       "      <td>4.000000</td>\n",
       "      <td>9.800000</td>\n",
       "      <td>7777.700000</td>\n",
       "      <td>NaN</td>\n",
       "      <td>1.0</td>\n",
       "      <td>NaN</td>\n",
       "    </tr>\n",
       "    <tr>\n",
       "      <th>max</th>\n",
       "      <td>464195.000000</td>\n",
       "      <td>2.653012e+06</td>\n",
       "      <td>777.700000</td>\n",
       "      <td>777.700000</td>\n",
       "      <td>777.700000</td>\n",
       "      <td>777.700000</td>\n",
       "      <td>777.700000</td>\n",
       "      <td>777.700000</td>\n",
       "      <td>777.700000</td>\n",
       "      <td>777.700000</td>\n",
       "      <td>...</td>\n",
       "      <td>777.700000</td>\n",
       "      <td>7777.700000</td>\n",
       "      <td>777777.770000</td>\n",
       "      <td>7777.700000</td>\n",
       "      <td>77.700000</td>\n",
       "      <td>77.700000</td>\n",
       "      <td>7777.700000</td>\n",
       "      <td>NaN</td>\n",
       "      <td>1.0</td>\n",
       "      <td>NaN</td>\n",
       "    </tr>\n",
       "  </tbody>\n",
       "</table>\n",
       "<p>8 rows × 24 columns</p>\n",
       "</div>"
      ],
      "text/plain": [
       "                  id    estacao_id        tempmax        tempmin  \\\n",
       "count  453845.000000  4.538450e+05  453845.000000  453845.000000   \n",
       "mean   227272.330791  2.473049e+06      32.052926      21.506729   \n",
       "std    131333.310173  1.143652e+05      66.102828      67.952407   \n",
       "min       166.000000  2.251027e+06       0.000000      -6.800000   \n",
       "25%    113627.000000  2.351011e+06      23.100000      12.800000   \n",
       "50%    227088.000000  2.453023e+06      26.800000      16.200000   \n",
       "75%    340549.000000  2.551010e+06      30.000000      19.000000   \n",
       "max    464195.000000  2.653012e+06     777.700000     777.700000   \n",
       "\n",
       "             tempmed       tempsec9      tempsec15      tempsec21  \\\n",
       "count  453845.000000  453845.000000  453845.000000  453845.000000   \n",
       "mean       25.781491      24.908841      30.571107      25.153270   \n",
       "std        66.591180      68.476281      68.016988      68.423441   \n",
       "min        -2.900000      -4.600000      -0.400000      -4.600000   \n",
       "25%        17.200000      15.800000      21.400000      16.400000   \n",
       "50%        20.500000      19.600000      25.400000      19.800000   \n",
       "75%        23.200000      22.800000      28.800000      22.600000   \n",
       "max       777.700000     777.700000     777.700000     777.700000   \n",
       "\n",
       "            tempumi9      tempumi15  ...        umidrel        vento10  \\\n",
       "count  453845.000000  453845.000000  ...  453845.000000  453845.000000   \n",
       "mean       25.526815      27.735814  ...      88.605582    2739.687458   \n",
       "std        72.228687      71.967131  ...      98.562069    3614.807787   \n",
       "min        -4.400000      -1.200000  ...       0.000000       0.000000   \n",
       "25%        14.300000      17.000000  ...      65.900000     107.600000   \n",
       "50%        17.600000      19.800000  ...      76.700000     231.500000   \n",
       "75%        20.600000      22.400000  ...      86.100000    7777.700000   \n",
       "max       777.700000     777.700000  ...     777.700000    7777.700000   \n",
       "\n",
       "              vento2          chuva     evaporacao      insolacao  \\\n",
       "count  453845.000000  453845.000000  453845.000000  453845.000000   \n",
       "mean   305554.467457      65.308703       4.723995       8.580533   \n",
       "std    367185.968291     682.343536      11.822767      13.291395   \n",
       "min         0.000000       0.000000      -9.500000       0.000000   \n",
       "25%         0.000000       0.000000       1.400000       2.800000   \n",
       "50%     50001.460000       0.000000       2.500000       7.300000   \n",
       "75%    777777.770000       3.000000       4.000000       9.800000   \n",
       "max    777777.770000    7777.700000      77.700000      77.700000   \n",
       "\n",
       "            radsolar  create_user  update_user  create_time  \n",
       "count  453845.000000          0.0          7.0          0.0  \n",
       "mean     2865.404186          NaN          1.0          NaN  \n",
       "std      3632.901635          NaN          0.0          NaN  \n",
       "min         0.000000          NaN          1.0          NaN  \n",
       "25%         0.000000          NaN          1.0          NaN  \n",
       "50%       361.000000          NaN          1.0          NaN  \n",
       "75%      7777.700000          NaN          1.0          NaN  \n",
       "max      7777.700000          NaN          1.0          NaN  \n",
       "\n",
       "[8 rows x 24 columns]"
      ]
     },
     "execution_count": 14,
     "metadata": {},
     "output_type": "execute_result"
    }
   ],
   "source": [
    "iapar_dados.describe()"
   ]
  },
  {
   "cell_type": "code",
   "execution_count": 15,
   "metadata": {},
   "outputs": [],
   "source": [
    "#Histograma"
   ]
  },
  {
   "cell_type": "code",
   "execution_count": 16,
   "metadata": {},
   "outputs": [
    {
     "data": {
      "text/plain": [
       "Index(['id', 'estacao_id', 'data', 'tempmax', 'tempmin', 'tempmed', 'tempsec9',\n",
       "       'tempsec15', 'tempsec21', 'tempumi9', 'tempumi15', 'tempumi21', 'umid9',\n",
       "       'umid15', 'umid21', 'umidrel', 'vento10', 'vento2', 'chuva',\n",
       "       'evaporacao', 'insolacao', 'radsolar', 'create_user', 'update_user',\n",
       "       'create_time', 'update_time'],\n",
       "      dtype='object')"
      ]
     },
     "execution_count": 16,
     "metadata": {},
     "output_type": "execute_result"
    }
   ],
   "source": [
    "iapar_dados.columns"
   ]
  },
  {
   "cell_type": "code",
   "execution_count": 29,
   "metadata": {},
   "outputs": [
    {
     "data": {
      "text/plain": [
       "<AxesSubplot:>"
      ]
     },
     "execution_count": 29,
     "metadata": {},
     "output_type": "execute_result"
    },
    {
     "data": {
      "image/png": "[encoded data removed]",
      "text/plain": [
       "<Figure size 432x288 with 1 Axes>"
      ]
     },
     "metadata": {
      "needs_background": "light"
     },
     "output_type": "display_data"
    }
   ],
   "source": [
    "iapar_dados['chuva'].hist(bins=50)"
   ]
  },
  {
   "cell_type": "code",
   "execution_count": null,
   "metadata": {},
   "outputs": [],
   "source": []
  },
  {
   "cell_type": "code",
   "execution_count": 47,
   "metadata": {},
   "outputs": [
    {
     "data": {
      "image/png": "[encoded data removed]",
      "text/plain": [
       "<Figure size 432x288 with 1 Axes>"
      ]
     },
     "metadata": {
      "needs_background": "light"
     },
     "output_type": "display_data"
    }
   ],
   "source": [
    "y = iapar_dados['chuva']\n",
    "\n",
    "plt.hist(y, bins = 2 ,label=['chuva'])\n",
    "plt.legend(loc='upper right')\n",
    "plt.show()\n"
   ]
  },
  {
   "cell_type": "code",
   "execution_count": 49,
   "metadata": {},
   "outputs": [
    {
     "data": {
      "text/plain": [
       "<seaborn.axisgrid.FacetGrid at 0x7fac6818d820>"
      ]
     },
     "execution_count": 49,
     "metadata": {},
     "output_type": "execute_result"
    },
    {
     "data": {
      "image/png": "[encoded data removed]",
      "text/plain": [
       "<Figure size 360x360 with 1 Axes>"
      ]
     },
     "metadata": {
      "needs_background": "light"
     },
     "output_type": "display_data"
    }
   ],
   "source": [
    "sns.displot(x='data', y='chuva', data = iapar_dados)"
   ]
  },
  {
   "cell_type": "code",
   "execution_count": null,
   "metadata": {},
   "outputs": [],
   "source": []
  },
  {
   "cell_type": "code",
   "execution_count": null,
   "metadata": {},
   "outputs": [],
   "source": [
    "# Boxplot"
   ]
  },
  {
   "cell_type": "code",
   "execution_count": 74,
   "metadata": {},
   "outputs": [],
   "source": [
    "iapar_dados_drop = iapar_dados.drop(['id', 'estacao_id', 'data', 'create_user', 'update_user', 'create_time', 'update_time', 'vento2', 'vento10', 'radsolar', 'chuva'], axis=1)"
   ]
  },
  {
   "cell_type": "code",
   "execution_count": 75,
   "metadata": {},
   "outputs": [
    {
     "data": {
      "text/html": [
       "<div>\n",
       "<style scoped>\n",
       "    .dataframe tbody tr th:only-of-type {\n",
       "        vertical-align: middle;\n",
       "    }\n",
       "\n",
       "    .dataframe tbody tr th {\n",
       "        vertical-align: top;\n",
       "    }\n",
       "\n",
       "    .dataframe thead th {\n",
       "        text-align: right;\n",
       "    }\n",
       "</style>\n",
       "<table border=\"1\" class=\"dataframe\">\n",
       "  <thead>\n",
       "    <tr style=\"text-align: right;\">\n",
       "      <th></th>\n",
       "      <th>tempmax</th>\n",
       "      <th>tempmin</th>\n",
       "      <th>tempmed</th>\n",
       "      <th>tempsec9</th>\n",
       "      <th>tempsec15</th>\n",
       "      <th>tempsec21</th>\n",
       "      <th>tempumi9</th>\n",
       "      <th>tempumi15</th>\n",
       "      <th>tempumi21</th>\n",
       "      <th>umid9</th>\n",
       "      <th>umid15</th>\n",
       "      <th>umid21</th>\n",
       "      <th>umidrel</th>\n",
       "      <th>evaporacao</th>\n",
       "      <th>insolacao</th>\n",
       "    </tr>\n",
       "  </thead>\n",
       "  <tbody>\n",
       "    <tr>\n",
       "      <th>0</th>\n",
       "      <td>25.0</td>\n",
       "      <td>19.8</td>\n",
       "      <td>21.7</td>\n",
       "      <td>22.2</td>\n",
       "      <td>23.6</td>\n",
       "      <td>20.8</td>\n",
       "      <td>18.6</td>\n",
       "      <td>22.0</td>\n",
       "      <td>20.6</td>\n",
       "      <td>69.2</td>\n",
       "      <td>86.3</td>\n",
       "      <td>98.1</td>\n",
       "      <td>87.9</td>\n",
       "      <td>0.0</td>\n",
       "      <td>0.0</td>\n",
       "    </tr>\n",
       "    <tr>\n",
       "      <th>1</th>\n",
       "      <td>32.8</td>\n",
       "      <td>18.4</td>\n",
       "      <td>25.4</td>\n",
       "      <td>26.6</td>\n",
       "      <td>32.6</td>\n",
       "      <td>24.6</td>\n",
       "      <td>22.8</td>\n",
       "      <td>24.4</td>\n",
       "      <td>22.6</td>\n",
       "      <td>70.9</td>\n",
       "      <td>48.7</td>\n",
       "      <td>83.4</td>\n",
       "      <td>71.6</td>\n",
       "      <td>0.5</td>\n",
       "      <td>0.0</td>\n",
       "    </tr>\n",
       "    <tr>\n",
       "      <th>2</th>\n",
       "      <td>29.0</td>\n",
       "      <td>20.4</td>\n",
       "      <td>23.3</td>\n",
       "      <td>23.4</td>\n",
       "      <td>25.8</td>\n",
       "      <td>21.8</td>\n",
       "      <td>21.6</td>\n",
       "      <td>23.2</td>\n",
       "      <td>21.2</td>\n",
       "      <td>84.6</td>\n",
       "      <td>79.3</td>\n",
       "      <td>94.6</td>\n",
       "      <td>88.3</td>\n",
       "      <td>2.5</td>\n",
       "      <td>0.0</td>\n",
       "    </tr>\n",
       "    <tr>\n",
       "      <th>3</th>\n",
       "      <td>21.8</td>\n",
       "      <td>18.8</td>\n",
       "      <td>19.7</td>\n",
       "      <td>19.8</td>\n",
       "      <td>20.8</td>\n",
       "      <td>19.0</td>\n",
       "      <td>19.2</td>\n",
       "      <td>19.4</td>\n",
       "      <td>18.8</td>\n",
       "      <td>94.2</td>\n",
       "      <td>87.1</td>\n",
       "      <td>98.1</td>\n",
       "      <td>94.4</td>\n",
       "      <td>1.3</td>\n",
       "      <td>0.0</td>\n",
       "    </tr>\n",
       "    <tr>\n",
       "      <th>4</th>\n",
       "      <td>25.2</td>\n",
       "      <td>18.6</td>\n",
       "      <td>20.6</td>\n",
       "      <td>19.8</td>\n",
       "      <td>21.4</td>\n",
       "      <td>19.6</td>\n",
       "      <td>18.8</td>\n",
       "      <td>20.4</td>\n",
       "      <td>19.4</td>\n",
       "      <td>90.4</td>\n",
       "      <td>90.9</td>\n",
       "      <td>98.1</td>\n",
       "      <td>94.4</td>\n",
       "      <td>0.6</td>\n",
       "      <td>0.0</td>\n",
       "    </tr>\n",
       "  </tbody>\n",
       "</table>\n",
       "</div>"
      ],
      "text/plain": [
       "   tempmax  tempmin  tempmed  tempsec9  tempsec15  tempsec21  tempumi9  \\\n",
       "0     25.0     19.8     21.7      22.2       23.6       20.8      18.6   \n",
       "1     32.8     18.4     25.4      26.6       32.6       24.6      22.8   \n",
       "2     29.0     20.4     23.3      23.4       25.8       21.8      21.6   \n",
       "3     21.8     18.8     19.7      19.8       20.8       19.0      19.2   \n",
       "4     25.2     18.6     20.6      19.8       21.4       19.6      18.8   \n",
       "\n",
       "   tempumi15  tempumi21  umid9  umid15  umid21  umidrel  evaporacao  insolacao  \n",
       "0       22.0       20.6   69.2    86.3    98.1     87.9         0.0        0.0  \n",
       "1       24.4       22.6   70.9    48.7    83.4     71.6         0.5        0.0  \n",
       "2       23.2       21.2   84.6    79.3    94.6     88.3         2.5        0.0  \n",
       "3       19.4       18.8   94.2    87.1    98.1     94.4         1.3        0.0  \n",
       "4       20.4       19.4   90.4    90.9    98.1     94.4         0.6        0.0  "
      ]
     },
     "execution_count": 75,
     "metadata": {},
     "output_type": "execute_result"
    }
   ],
   "source": [
    "iapar_dados_drop.head()"
   ]
  },
  {
   "cell_type": "code",
   "execution_count": 76,
   "metadata": {},
   "outputs": [
    {
     "data": {
      "text/plain": [
       "<AxesSubplot:>"
      ]
     },
     "execution_count": 76,
     "metadata": {},
     "output_type": "execute_result"
    },
    {
     "data": {
      "image/png": "[encoded data removed]",
      "text/plain": [
       "<Figure size 432x288 with 1 Axes>"
      ]
     },
     "metadata": {
      "needs_background": "light"
     },
     "output_type": "display_data"
    }
   ],
   "source": [
    "sns.boxplot(data=iapar_dados_drop)"
   ]
  },
  {
   "cell_type": "code",
   "execution_count": 78,
   "metadata": {},
   "outputs": [
    {
     "data": {
      "text/plain": [
       "<AxesSubplot:title={'center':'Dados atmosféricos'}>"
      ]
     },
     "execution_count": 78,
     "metadata": {},
     "output_type": "execute_result"
    },
    {
     "data": {
      "image/png": "[encoded data removed]",
      "text/plain": [
       "<Figure size 720x576 with 1 Axes>"
      ]
     },
     "metadata": {
      "needs_background": "light"
     },
     "output_type": "display_data"
    }
   ],
   "source": [
    "iapar_dados_drop.plot(kind='box', title='Dados atmosféricos', figsize=(10,8), legend=True, fontsize=10)"
   ]
  },
  {
   "cell_type": "code",
   "execution_count": 60,
   "metadata": {},
   "outputs": [
    {
     "data": {
      "image/png": "[encoded data removed]",
      "text/plain": [
       "<Figure size 864x360 with 2 Axes>"
      ]
     },
     "metadata": {
      "needs_background": "light"
     },
     "output_type": "display_data"
    }
   ],
   "source": [
    "plt.figure(figsize=(12,5))\n",
    "plt.xlabel('tempo')\n",
    "\n",
    "ax1 = iapar_dados['tempmin'].plot(color='blue', grid=True, label='Count')\n",
    "ax2 = iapar_dados['tempmax'].plot(color='red', grid=True, secondary_y=True, label='Sum')"
   ]
  },
  {
   "cell_type": "code",
   "execution_count": 57,
   "metadata": {},
   "outputs": [
    {
     "data": {
      "text/plain": [
       "<AxesSubplot:>"
      ]
     },
     "execution_count": 57,
     "metadata": {},
     "output_type": "execute_result"
    },
    {
     "data": {
      "image/png": "[encoded data removed]",
      "text/plain": [
       "<Figure size 1440x360 with 2 Axes>"
      ]
     },
     "metadata": {
      "needs_background": "light"
     },
     "output_type": "display_data"
    }
   ],
   "source": [
    "iapar_dados.loc[:,['tempmin','tempmax']].plot(secondary_y=['tempmax'], mark_right=False, figsize = (20,5), grid=True)\n"
   ]
  },
  {
   "cell_type": "code",
   "execution_count": null,
   "metadata": {},
   "outputs": [],
   "source": []
  },
  {
   "cell_type": "code",
   "execution_count": null,
   "metadata": {},
   "outputs": [],
   "source": []
  },
  {
   "cell_type": "code",
   "execution_count": 27,
   "metadata": {},
   "outputs": [
    {
     "data": {
      "image/png": "[encoded data removed]",
      "text/plain": [
       "<Figure size 432x216 with 2 Axes>"
      ]
     },
     "metadata": {
      "needs_background": "light"
     },
     "output_type": "display_data"
    }
   ],
   "source": [
    "tips = sns.load_dataset(\"tips\")\n",
    "g = sns.FacetGrid(tips, col=\"time\")"
   ]
  },
  {
   "cell_type": "code",
   "execution_count": 31,
   "metadata": {},
   "outputs": [],
   "source": [
    "iris = sns.load_dataset(\"iris\")"
   ]
  },
  {
   "cell_type": "code",
   "execution_count": 40,
   "metadata": {},
   "outputs": [
    {
     "data": {
      "text/plain": [
       "<AxesSubplot:xlabel='tempmax'>"
      ]
     },
     "execution_count": 40,
     "metadata": {},
     "output_type": "execute_result"
    },
    {
     "data": {
      "image/png": "[encoded data removed]",
      "text/plain": [
       "<Figure size 432x288 with 1 Axes>"
      ]
     },
     "metadata": {
      "needs_background": "light"
     },
     "output_type": "display_data"
    }
   ],
   "source": [
    "sns.boxplot(x=iapar_dados['tempmax'])"
   ]
  },
  {
   "cell_type": "code",
   "execution_count": null,
   "metadata": {},
   "outputs": [],
   "source": []
  }
 ],
 "metadata": {
  "kernelspec": {
   "display_name": "Python 3",
   "language": "python",
   "name": "python3"
  },
  "language_info": {
   "codemirror_mode": {
    "name": "ipython",
    "version": 3
   },
   "file_extension": ".py",
   "mimetype": "text/x-python",
   "name": "python",
   "nbconvert_exporter": "python",
   "pygments_lexer": "ipython3",
   "version": "3.8.3"
  }
 },
 "nbformat": 4,
 "nbformat_minor": 4
}
