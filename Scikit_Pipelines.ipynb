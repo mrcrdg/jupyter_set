{
  "nbformat": 4,
  "nbformat_minor": 0,
  "metadata": {
    "kernelspec": {
      "display_name": "Python [conda env:.conda-trackml6]",
      "language": "python",
      "name": "conda-env-.conda-trackml6-py"
    },
    "language_info": {
      "codemirror_mode": {
        "name": "ipython",
        "version": 3
      },
      "file_extension": ".py",
      "mimetype": "text/x-python",
      "name": "python",
      "nbconvert_exporter": "python",
      "pygments_lexer": "ipython3",
      "version": "3.7.4"
    },
    "colab": {
      "name": "Scikit Pipelines.ipynb",
      "provenance": [],
      "include_colab_link": true
    }
  },
  "cells": [
    {
      "cell_type": "markdown",
      "metadata": {
        "id": "view-in-github",
        "colab_type": "text"
      },
      "source": [
        "<a href=\"https://colab.research.google.com/github/mrcrdg/jupyter_set/blob/master/Scikit_Pipelines.ipynb\" target=\"_parent\"><img src=\"https://colab.research.google.com/assets/colab-badge.svg\" alt=\"Open In Colab\"/></a>"
      ]
    },
    {
      "cell_type": "code",
      "metadata": {
        "id": "5PMwseJdPwuD"
      },
      "source": [
        "import warnings\n",
        "warnings.filterwarnings('ignore')"
      ],
      "execution_count": null,
      "outputs": []
    },
    {
      "cell_type": "markdown",
      "metadata": {
        "id": "aiDhgk3GMAEd"
      },
      "source": [
        "# Scikit-learn Pipelines"
      ]
    },
    {
      "cell_type": "markdown",
      "metadata": {
        "id": "P-VAtfQHMAEd"
      },
      "source": [
        "## Definição Manual de um Pipeline"
      ]
    },
    {
      "cell_type": "markdown",
      "metadata": {
        "id": "ZyIkqZP1iuz4"
      },
      "source": [
        "### Leitura do dataset"
      ]
    },
    {
      "cell_type": "markdown",
      "metadata": {
        "id": "XjHiWGnbizmB"
      },
      "source": [
        "Estamos utilizando o dataset do Titanic, disponível no [kaggle](https://www.kaggle.com/c/titanic/data?select=train.csv),"
      ]
    },
    {
      "cell_type": "code",
      "metadata": {
        "colab": {
          "base_uri": "https://localhost:8080/"
        },
        "id": "T6t-r2zOJB1O",
        "outputId": "67e37e46-a534-435f-ceb1-fe20ef24c613"
      },
      "source": [
        "!pip install gdown"
      ],
      "execution_count": null,
      "outputs": [
        {
          "output_type": "stream",
          "text": [
            "Requirement already satisfied: gdown in /usr/local/lib/python3.6/dist-packages (3.6.4)\n",
            "Requirement already satisfied: requests in /usr/local/lib/python3.6/dist-packages (from gdown) (2.23.0)\n",
            "Requirement already satisfied: six in /usr/local/lib/python3.6/dist-packages (from gdown) (1.15.0)\n",
            "Requirement already satisfied: tqdm in /usr/local/lib/python3.6/dist-packages (from gdown) (4.41.1)\n",
            "Requirement already satisfied: certifi>=2017.4.17 in /usr/local/lib/python3.6/dist-packages (from requests->gdown) (2020.6.20)\n",
            "Requirement already satisfied: idna<3,>=2.5 in /usr/local/lib/python3.6/dist-packages (from requests->gdown) (2.10)\n",
            "Requirement already satisfied: urllib3!=1.25.0,!=1.25.1,<1.26,>=1.21.1 in /usr/local/lib/python3.6/dist-packages (from requests->gdown) (1.24.3)\n",
            "Requirement already satisfied: chardet<4,>=3.0.2 in /usr/local/lib/python3.6/dist-packages (from requests->gdown) (3.0.4)\n"
          ],
          "name": "stdout"
        }
      ]
    },
    {
      "cell_type": "code",
      "metadata": {
        "colab": {
          "base_uri": "https://localhost:8080/"
        },
        "id": "63Z8u8FHJHYt",
        "outputId": "36016ead-5f55-47ba-b3d3-0fafea6e9a73"
      },
      "source": [
        "!gdown https://drive.google.com/uc?id=1nUojuf_X8r3MMEpa60PZkes5rk1eCueI"
      ],
      "execution_count": null,
      "outputs": [
        {
          "output_type": "stream",
          "text": [
            "Downloading...\n",
            "From: https://drive.google.com/uc?id=1nUojuf_X8r3MMEpa60PZkes5rk1eCueI\n",
            "To: /content/train_titanic.csv\n",
            "\r  0% 0.00/61.2k [00:00<?, ?B/s]\r100% 61.2k/61.2k [00:00<00:00, 52.5MB/s]\n"
          ],
          "name": "stdout"
        }
      ]
    },
    {
      "cell_type": "code",
      "metadata": {
        "id": "iIxSL4SZ_ulE"
      },
      "source": [
        "import pandas as pd"
      ],
      "execution_count": null,
      "outputs": []
    },
    {
      "cell_type": "code",
      "metadata": {
        "id": "F9npKT6sMAEd"
      },
      "source": [
        "titanic_data = pd.read_csv('train_titanic.csv')"
      ],
      "execution_count": null,
      "outputs": []
    },
    {
      "cell_type": "code",
      "metadata": {
        "colab": {
          "base_uri": "https://localhost:8080/",
          "height": 237
        },
        "id": "zqzuV7p2KAc8",
        "outputId": "abc5b001-5866-4a89-ec5d-a8ec67dab179"
      },
      "source": [
        "titanic_data.head()"
      ],
      "execution_count": null,
      "outputs": [
        {
          "output_type": "execute_result",
          "data": {
            "text/html": [
              "<div>\n",
              "<style scoped>\n",
              "    .dataframe tbody tr th:only-of-type {\n",
              "        vertical-align: middle;\n",
              "    }\n",
              "\n",
              "    .dataframe tbody tr th {\n",
              "        vertical-align: top;\n",
              "    }\n",
              "\n",
              "    .dataframe thead th {\n",
              "        text-align: right;\n",
              "    }\n",
              "</style>\n",
              "<table border=\"1\" class=\"dataframe\">\n",
              "  <thead>\n",
              "    <tr style=\"text-align: right;\">\n",
              "      <th></th>\n",
              "      <th>PassengerId</th>\n",
              "      <th>Survived</th>\n",
              "      <th>Pclass</th>\n",
              "      <th>Name</th>\n",
              "      <th>Sex</th>\n",
              "      <th>Age</th>\n",
              "      <th>SibSp</th>\n",
              "      <th>Parch</th>\n",
              "      <th>Ticket</th>\n",
              "      <th>Fare</th>\n",
              "      <th>Cabin</th>\n",
              "      <th>Embarked</th>\n",
              "    </tr>\n",
              "  </thead>\n",
              "  <tbody>\n",
              "    <tr>\n",
              "      <th>0</th>\n",
              "      <td>1</td>\n",
              "      <td>0</td>\n",
              "      <td>3</td>\n",
              "      <td>Braund, Mr. Owen Harris</td>\n",
              "      <td>male</td>\n",
              "      <td>22.0</td>\n",
              "      <td>1</td>\n",
              "      <td>0</td>\n",
              "      <td>A/5 21171</td>\n",
              "      <td>7.2500</td>\n",
              "      <td>NaN</td>\n",
              "      <td>S</td>\n",
              "    </tr>\n",
              "    <tr>\n",
              "      <th>1</th>\n",
              "      <td>2</td>\n",
              "      <td>1</td>\n",
              "      <td>1</td>\n",
              "      <td>Cumings, Mrs. John Bradley (Florence Briggs Th...</td>\n",
              "      <td>female</td>\n",
              "      <td>38.0</td>\n",
              "      <td>1</td>\n",
              "      <td>0</td>\n",
              "      <td>PC 17599</td>\n",
              "      <td>71.2833</td>\n",
              "      <td>C85</td>\n",
              "      <td>C</td>\n",
              "    </tr>\n",
              "    <tr>\n",
              "      <th>2</th>\n",
              "      <td>3</td>\n",
              "      <td>1</td>\n",
              "      <td>3</td>\n",
              "      <td>Heikkinen, Miss. Laina</td>\n",
              "      <td>female</td>\n",
              "      <td>26.0</td>\n",
              "      <td>0</td>\n",
              "      <td>0</td>\n",
              "      <td>STON/O2. 3101282</td>\n",
              "      <td>7.9250</td>\n",
              "      <td>NaN</td>\n",
              "      <td>S</td>\n",
              "    </tr>\n",
              "    <tr>\n",
              "      <th>3</th>\n",
              "      <td>4</td>\n",
              "      <td>1</td>\n",
              "      <td>1</td>\n",
              "      <td>Futrelle, Mrs. Jacques Heath (Lily May Peel)</td>\n",
              "      <td>female</td>\n",
              "      <td>35.0</td>\n",
              "      <td>1</td>\n",
              "      <td>0</td>\n",
              "      <td>113803</td>\n",
              "      <td>53.1000</td>\n",
              "      <td>C123</td>\n",
              "      <td>S</td>\n",
              "    </tr>\n",
              "    <tr>\n",
              "      <th>4</th>\n",
              "      <td>5</td>\n",
              "      <td>0</td>\n",
              "      <td>3</td>\n",
              "      <td>Allen, Mr. William Henry</td>\n",
              "      <td>male</td>\n",
              "      <td>35.0</td>\n",
              "      <td>0</td>\n",
              "      <td>0</td>\n",
              "      <td>373450</td>\n",
              "      <td>8.0500</td>\n",
              "      <td>NaN</td>\n",
              "      <td>S</td>\n",
              "    </tr>\n",
              "  </tbody>\n",
              "</table>\n",
              "</div>"
            ],
            "text/plain": [
              "   PassengerId  Survived  Pclass  ...     Fare Cabin  Embarked\n",
              "0            1         0       3  ...   7.2500   NaN         S\n",
              "1            2         1       1  ...  71.2833   C85         C\n",
              "2            3         1       3  ...   7.9250   NaN         S\n",
              "3            4         1       1  ...  53.1000  C123         S\n",
              "4            5         0       3  ...   8.0500   NaN         S\n",
              "\n",
              "[5 rows x 12 columns]"
            ]
          },
          "metadata": {
            "tags": []
          },
          "execution_count": 6
        }
      ]
    },
    {
      "cell_type": "markdown",
      "metadata": {
        "id": "EBi6NGpuLLL-"
      },
      "source": [
        "Remover colunas inúteis"
      ]
    },
    {
      "cell_type": "code",
      "metadata": {
        "id": "HPjBpVv4LN4p"
      },
      "source": [
        "titanic_data.drop([\"Name\", \"Ticket\", \"Cabin\"], axis=1, inplace=True)"
      ],
      "execution_count": null,
      "outputs": []
    },
    {
      "cell_type": "code",
      "metadata": {
        "colab": {
          "base_uri": "https://localhost:8080/",
          "height": 202
        },
        "id": "WegY383zLX6Y",
        "outputId": "8a24d5c7-99ba-4d4e-e941-b2ee648b425f"
      },
      "source": [
        "titanic_data.head()"
      ],
      "execution_count": null,
      "outputs": [
        {
          "output_type": "execute_result",
          "data": {
            "text/html": [
              "<div>\n",
              "<style scoped>\n",
              "    .dataframe tbody tr th:only-of-type {\n",
              "        vertical-align: middle;\n",
              "    }\n",
              "\n",
              "    .dataframe tbody tr th {\n",
              "        vertical-align: top;\n",
              "    }\n",
              "\n",
              "    .dataframe thead th {\n",
              "        text-align: right;\n",
              "    }\n",
              "</style>\n",
              "<table border=\"1\" class=\"dataframe\">\n",
              "  <thead>\n",
              "    <tr style=\"text-align: right;\">\n",
              "      <th></th>\n",
              "      <th>PassengerId</th>\n",
              "      <th>Survived</th>\n",
              "      <th>Pclass</th>\n",
              "      <th>Sex</th>\n",
              "      <th>Age</th>\n",
              "      <th>SibSp</th>\n",
              "      <th>Parch</th>\n",
              "      <th>Fare</th>\n",
              "      <th>Embarked</th>\n",
              "    </tr>\n",
              "  </thead>\n",
              "  <tbody>\n",
              "    <tr>\n",
              "      <th>0</th>\n",
              "      <td>1</td>\n",
              "      <td>0</td>\n",
              "      <td>3</td>\n",
              "      <td>male</td>\n",
              "      <td>22.0</td>\n",
              "      <td>1</td>\n",
              "      <td>0</td>\n",
              "      <td>7.2500</td>\n",
              "      <td>S</td>\n",
              "    </tr>\n",
              "    <tr>\n",
              "      <th>1</th>\n",
              "      <td>2</td>\n",
              "      <td>1</td>\n",
              "      <td>1</td>\n",
              "      <td>female</td>\n",
              "      <td>38.0</td>\n",
              "      <td>1</td>\n",
              "      <td>0</td>\n",
              "      <td>71.2833</td>\n",
              "      <td>C</td>\n",
              "    </tr>\n",
              "    <tr>\n",
              "      <th>2</th>\n",
              "      <td>3</td>\n",
              "      <td>1</td>\n",
              "      <td>3</td>\n",
              "      <td>female</td>\n",
              "      <td>26.0</td>\n",
              "      <td>0</td>\n",
              "      <td>0</td>\n",
              "      <td>7.9250</td>\n",
              "      <td>S</td>\n",
              "    </tr>\n",
              "    <tr>\n",
              "      <th>3</th>\n",
              "      <td>4</td>\n",
              "      <td>1</td>\n",
              "      <td>1</td>\n",
              "      <td>female</td>\n",
              "      <td>35.0</td>\n",
              "      <td>1</td>\n",
              "      <td>0</td>\n",
              "      <td>53.1000</td>\n",
              "      <td>S</td>\n",
              "    </tr>\n",
              "    <tr>\n",
              "      <th>4</th>\n",
              "      <td>5</td>\n",
              "      <td>0</td>\n",
              "      <td>3</td>\n",
              "      <td>male</td>\n",
              "      <td>35.0</td>\n",
              "      <td>0</td>\n",
              "      <td>0</td>\n",
              "      <td>8.0500</td>\n",
              "      <td>S</td>\n",
              "    </tr>\n",
              "  </tbody>\n",
              "</table>\n",
              "</div>"
            ],
            "text/plain": [
              "   PassengerId  Survived  Pclass     Sex   Age  SibSp  Parch     Fare Embarked\n",
              "0            1         0       3    male  22.0      1      0   7.2500        S\n",
              "1            2         1       1  female  38.0      1      0  71.2833        C\n",
              "2            3         1       3  female  26.0      0      0   7.9250        S\n",
              "3            4         1       1  female  35.0      1      0  53.1000        S\n",
              "4            5         0       3    male  35.0      0      0   8.0500        S"
            ]
          },
          "metadata": {
            "tags": []
          },
          "execution_count": 8
        }
      ]
    },
    {
      "cell_type": "markdown",
      "metadata": {
        "id": "-PzeKeOmLc-d"
      },
      "source": [
        "### Verificar valores faltando"
      ]
    },
    {
      "cell_type": "code",
      "metadata": {
        "colab": {
          "base_uri": "https://localhost:8080/"
        },
        "id": "8toXFMwqLfxA",
        "outputId": "2c629fa1-39fd-44b1-bdfe-60043a3435eb"
      },
      "source": [
        "print(\"Missing Values: {}\".format(titanic_data.isna().values.sum()))"
      ],
      "execution_count": null,
      "outputs": [
        {
          "output_type": "stream",
          "text": [
            "Missing Values: 179\n"
          ],
          "name": "stdout"
        }
      ]
    },
    {
      "cell_type": "markdown",
      "metadata": {
        "id": "mVZ-_1_bPO8n"
      },
      "source": [
        "Listar colunas com valores faltando"
      ]
    },
    {
      "cell_type": "code",
      "metadata": {
        "colab": {
          "base_uri": "https://localhost:8080/"
        },
        "id": "BoX5fkhKOHFY",
        "outputId": "87d474f0-98ed-48f5-a087-1da1a314800e"
      },
      "source": [
        "titanic_data.isna().any()"
      ],
      "execution_count": null,
      "outputs": [
        {
          "output_type": "execute_result",
          "data": {
            "text/plain": [
              "PassengerId    False\n",
              "Survived       False\n",
              "Pclass         False\n",
              "Sex            False\n",
              "Age             True\n",
              "SibSp          False\n",
              "Parch          False\n",
              "Fare           False\n",
              "Embarked        True\n",
              "dtype: bool"
            ]
          },
          "metadata": {
            "tags": []
          },
          "execution_count": 10
        }
      ]
    },
    {
      "cell_type": "markdown",
      "metadata": {
        "id": "rv5OiDFHLxtL"
      },
      "source": [
        "Imputar valores faltantes"
      ]
    },
    {
      "cell_type": "code",
      "metadata": {
        "id": "vI0XplL6L1Ki"
      },
      "source": [
        "from sklearn.impute import SimpleImputer\n",
        "import numpy as np"
      ],
      "execution_count": null,
      "outputs": []
    },
    {
      "cell_type": "code",
      "metadata": {
        "id": "T5v518BCMITF"
      },
      "source": [
        "imputer = SimpleImputer(missing_values=np.nan, strategy='most_frequent')\n",
        "imputer.fit(titanic_data)\n",
        "titanic_data = imputer.transform(titanic_data)"
      ],
      "execution_count": null,
      "outputs": []
    },
    {
      "cell_type": "code",
      "metadata": {
        "colab": {
          "base_uri": "https://localhost:8080/"
        },
        "id": "WeImWQpiRUsN",
        "outputId": "1c473c09-b64e-45fa-ec45-9335b96f97fd"
      },
      "source": [
        "titanic_data[:10]"
      ],
      "execution_count": null,
      "outputs": [
        {
          "output_type": "execute_result",
          "data": {
            "text/plain": [
              "array([[1, 0, 3, 'male', 22.0, 1, 0, 7.25, 'S'],\n",
              "       [2, 1, 1, 'female', 38.0, 1, 0, 71.2833, 'C'],\n",
              "       [3, 1, 3, 'female', 26.0, 0, 0, 7.925, 'S'],\n",
              "       [4, 1, 1, 'female', 35.0, 1, 0, 53.1, 'S'],\n",
              "       [5, 0, 3, 'male', 35.0, 0, 0, 8.05, 'S'],\n",
              "       [6, 0, 3, 'male', 24.0, 0, 0, 8.4583, 'Q'],\n",
              "       [7, 0, 1, 'male', 54.0, 0, 0, 51.8625, 'S'],\n",
              "       [8, 0, 3, 'male', 2.0, 3, 1, 21.075, 'S'],\n",
              "       [9, 1, 3, 'female', 27.0, 0, 2, 11.1333, 'S'],\n",
              "       [10, 1, 2, 'female', 14.0, 1, 0, 30.0708, 'C']], dtype=object)"
            ]
          },
          "metadata": {
            "tags": []
          },
          "execution_count": 13
        }
      ]
    },
    {
      "cell_type": "markdown",
      "metadata": {
        "id": "au0OfQiBPV2x"
      },
      "source": [
        "### Codificar classes em categorias numéricas"
      ]
    },
    {
      "cell_type": "markdown",
      "metadata": {
        "id": "Abm3-xNEjPh2"
      },
      "source": [
        "Vamos utilizar o plugin category_encoders do scikit-learn para utilizar o OneHotEncoder em dados textuais"
      ]
    },
    {
      "cell_type": "code",
      "metadata": {
        "colab": {
          "base_uri": "https://localhost:8080/"
        },
        "id": "2fCzzcFTdcef",
        "outputId": "37d283e3-6557-4657-dd75-bbd3affd2164"
      },
      "source": [
        "!pip install category_encoders"
      ],
      "execution_count": null,
      "outputs": [
        {
          "output_type": "stream",
          "text": [
            "Collecting category_encoders\n",
            "\u001b[?25l  Downloading https://files.pythonhosted.org/packages/44/57/fcef41c248701ee62e8325026b90c432adea35555cbc870aff9cfba23727/category_encoders-2.2.2-py2.py3-none-any.whl (80kB)\n",
            "\r\u001b[K     |████                            | 10kB 14.3MB/s eta 0:00:01\r\u001b[K     |████████▏                       | 20kB 19.7MB/s eta 0:00:01\r\u001b[K     |████████████▏                   | 30kB 11.3MB/s eta 0:00:01\r\u001b[K     |████████████████▎               | 40kB 9.4MB/s eta 0:00:01\r\u001b[K     |████████████████████▎           | 51kB 5.0MB/s eta 0:00:01\r\u001b[K     |████████████████████████▍       | 61kB 5.6MB/s eta 0:00:01\r\u001b[K     |████████████████████████████▍   | 71kB 5.7MB/s eta 0:00:01\r\u001b[K     |████████████████████████████████| 81kB 2.2MB/s \n",
            "\u001b[?25hRequirement already satisfied: numpy>=1.14.0 in /usr/local/lib/python3.6/dist-packages (from category_encoders) (1.18.5)\n",
            "Requirement already satisfied: scipy>=1.0.0 in /usr/local/lib/python3.6/dist-packages (from category_encoders) (1.4.1)\n",
            "Requirement already satisfied: statsmodels>=0.9.0 in /usr/local/lib/python3.6/dist-packages (from category_encoders) (0.10.2)\n",
            "Requirement already satisfied: scikit-learn>=0.20.0 in /usr/local/lib/python3.6/dist-packages (from category_encoders) (0.22.2.post1)\n",
            "Requirement already satisfied: pandas>=0.21.1 in /usr/local/lib/python3.6/dist-packages (from category_encoders) (1.1.4)\n",
            "Requirement already satisfied: patsy>=0.5.1 in /usr/local/lib/python3.6/dist-packages (from category_encoders) (0.5.1)\n",
            "Requirement already satisfied: joblib>=0.11 in /usr/local/lib/python3.6/dist-packages (from scikit-learn>=0.20.0->category_encoders) (0.17.0)\n",
            "Requirement already satisfied: pytz>=2017.2 in /usr/local/lib/python3.6/dist-packages (from pandas>=0.21.1->category_encoders) (2018.9)\n",
            "Requirement already satisfied: python-dateutil>=2.7.3 in /usr/local/lib/python3.6/dist-packages (from pandas>=0.21.1->category_encoders) (2.8.1)\n",
            "Requirement already satisfied: six in /usr/local/lib/python3.6/dist-packages (from patsy>=0.5.1->category_encoders) (1.15.0)\n",
            "Installing collected packages: category-encoders\n",
            "Successfully installed category-encoders-2.2.2\n"
          ],
          "name": "stdout"
        }
      ]
    },
    {
      "cell_type": "code",
      "metadata": {
        "id": "hpyhKl_dPeb-"
      },
      "source": [
        "from category_encoders import OneHotEncoder"
      ],
      "execution_count": null,
      "outputs": []
    },
    {
      "cell_type": "code",
      "metadata": {
        "id": "LEiKQ_iiQC5g"
      },
      "source": [
        "enc = OneHotEncoder()"
      ],
      "execution_count": null,
      "outputs": []
    },
    {
      "cell_type": "markdown",
      "metadata": {
        "id": "JvJeaz4ljaDD"
      },
      "source": [
        "Vamos aplicar o encoder as colunas (variáveis independentes) que possuem dados categóricos"
      ]
    },
    {
      "cell_type": "code",
      "metadata": {
        "id": "BYgm-fYBQIw7"
      },
      "source": [
        "enc.fit(titanic_data[:,3])\n",
        "titanic_data = np.column_stack((titanic_data, enc.transform(titanic_data[:,3])))\n",
        "titanic_data = np.delete(titanic_data, 3, axis=1)"
      ],
      "execution_count": null,
      "outputs": []
    },
    {
      "cell_type": "code",
      "metadata": {
        "colab": {
          "base_uri": "https://localhost:8080/"
        },
        "id": "U6H3__ZoVwsc",
        "outputId": "371c7128-4aff-4171-c895-3bd687ad6152"
      },
      "source": [
        "titanic_data[:10]"
      ],
      "execution_count": null,
      "outputs": [
        {
          "output_type": "execute_result",
          "data": {
            "text/plain": [
              "array([[1, 0, 3, 22.0, 1, 0, 7.25, 'S', 1, 0],\n",
              "       [2, 1, 1, 38.0, 1, 0, 71.2833, 'C', 0, 1],\n",
              "       [3, 1, 3, 26.0, 0, 0, 7.925, 'S', 0, 1],\n",
              "       [4, 1, 1, 35.0, 1, 0, 53.1, 'S', 0, 1],\n",
              "       [5, 0, 3, 35.0, 0, 0, 8.05, 'S', 1, 0],\n",
              "       [6, 0, 3, 24.0, 0, 0, 8.4583, 'Q', 1, 0],\n",
              "       [7, 0, 1, 54.0, 0, 0, 51.8625, 'S', 1, 0],\n",
              "       [8, 0, 3, 2.0, 3, 1, 21.075, 'S', 1, 0],\n",
              "       [9, 1, 3, 27.0, 0, 2, 11.1333, 'S', 0, 1],\n",
              "       [10, 1, 2, 14.0, 1, 0, 30.0708, 'C', 0, 1]], dtype=object)"
            ]
          },
          "metadata": {
            "tags": []
          },
          "execution_count": 18
        }
      ]
    },
    {
      "cell_type": "code",
      "metadata": {
        "id": "6UDi-HTEV10r"
      },
      "source": [
        "enc.fit(titanic_data[:,7])\n",
        "titanic_data = np.column_stack((titanic_data, enc.transform(titanic_data[:,7])))\n",
        "titanic_data = np.delete(titanic_data, 7, axis=1)"
      ],
      "execution_count": null,
      "outputs": []
    },
    {
      "cell_type": "code",
      "metadata": {
        "colab": {
          "base_uri": "https://localhost:8080/"
        },
        "id": "fRnqUk0AV-v2",
        "outputId": "f39bdad0-4c2d-4222-f41c-04ee0f88f32a"
      },
      "source": [
        "titanic_data[:10]"
      ],
      "execution_count": null,
      "outputs": [
        {
          "output_type": "execute_result",
          "data": {
            "text/plain": [
              "array([[1, 0, 3, 22.0, 1, 0, 7.25, 1, 0, 1, 0, 0],\n",
              "       [2, 1, 1, 38.0, 1, 0, 71.2833, 0, 1, 0, 1, 0],\n",
              "       [3, 1, 3, 26.0, 0, 0, 7.925, 0, 1, 1, 0, 0],\n",
              "       [4, 1, 1, 35.0, 1, 0, 53.1, 0, 1, 1, 0, 0],\n",
              "       [5, 0, 3, 35.0, 0, 0, 8.05, 1, 0, 1, 0, 0],\n",
              "       [6, 0, 3, 24.0, 0, 0, 8.4583, 1, 0, 0, 0, 1],\n",
              "       [7, 0, 1, 54.0, 0, 0, 51.8625, 1, 0, 1, 0, 0],\n",
              "       [8, 0, 3, 2.0, 3, 1, 21.075, 1, 0, 1, 0, 0],\n",
              "       [9, 1, 3, 27.0, 0, 2, 11.1333, 0, 1, 1, 0, 0],\n",
              "       [10, 1, 2, 14.0, 1, 0, 30.0708, 0, 1, 0, 1, 0]], dtype=object)"
            ]
          },
          "metadata": {
            "tags": []
          },
          "execution_count": 20
        }
      ]
    },
    {
      "cell_type": "markdown",
      "metadata": {
        "id": "7avJ6ctujvnH"
      },
      "source": [
        "### Criação e avaliação dos modelos de classificação"
      ]
    },
    {
      "cell_type": "markdown",
      "metadata": {
        "id": "5zCd2wSGA2TK"
      },
      "source": [
        "Separar em treino e teste"
      ]
    },
    {
      "cell_type": "code",
      "metadata": {
        "id": "AKkC9a4YArry"
      },
      "source": [
        "from sklearn.model_selection import train_test_split"
      ],
      "execution_count": null,
      "outputs": []
    },
    {
      "cell_type": "code",
      "metadata": {
        "id": "JYkhP0R0XPvr"
      },
      "source": [
        "y = titanic_data[:,1].astype('int')"
      ],
      "execution_count": null,
      "outputs": []
    },
    {
      "cell_type": "code",
      "metadata": {
        "id": "8X0GPPsGXcnt"
      },
      "source": [
        "X = np.delete(titanic_data,1,axis=1)"
      ],
      "execution_count": null,
      "outputs": []
    },
    {
      "cell_type": "code",
      "metadata": {
        "id": "2qlpNV0DMAEe"
      },
      "source": [
        "X_train, X_test, y_train, y_test = train_test_split(X,y, test_size=0.3)"
      ],
      "execution_count": null,
      "outputs": []
    },
    {
      "cell_type": "markdown",
      "metadata": {
        "id": "bSeTXAwFMAEe"
      },
      "source": [
        "Comparação do score de alguns modelos\n",
        "\n",
        "\n"
      ]
    },
    {
      "cell_type": "code",
      "metadata": {
        "id": "ihY4VKgyBF_m"
      },
      "source": [
        "from sklearn.linear_model import LogisticRegression\n",
        "from sklearn.naive_bayes import GaussianNB"
      ],
      "execution_count": null,
      "outputs": []
    },
    {
      "cell_type": "code",
      "metadata": {
        "id": "-fP_HwYgBWeq"
      },
      "source": [
        "lr = LogisticRegression()\n",
        "gnb = GaussianNB()"
      ],
      "execution_count": null,
      "outputs": []
    },
    {
      "cell_type": "code",
      "metadata": {
        "colab": {
          "base_uri": "https://localhost:8080/"
        },
        "id": "UoinqEXaBeC2",
        "outputId": "d9acf15d-13e0-4b1d-facc-017679e992a3"
      },
      "source": [
        "lr.fit(X_train, y_train)\n",
        "gnb.fit(X_train, y_train)"
      ],
      "execution_count": null,
      "outputs": [
        {
          "output_type": "execute_result",
          "data": {
            "text/plain": [
              "GaussianNB(priors=None, var_smoothing=1e-09)"
            ]
          },
          "metadata": {
            "tags": []
          },
          "execution_count": 27
        }
      ]
    },
    {
      "cell_type": "markdown",
      "metadata": {
        "id": "fCjPd15fBr0b"
      },
      "source": [
        "Calcular scores dos classificadores:"
      ]
    },
    {
      "cell_type": "code",
      "metadata": {
        "colab": {
          "base_uri": "https://localhost:8080/"
        },
        "id": "c7WOrccPBvk1",
        "outputId": "1468e01c-a3e7-42eb-9a1c-0638e65b4b23"
      },
      "source": [
        "print(\"Score Logistic Regression: {:.2f}\".format(lr.score(X_test, y_test)))\n",
        "print(\"Score Naive Bayes: {:.2f}\".format(gnb.score(X_test, y_test)))"
      ],
      "execution_count": null,
      "outputs": [
        {
          "output_type": "stream",
          "text": [
            "Score Logistic Regression: 0.76\n",
            "Score Naive Bayes: 0.79\n"
          ],
          "name": "stdout"
        }
      ]
    },
    {
      "cell_type": "markdown",
      "metadata": {
        "id": "6Du59IFCMAEf"
      },
      "source": [
        "## Definindo um workflow com Scikit-learn pipeline\n",
        "* A mesma análise anterior, porem, incluindo cada avaliação em um objeto pipe\n",
        "* Ao final um pipeline com outros pipes sao executados\n",
        "* Um pipe possui uma ou mais transformações,por exemplo, normalização, codificação (objetos que possuem a função `transform()`), e por último um classificador (que possui a função `fit()`)"
      ]
    },
    {
      "cell_type": "code",
      "metadata": {
        "id": "heEe6YI3Y8zA"
      },
      "source": [
        "titanic_data = pd.read_csv('train_titanic.csv')\n",
        "\n",
        "# retirando colunas com nome, ingresso e cabine dos conjuntos\n",
        "titanic_data.drop([\"Name\", \"Ticket\", \"Cabin\"], axis=1, inplace=True)"
      ],
      "execution_count": null,
      "outputs": []
    },
    {
      "cell_type": "markdown",
      "metadata": {
        "id": "xTy8o_KmbOHs"
      },
      "source": [
        "Separando dados em teste e treino"
      ]
    },
    {
      "cell_type": "code",
      "metadata": {
        "id": "dV0_iGs9bRQz"
      },
      "source": [
        "from sklearn.model_selection import train_test_split\n",
        "# dividindo em conjunto de treino e test\n",
        "X_train, X_test, y_train, y_test = train_test_split(titanic_data.drop(['Survived'], \n",
        "                                                                      axis=1), \n",
        "                                                    titanic_data['Survived'], \n",
        "                                                    test_size=0.3, \n",
        "                                                    random_state=42)"
      ],
      "execution_count": null,
      "outputs": []
    },
    {
      "cell_type": "markdown",
      "metadata": {
        "id": "D0X7EQTBkwTv"
      },
      "source": [
        "### Criação de pipes"
      ]
    },
    {
      "cell_type": "markdown",
      "metadata": {
        "id": "6NRauwneZ4oB"
      },
      "source": [
        "Pipeline para pré-processamento das variáveis `Age` e `Fare`"
      ]
    },
    {
      "cell_type": "code",
      "metadata": {
        "id": "6bF3aqefZ-FP"
      },
      "source": [
        "from sklearn.pipeline import Pipeline\n",
        "from sklearn.impute import SimpleImputer\n",
        "from category_encoders import OneHotEncoder"
      ],
      "execution_count": null,
      "outputs": []
    },
    {
      "cell_type": "code",
      "metadata": {
        "id": "ktoL4SlwZtXL"
      },
      "source": [
        "num_transformer = Pipeline(steps=[\n",
        "    ('imputer', SimpleImputer(strategy='median'))\n",
        "])"
      ],
      "execution_count": null,
      "outputs": []
    },
    {
      "cell_type": "markdown",
      "metadata": {
        "id": "QGRrPY5YaSQ-"
      },
      "source": [
        "Pipeline para pré-processamento das variáveis `Sex` e `Embarked`"
      ]
    },
    {
      "cell_type": "code",
      "metadata": {
        "id": "A0BhP5XLZvtI"
      },
      "source": [
        "cat_transformer = Pipeline(steps=[\n",
        "    ('one-hot encoder', OneHotEncoder())\n",
        "])"
      ],
      "execution_count": null,
      "outputs": []
    },
    {
      "cell_type": "markdown",
      "metadata": {
        "id": "qWwZrHZ8aiCV"
      },
      "source": [
        "Concatenação de pre-processadores"
      ]
    },
    {
      "cell_type": "code",
      "metadata": {
        "id": "WBmacRmpam8r"
      },
      "source": [
        "from sklearn.compose import ColumnTransformer"
      ],
      "execution_count": null,
      "outputs": []
    },
    {
      "cell_type": "code",
      "metadata": {
        "id": "6rUZFPVTZyg3"
      },
      "source": [
        "preprocessor = ColumnTransformer(transformers=[\n",
        "    ('num', num_transformer, ['Age', 'Fare']),\n",
        "    ('cat', cat_transformer, ['Sex', 'Embarked'])\n",
        "])"
      ],
      "execution_count": null,
      "outputs": []
    },
    {
      "cell_type": "markdown",
      "metadata": {
        "id": "71ItYzOKau8B"
      },
      "source": [
        "Criando o modelo usando pipeline e um classificador `LogisticRegression`"
      ]
    },
    {
      "cell_type": "markdown",
      "metadata": {
        "id": "NUkLlp26k28C"
      },
      "source": [
        "### Definição do pipeline completo"
      ]
    },
    {
      "cell_type": "code",
      "metadata": {
        "id": "qOud4XLna3o-"
      },
      "source": [
        "from sklearn.linear_model import LogisticRegression\n",
        "from sklearn.naive_bayes import GaussianNB"
      ],
      "execution_count": null,
      "outputs": []
    },
    {
      "cell_type": "code",
      "metadata": {
        "id": "8riA9jWaZ022"
      },
      "source": [
        "model_lr = Pipeline(steps=[\n",
        "    ('preprocessor', preprocessor),\n",
        "    ('lr', LogisticRegression())\n",
        "])\n",
        "\n",
        "model_nb = Pipeline(steps=[\n",
        "    ('preprocessor', preprocessor),\n",
        "    ('nb', GaussianNB())\n",
        "])\n"
      ],
      "execution_count": null,
      "outputs": []
    },
    {
      "cell_type": "markdown",
      "metadata": {
        "id": "XybHs8v_bBG5"
      },
      "source": [
        "Realizar o `fit` dos modelos"
      ]
    },
    {
      "cell_type": "code",
      "metadata": {
        "colab": {
          "base_uri": "https://localhost:8080/"
        },
        "id": "KFpwul_jbEpO",
        "outputId": "9c49f29e-69c6-421e-cf50-9e9eb05a3fc8"
      },
      "source": [
        "model_lr.fit(X_train, y_train)\n",
        "model_nb.fit(X_train, y_train)"
      ],
      "execution_count": null,
      "outputs": [
        {
          "output_type": "execute_result",
          "data": {
            "text/plain": [
              "Pipeline(memory=None,\n",
              "         steps=[('preprocessor',\n",
              "                 ColumnTransformer(n_jobs=None, remainder='drop',\n",
              "                                   sparse_threshold=0.3,\n",
              "                                   transformer_weights=None,\n",
              "                                   transformers=[('num',\n",
              "                                                  Pipeline(memory=None,\n",
              "                                                           steps=[('imputer',\n",
              "                                                                   SimpleImputer(add_indicator=False,\n",
              "                                                                                 copy=True,\n",
              "                                                                                 fill_value=None,\n",
              "                                                                                 missing_values=nan,\n",
              "                                                                                 strategy='median',\n",
              "                                                                                 verbose=0))],\n",
              "                                                           verbose=False),\n",
              "                                                  ['Age', 'Fare']),\n",
              "                                                 ('cat',\n",
              "                                                  Pipeline(memory=None,\n",
              "                                                           steps=[('one-hot '\n",
              "                                                                   'encoder',\n",
              "                                                                   OneHotEncoder(cols=None,\n",
              "                                                                                 drop_invariant=False,\n",
              "                                                                                 handle_missing='value',\n",
              "                                                                                 handle_unknown='value',\n",
              "                                                                                 return_df=True,\n",
              "                                                                                 use_cat_names=False,\n",
              "                                                                                 verbose=0))],\n",
              "                                                           verbose=False),\n",
              "                                                  ['Sex', 'Embarked'])],\n",
              "                                   verbose=False)),\n",
              "                ('nb', GaussianNB(priors=None, var_smoothing=1e-09))],\n",
              "         verbose=False)"
            ]
          },
          "metadata": {
            "tags": []
          },
          "execution_count": 38
        }
      ]
    },
    {
      "cell_type": "markdown",
      "metadata": {
        "id": "zy7qRJQCgAjI"
      },
      "source": [
        "### Avaliação dos modelos definidos nos pipelines"
      ]
    },
    {
      "cell_type": "code",
      "metadata": {
        "colab": {
          "base_uri": "https://localhost:8080/"
        },
        "id": "VHt_WXnWgDot",
        "outputId": "4da4a5bd-f001-48bc-e9e8-91fda7af0429"
      },
      "source": [
        "print(\"Score Logistic Regression: {:.2f}\".format(model_lr.score(X_test, y_test)))\n",
        "print(\"Score Naive Bayes: {:.2f}\".format(model_nb.score(X_test, y_test)))"
      ],
      "execution_count": null,
      "outputs": [
        {
          "output_type": "stream",
          "text": [
            "Score Logistic Regression: 0.78\n",
            "Score Naive Bayes: 0.71\n"
          ],
          "name": "stdout"
        }
      ]
    },
    {
      "cell_type": "markdown",
      "metadata": {
        "id": "LLCGzSLVhWjJ"
      },
      "source": [
        "## Exercício"
      ]
    },
    {
      "cell_type": "markdown",
      "metadata": {
        "id": "zcPErzqwhanX"
      },
      "source": [
        "### Tarefas\n",
        "* Adicionar Scalers para a variável `Fare`\n",
        "* Adicionar Discretizador para a variável `Age`"
      ]
    }
  ]
}