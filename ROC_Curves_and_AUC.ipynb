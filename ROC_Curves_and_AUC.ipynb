{
  "nbformat": 4,
  "nbformat_minor": 0,
  "metadata": {
    "colab": {
      "name": "ROC Curves and AUC.ipynb",
      "provenance": [],
      "collapsed_sections": [],
      "include_colab_link": true
    },
    "kernelspec": {
      "name": "python3",
      "display_name": "Python 3"
    }
  },
  "cells": [
    {
      "cell_type": "markdown",
      "metadata": {
        "id": "view-in-github",
        "colab_type": "text"
      },
      "source": [
        "<a href=\"https://colab.research.google.com/github/mrcrdg/jupyter_set/blob/master/ROC_Curves_and_AUC.ipynb\" target=\"_parent\"><img src=\"https://colab.research.google.com/assets/colab-badge.svg\" alt=\"Open In Colab\"/></a>"
      ]
    },
    {
      "cell_type": "markdown",
      "metadata": {
        "id": "rFjjYEW98lFE"
      },
      "source": [
        "# ROC Curves"
      ]
    },
    {
      "cell_type": "markdown",
      "metadata": {
        "id": "em_rGWg6ly0d"
      },
      "source": [
        "Toy example: "
      ]
    },
    {
      "cell_type": "code",
      "metadata": {
        "id": "GEoN6RZv8wEg"
      },
      "source": [
        "import numpy as np\n",
        "from sklearn.metrics import roc_curve, roc_auc_score\n",
        "import matplotlib.pyplot as plt"
      ],
      "execution_count": null,
      "outputs": []
    },
    {
      "cell_type": "markdown",
      "metadata": {
        "id": "Jnsxyn-Bl6Nn"
      },
      "source": [
        "Generate some data with some probabilities"
      ]
    },
    {
      "cell_type": "code",
      "metadata": {
        "id": "iXyNlz3h8pZ0",
        "colab": {
          "base_uri": "https://localhost:8080/"
        },
        "outputId": "4b9cbcc1-d466-4056-92d4-c46ad18ef10b"
      },
      "source": [
        "y = np.array([1, 1, 1, 2, 1, 1, 2, 1, 1, 2, 2])\n",
        "scores = np.array([0.1, 0.1, 0.2, 0.3, 0.4, 0.4, 0.5, 0.6, 0.7, 0.8, 0.9])\n",
        "fpr, tpr, thresholds = roc_curve(y, scores, pos_label=2)\n",
        "roc_auc = roc_auc_score(y, scores)\n",
        "print(\"AUC: {}\".format(roc_auc))"
      ],
      "execution_count": null,
      "outputs": [
        {
          "output_type": "stream",
          "text": [
            "AUC: 0.7857142857142858\n"
          ],
          "name": "stdout"
        }
      ]
    },
    {
      "cell_type": "markdown",
      "metadata": {
        "id": "a_JeInWVl_6p"
      },
      "source": [
        "Plot the ROC curve"
      ]
    },
    {
      "cell_type": "code",
      "metadata": {
        "id": "kf7F4jfE9BNq",
        "colab": {
          "base_uri": "https://localhost:8080/",
          "height": 282
        },
        "outputId": "d07312ba-825c-4031-ab61-81231beb2a20"
      },
      "source": [
        "plt.figure()\n",
        "plt.plot(fpr, tpr)"
      ],
      "execution_count": null,
      "outputs": [
        {
          "output_type": "execute_result",
          "data": {
            "text/plain": [
              "[<matplotlib.lines.Line2D at 0x7f4fefeee2e8>]"
            ]
          },
          "metadata": {
            "tags": []
          },
          "execution_count": 20
        },
        {
          "output_type": "display_data",
          "data": {
            "image/png": "[encoded data removed]",
            "text/plain": [
              "<Figure size 432x288 with 1 Axes>"
            ]
          },
          "metadata": {
            "tags": [],
            "needs_background": "light"
          }
        }
      ]
    },
    {
      "cell_type": "markdown",
      "metadata": {
        "id": "yBGyKr7u-ljp"
      },
      "source": [
        "## A more real example"
      ]
    },
    {
      "cell_type": "markdown",
      "metadata": {
        "id": "gSl8MJuimRp9"
      },
      "source": [
        "First do the needed imports"
      ]
    },
    {
      "cell_type": "code",
      "metadata": {
        "id": "3rREJliimVqN"
      },
      "source": [
        "# roc curve and auc\n",
        "from sklearn.datasets import make_classification\n",
        "from sklearn.linear_model import LogisticRegression\n",
        "from sklearn.model_selection import train_test_split\n",
        "from sklearn.metrics import roc_curve\n",
        "from sklearn.metrics import roc_auc_score\n",
        "from matplotlib import pyplot"
      ],
      "execution_count": null,
      "outputs": []
    },
    {
      "cell_type": "markdown",
      "metadata": {
        "id": "En9U-pU_mzEM"
      },
      "source": [
        "Let's generate some data"
      ]
    },
    {
      "cell_type": "code",
      "metadata": {
        "id": "mTDpUceAm206"
      },
      "source": [
        "# generate 2 class dataset\n",
        "X, Y = make_classification(n_samples=1000, n_features=5, n_classes=2, \n",
        "                           random_state=1)"
      ],
      "execution_count": null,
      "outputs": []
    },
    {
      "cell_type": "markdown",
      "metadata": {
        "id": "zFDdk9jDoLiC"
      },
      "source": [
        "Inspect the generated clasification problem"
      ]
    },
    {
      "cell_type": "code",
      "metadata": {
        "id": "l2Wsxdimm6V7",
        "colab": {
          "base_uri": "https://localhost:8080/"
        },
        "outputId": "6477b45f-fa04-4720-e483-296d0b0c886c"
      },
      "source": [
        "X[:5]"
      ],
      "execution_count": null,
      "outputs": [
        {
          "output_type": "execute_result",
          "data": {
            "text/plain": [
              "array([[-1.39087601,  0.62478042,  3.4809096 ,  2.3823372 ,  0.38622388],\n",
              "       [-0.48529475,  0.30051483,  1.33915253,  0.84620081,  1.17745439],\n",
              "       [-0.73504687,  0.13412273,  1.54350554,  1.22343943, -0.62879943],\n",
              "       [ 0.6594484 ,  1.47747999,  1.0281535 , -0.80770875, -0.34350003],\n",
              "       [ 0.17288184,  0.99271923,  1.18375139, -0.10191134,  0.08911753]])"
            ]
          },
          "metadata": {
            "tags": []
          },
          "execution_count": 54
        }
      ]
    },
    {
      "cell_type": "code",
      "metadata": {
        "id": "PaeYdi76n7tV",
        "colab": {
          "base_uri": "https://localhost:8080/"
        },
        "outputId": "57c6d5a9-3cbf-4289-fe0c-34863908b920"
      },
      "source": [
        "Y[:10]"
      ],
      "execution_count": null,
      "outputs": [
        {
          "output_type": "execute_result",
          "data": {
            "text/plain": [
              "array([1, 1, 1, 1, 0, 1, 1, 0, 0, 0])"
            ]
          },
          "metadata": {
            "tags": []
          },
          "execution_count": 40
        }
      ]
    },
    {
      "cell_type": "markdown",
      "metadata": {
        "id": "o_Gk9EZyoVYO"
      },
      "source": [
        "Now we will split the data into train and test:"
      ]
    },
    {
      "cell_type": "code",
      "metadata": {
        "id": "FopQGklfobeM"
      },
      "source": [
        "trainX, testX, trainY, testY = train_test_split(X, Y, test_size=0.5, \n",
        "                                                random_state=2)"
      ],
      "execution_count": null,
      "outputs": []
    },
    {
      "cell_type": "markdown",
      "metadata": {
        "id": "AYMUlkxjo7J4"
      },
      "source": [
        "Let's train a Logistic Regression Model"
      ]
    },
    {
      "cell_type": "code",
      "metadata": {
        "id": "Qz8yqJUWo-5P",
        "colab": {
          "base_uri": "https://localhost:8080/"
        },
        "outputId": "2d6885f8-47ec-4732-87b2-5d1bf8f837b2"
      },
      "source": [
        "# fit a model\n",
        "model = LogisticRegression()\n",
        "model.fit(trainX, trainY)"
      ],
      "execution_count": null,
      "outputs": [
        {
          "output_type": "execute_result",
          "data": {
            "text/plain": [
              "LogisticRegression(C=1.0, class_weight=None, dual=False, fit_intercept=True,\n",
              "                   intercept_scaling=1, l1_ratio=None, max_iter=100,\n",
              "                   multi_class='auto', n_jobs=None, penalty='l2',\n",
              "                   random_state=None, solver='lbfgs', tol=0.0001, verbose=0,\n",
              "                   warm_start=False)"
            ]
          },
          "metadata": {
            "tags": []
          },
          "execution_count": 9
        }
      ]
    },
    {
      "cell_type": "markdown",
      "metadata": {
        "id": "UUBDEVYYpPuJ"
      },
      "source": [
        "Now we need to evaluate the model on the test Data."
      ]
    },
    {
      "cell_type": "code",
      "metadata": {
        "id": "ECK_Hve_pUWu"
      },
      "source": [
        "pred_prob = model.predict_proba(testX)"
      ],
      "execution_count": null,
      "outputs": []
    },
    {
      "cell_type": "markdown",
      "metadata": {
        "id": "GTrJXuQvpc0y"
      },
      "source": [
        "We are going to keep only the positive outcome"
      ]
    },
    {
      "cell_type": "code",
      "metadata": {
        "id": "GeoVXzhsp1EV"
      },
      "source": [
        "pred_prob = pred_prob[:,1]"
      ],
      "execution_count": null,
      "outputs": []
    },
    {
      "cell_type": "markdown",
      "metadata": {
        "id": "wserdwkPqV8r"
      },
      "source": [
        "Calculate the AUC score:"
      ]
    },
    {
      "cell_type": "code",
      "metadata": {
        "id": "tWpFmx91qbnx",
        "colab": {
          "base_uri": "https://localhost:8080/"
        },
        "outputId": "97b95351-115b-4bec-9df0-29020c195e76"
      },
      "source": [
        "auc = roc_auc_score(testY, pred_prob)\n",
        "print(\"AUC score: {:.3f}\".format(auc))"
      ],
      "execution_count": null,
      "outputs": [
        {
          "output_type": "stream",
          "text": [
            "AUC score: 0.934\n"
          ],
          "name": "stdout"
        }
      ]
    },
    {
      "cell_type": "markdown",
      "metadata": {
        "id": "-jxtZHKTq0rm"
      },
      "source": [
        "Let's calculate the ROC curve parameters:"
      ]
    },
    {
      "cell_type": "code",
      "metadata": {
        "id": "OmC6kA3gq39n"
      },
      "source": [
        "false_positive_rate, true_positive_rate, thresholds = roc_curve(testY, \n",
        "                                                                pred_prob)"
      ],
      "execution_count": null,
      "outputs": []
    },
    {
      "cell_type": "code",
      "metadata": {
        "colab": {
          "base_uri": "https://localhost:8080/"
        },
        "id": "YiHqtxI6_vJi",
        "outputId": "e67d7f92-cd76-4fad-cf66-d5921354595b"
      },
      "source": [
        "thresholds"
      ],
      "execution_count": null,
      "outputs": [
        {
          "output_type": "execute_result",
          "data": {
            "text/plain": [
              "array([1.99908406e+00, 9.99084055e-01, 9.57352912e-01, 9.56858653e-01,\n",
              "       9.22318086e-01, 9.22033477e-01, 9.10108838e-01, 9.08405345e-01,\n",
              "       8.86861981e-01, 8.86484147e-01, 8.85071397e-01, 8.83524086e-01,\n",
              "       8.46080635e-01, 8.44828861e-01, 8.33978603e-01, 8.30958702e-01,\n",
              "       8.12248239e-01, 8.12149104e-01, 7.98410990e-01, 7.98339264e-01,\n",
              "       7.77237346e-01, 7.74813814e-01, 7.67204554e-01, 7.61994279e-01,\n",
              "       7.26183768e-01, 7.26070252e-01, 7.20544680e-01, 7.17619830e-01,\n",
              "       6.81943633e-01, 6.79844992e-01, 6.68820045e-01, 6.62512323e-01,\n",
              "       6.49650133e-01, 6.39874271e-01, 6.36939202e-01, 6.36500750e-01,\n",
              "       6.24258500e-01, 6.23801996e-01, 5.95035817e-01, 5.90411214e-01,\n",
              "       5.63198784e-01, 5.62913555e-01, 5.01094978e-01, 4.89883619e-01,\n",
              "       4.85615535e-01, 4.77044290e-01, 4.61820824e-01, 4.37522669e-01,\n",
              "       4.35191800e-01, 4.29798204e-01, 4.26126764e-01, 4.21353424e-01,\n",
              "       4.06040960e-01, 3.97777828e-01, 3.95993550e-01, 3.84623522e-01,\n",
              "       3.75871011e-01, 3.69948038e-01, 3.65326857e-01, 3.58065446e-01,\n",
              "       3.51692063e-01, 3.06494591e-01, 3.03050173e-01, 2.97376165e-01,\n",
              "       2.95920412e-01, 2.87059923e-01, 2.81518578e-01, 2.81422630e-01,\n",
              "       2.80551331e-01, 2.39878364e-01, 2.27013167e-01, 2.23672403e-01,\n",
              "       2.19281504e-01, 2.01698624e-01, 1.99217285e-01, 1.94606789e-01,\n",
              "       1.93739176e-01, 1.82633991e-01, 1.78981056e-01, 1.62835291e-01,\n",
              "       1.62116797e-01, 1.29900796e-01, 1.29774719e-01, 1.07034073e-01,\n",
              "       1.05781838e-01, 8.06233665e-02, 7.87061848e-02, 7.52054713e-02,\n",
              "       7.43008880e-02, 3.59718363e-02, 3.52148761e-02, 3.15126016e-02,\n",
              "       2.95300726e-02, 1.76879557e-02, 1.76710029e-02, 6.85880260e-04])"
            ]
          },
          "metadata": {
            "tags": []
          },
          "execution_count": 19
        }
      ]
    },
    {
      "cell_type": "markdown",
      "metadata": {
        "id": "-wNa6Si8qr_-"
      },
      "source": [
        "Now we plot the curve:"
      ]
    },
    {
      "cell_type": "code",
      "metadata": {
        "id": "YNfrEoW5quhP",
        "colab": {
          "base_uri": "https://localhost:8080/",
          "height": 279
        },
        "outputId": "eaadff68-9fb2-4572-ce53-026806a3f10c"
      },
      "source": [
        "pyplot.plot(false_positive_rate, true_positive_rate, \n",
        "            label='Logistic Regression ROC Curve')\n",
        "# axis labels\n",
        "pyplot.xlabel('False Positive Rate')\n",
        "pyplot.ylabel('True Positive Rate')\n",
        "# show the legend\n",
        "pyplot.legend()\n",
        "# show the plot\n",
        "pyplot.show()"
      ],
      "execution_count": null,
      "outputs": [
        {
          "output_type": "display_data",
          "data": {
            "image/png": "[encoded data removed]",
            "text/plain": [
              "<Figure size 432x288 with 1 Axes>"
            ]
          },
          "metadata": {
            "tags": [],
            "needs_background": "light"
          }
        }
      ]
    },
    {
      "cell_type": "markdown",
      "metadata": {
        "id": "XoYCd0aXuRom"
      },
      "source": [
        "# Exercise"
      ]
    },
    {
      "cell_type": "markdown",
      "metadata": {
        "id": "XNG1cXe90rQH"
      },
      "source": [
        "The dataset is publically available on the Kaggle website, and it is from an ongoing cardiovascular study on residents of the town of Framingham, Massachusetts. The classification goal is to predict whether the patient has 10-year risk of future coronary heart disease (CHD).The dataset provides the patients’ information. It includes over 4,000 records and 15 attributes."
      ]
    },
    {
      "cell_type": "markdown",
      "metadata": {
        "id": "h922jGIG0xXd"
      },
      "source": [
        "Each attribute is a potential risk factor. There are both demographic, behavioral and medical risk factors."
      ]
    },
    {
      "cell_type": "markdown",
      "metadata": {
        "id": "pv1PSF81yuyS"
      },
      "source": [
        "### Download and read the data:"
      ]
    },
    {
      "cell_type": "code",
      "metadata": {
        "id": "1lbtD0xCyzEr",
        "colab": {
          "base_uri": "https://localhost:8080/"
        },
        "outputId": "bd3f503b-6ec4-4e64-a184-6d4063e9091c"
      },
      "source": [
        "!pip install gdown"
      ],
      "execution_count": null,
      "outputs": [
        {
          "output_type": "stream",
          "text": [
            "Requirement already satisfied: gdown in /usr/local/lib/python3.6/dist-packages (3.6.4)\n",
            "Requirement already satisfied: requests in /usr/local/lib/python3.6/dist-packages (from gdown) (2.23.0)\n",
            "Requirement already satisfied: six in /usr/local/lib/python3.6/dist-packages (from gdown) (1.15.0)\n",
            "Requirement already satisfied: tqdm in /usr/local/lib/python3.6/dist-packages (from gdown) (4.41.1)\n",
            "Requirement already satisfied: certifi>=2017.4.17 in /usr/local/lib/python3.6/dist-packages (from requests->gdown) (2020.6.20)\n",
            "Requirement already satisfied: idna<3,>=2.5 in /usr/local/lib/python3.6/dist-packages (from requests->gdown) (2.10)\n",
            "Requirement already satisfied: chardet<4,>=3.0.2 in /usr/local/lib/python3.6/dist-packages (from requests->gdown) (3.0.4)\n",
            "Requirement already satisfied: urllib3!=1.25.0,!=1.25.1,<1.26,>=1.21.1 in /usr/local/lib/python3.6/dist-packages (from requests->gdown) (1.24.3)\n"
          ],
          "name": "stdout"
        }
      ]
    },
    {
      "cell_type": "code",
      "metadata": {
        "id": "oMqGCmSry2Ey",
        "colab": {
          "base_uri": "https://localhost:8080/"
        },
        "outputId": "3a0cf70f-8ee4-4228-d92f-598014a36723"
      },
      "source": [
        "!gdown https://drive.google.com/uc?id=1AjsJi7hWN1jfNuqb2wFbFtQUGBbt0xe7"
      ],
      "execution_count": null,
      "outputs": [
        {
          "output_type": "stream",
          "text": [
            "Downloading...\n",
            "From: https://drive.google.com/uc?id=1AjsJi7hWN1jfNuqb2wFbFtQUGBbt0xe7\n",
            "To: /content/framingham.csv\n",
            "\r  0% 0.00/196k [00:00<?, ?B/s]\r100% 196k/196k [00:00<00:00, 69.0MB/s]\n"
          ],
          "name": "stdout"
        }
      ]
    },
    {
      "cell_type": "code",
      "metadata": {
        "id": "mfBNv26px9Rg",
        "colab": {
          "base_uri": "https://localhost:8080/"
        },
        "outputId": "f29c4496-bcc4-446f-ab86-231feeca30b2"
      },
      "source": [
        "!head -10 framingham.csv"
      ],
      "execution_count": null,
      "outputs": [
        {
          "output_type": "stream",
          "text": [
            "male,age,education,currentSmoker,cigsPerDay,BPMeds,prevalentStroke,prevalentHyp,diabetes,totChol,sysBP,diaBP,BMI,heartRate,glucose,TenYearCHD\r\n",
            "1,39,4,0,0,0,0,0,0,195,106,70,26.97,80,77,0\r\n",
            "0,46,2,0,0,0,0,0,0,250,121,81,28.73,95,76,0\r\n",
            "1,48,1,1,20,0,0,0,0,245,127.5,80,25.34,75,70,0\r\n",
            "0,61,3,1,30,0,0,1,0,225,150,95,28.58,65,103,1\r\n",
            "0,46,3,1,23,0,0,0,0,285,130,84,23.1,85,85,0\r\n",
            "0,43,2,0,0,0,0,1,0,228,180,110,30.3,77,99,0\r\n",
            "0,63,1,0,0,0,0,0,0,205,138,71,33.11,60,85,1\r\n",
            "0,45,2,1,20,0,0,0,0,313,100,71,21.68,79,78,0\r\n",
            "1,52,1,0,0,0,0,1,0,260,141.5,89,26.36,76,79,0\r\n"
          ],
          "name": "stdout"
        }
      ]
    },
    {
      "cell_type": "markdown",
      "metadata": {
        "id": "a-Y0y53Pwfqt"
      },
      "source": [
        "Read the data using Pandas"
      ]
    },
    {
      "cell_type": "code",
      "metadata": {
        "id": "q42i7QesxgKc"
      },
      "source": [
        "import pandas as pd"
      ],
      "execution_count": null,
      "outputs": []
    },
    {
      "cell_type": "code",
      "metadata": {
        "id": "R6A9KtTuxjsZ"
      },
      "source": [
        "heart_df=pd.read_csv(\"framingham.csv\")"
      ],
      "execution_count": null,
      "outputs": []
    },
    {
      "cell_type": "code",
      "metadata": {
        "id": "bWu2dmQtxpX8",
        "colab": {
          "base_uri": "https://localhost:8080/",
          "height": 204
        },
        "outputId": "e928fc87-0153-4668-e5b2-b58400d4c890"
      },
      "source": [
        "heart_df.head()"
      ],
      "execution_count": null,
      "outputs": [
        {
          "output_type": "execute_result",
          "data": {
            "text/html": [
              "<div>\n",
              "<style scoped>\n",
              "    .dataframe tbody tr th:only-of-type {\n",
              "        vertical-align: middle;\n",
              "    }\n",
              "\n",
              "    .dataframe tbody tr th {\n",
              "        vertical-align: top;\n",
              "    }\n",
              "\n",
              "    .dataframe thead th {\n",
              "        text-align: right;\n",
              "    }\n",
              "</style>\n",
              "<table border=\"1\" class=\"dataframe\">\n",
              "  <thead>\n",
              "    <tr style=\"text-align: right;\">\n",
              "      <th></th>\n",
              "      <th>male</th>\n",
              "      <th>age</th>\n",
              "      <th>education</th>\n",
              "      <th>currentSmoker</th>\n",
              "      <th>cigsPerDay</th>\n",
              "      <th>BPMeds</th>\n",
              "      <th>prevalentStroke</th>\n",
              "      <th>prevalentHyp</th>\n",
              "      <th>diabetes</th>\n",
              "      <th>totChol</th>\n",
              "      <th>sysBP</th>\n",
              "      <th>diaBP</th>\n",
              "      <th>BMI</th>\n",
              "      <th>heartRate</th>\n",
              "      <th>glucose</th>\n",
              "      <th>TenYearCHD</th>\n",
              "    </tr>\n",
              "  </thead>\n",
              "  <tbody>\n",
              "    <tr>\n",
              "      <th>0</th>\n",
              "      <td>1</td>\n",
              "      <td>39</td>\n",
              "      <td>4.0</td>\n",
              "      <td>0</td>\n",
              "      <td>0.0</td>\n",
              "      <td>0.0</td>\n",
              "      <td>0</td>\n",
              "      <td>0</td>\n",
              "      <td>0</td>\n",
              "      <td>195.0</td>\n",
              "      <td>106.0</td>\n",
              "      <td>70.0</td>\n",
              "      <td>26.97</td>\n",
              "      <td>80.0</td>\n",
              "      <td>77.0</td>\n",
              "      <td>0</td>\n",
              "    </tr>\n",
              "    <tr>\n",
              "      <th>1</th>\n",
              "      <td>0</td>\n",
              "      <td>46</td>\n",
              "      <td>2.0</td>\n",
              "      <td>0</td>\n",
              "      <td>0.0</td>\n",
              "      <td>0.0</td>\n",
              "      <td>0</td>\n",
              "      <td>0</td>\n",
              "      <td>0</td>\n",
              "      <td>250.0</td>\n",
              "      <td>121.0</td>\n",
              "      <td>81.0</td>\n",
              "      <td>28.73</td>\n",
              "      <td>95.0</td>\n",
              "      <td>76.0</td>\n",
              "      <td>0</td>\n",
              "    </tr>\n",
              "    <tr>\n",
              "      <th>2</th>\n",
              "      <td>1</td>\n",
              "      <td>48</td>\n",
              "      <td>1.0</td>\n",
              "      <td>1</td>\n",
              "      <td>20.0</td>\n",
              "      <td>0.0</td>\n",
              "      <td>0</td>\n",
              "      <td>0</td>\n",
              "      <td>0</td>\n",
              "      <td>245.0</td>\n",
              "      <td>127.5</td>\n",
              "      <td>80.0</td>\n",
              "      <td>25.34</td>\n",
              "      <td>75.0</td>\n",
              "      <td>70.0</td>\n",
              "      <td>0</td>\n",
              "    </tr>\n",
              "    <tr>\n",
              "      <th>3</th>\n",
              "      <td>0</td>\n",
              "      <td>61</td>\n",
              "      <td>3.0</td>\n",
              "      <td>1</td>\n",
              "      <td>30.0</td>\n",
              "      <td>0.0</td>\n",
              "      <td>0</td>\n",
              "      <td>1</td>\n",
              "      <td>0</td>\n",
              "      <td>225.0</td>\n",
              "      <td>150.0</td>\n",
              "      <td>95.0</td>\n",
              "      <td>28.58</td>\n",
              "      <td>65.0</td>\n",
              "      <td>103.0</td>\n",
              "      <td>1</td>\n",
              "    </tr>\n",
              "    <tr>\n",
              "      <th>4</th>\n",
              "      <td>0</td>\n",
              "      <td>46</td>\n",
              "      <td>3.0</td>\n",
              "      <td>1</td>\n",
              "      <td>23.0</td>\n",
              "      <td>0.0</td>\n",
              "      <td>0</td>\n",
              "      <td>0</td>\n",
              "      <td>0</td>\n",
              "      <td>285.0</td>\n",
              "      <td>130.0</td>\n",
              "      <td>84.0</td>\n",
              "      <td>23.10</td>\n",
              "      <td>85.0</td>\n",
              "      <td>85.0</td>\n",
              "      <td>0</td>\n",
              "    </tr>\n",
              "  </tbody>\n",
              "</table>\n",
              "</div>"
            ],
            "text/plain": [
              "   male  age  education  currentSmoker  ...    BMI  heartRate  glucose  TenYearCHD\n",
              "0     1   39        4.0              0  ...  26.97       80.0     77.0           0\n",
              "1     0   46        2.0              0  ...  28.73       95.0     76.0           0\n",
              "2     1   48        1.0              1  ...  25.34       75.0     70.0           0\n",
              "3     0   61        3.0              1  ...  28.58       65.0    103.0           1\n",
              "4     0   46        3.0              1  ...  23.10       85.0     85.0           0\n",
              "\n",
              "[5 rows x 16 columns]"
            ]
          },
          "metadata": {
            "tags": []
          },
          "execution_count": 86
        }
      ]
    },
    {
      "cell_type": "markdown",
      "metadata": {
        "id": "xRprPtNvxtkF"
      },
      "source": [
        "## Tasks\n",
        "\n",
        "1. Explore the data and build a Logistic Regression classifier to predict the `TenYearCHD` variable. \n",
        "1. Try a combination of variables in order to build the best classifier.\n",
        "1. Build ROC curves and calculate the AUC to compare the classifiers.\n",
        "1. Compare with Naive Bayes classifiers"
      ]
    }
  ]
}