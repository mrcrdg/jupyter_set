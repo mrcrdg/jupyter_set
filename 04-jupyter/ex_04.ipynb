{
 "cells": [
  {
   "cell_type": "markdown",
   "metadata": {},
   "source": [
    "Exercício 4\n",
    "Como escrever (utilizando uma célula markdown) em texto simples os símbolos utilizados pela sintaxe ( *, #, _ **)?"
   ]
  },
  {
   "cell_type": "markdown",
   "metadata": {},
   "source": [
    "Lorem ipsum **dolor sit amet, consectetur adipiscing elit. _Vestibulum posuere semper ligula, a pellentesque sapien mattis sed. #Morbi tellus magna, auctor nec porta vestibulum, tincidunt sed sapien. ~Morbi at neque rutrum, tempor lacus eu, posuere ante. Nullam vestibulum facilisis quam ac gravida."
   ]
  },
  {
   "cell_type": "code",
   "execution_count": null,
   "metadata": {},
   "outputs": [],
   "source": []
  },
  {
   "cell_type": "code",
   "execution_count": null,
   "metadata": {},
   "outputs": [],
   "source": []
  }
 ],
 "metadata": {
  "kernelspec": {
   "display_name": "Python 3",
   "language": "python",
   "name": "python3"
  },
  "language_info": {
   "codemirror_mode": {
    "name": "ipython",
    "version": 3
   },
   "file_extension": ".py",
   "mimetype": "text/x-python",
   "name": "python",
   "nbconvert_exporter": "python",
   "pygments_lexer": "ipython3",
   "version": "3.8.3"
  }
 },
 "nbformat": 4,
 "nbformat_minor": 4
}
